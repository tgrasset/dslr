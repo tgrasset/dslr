{
 "cells": [
  {
   "cell_type": "code",
   "execution_count": 7,
   "metadata": {},
   "outputs": [
    {
     "name": "stdout",
     "output_type": "stream",
     "text": [
      "<class 'pandas.core.frame.DataFrame'>\n",
      "RangeIndex: 400 entries, 0 to 399\n",
      "Data columns (total 19 columns):\n",
      " #   Column                         Non-Null Count  Dtype  \n",
      "---  ------                         --------------  -----  \n",
      " 0   Index                          400 non-null    int64  \n",
      " 1   Hogwarts House                 0 non-null      float64\n",
      " 2   First Name                     400 non-null    object \n",
      " 3   Last Name                      400 non-null    object \n",
      " 4   Birthday                       400 non-null    object \n",
      " 5   Best Hand                      400 non-null    object \n",
      " 6   Arithmancy                     387 non-null    float64\n",
      " 7   Astronomy                      387 non-null    float64\n",
      " 8   Herbology                      389 non-null    float64\n",
      " 9   Defense Against the Dark Arts  392 non-null    float64\n",
      " 10  Divination                     394 non-null    float64\n",
      " 11  Muggle Studies                 390 non-null    float64\n",
      " 12  Ancient Runes                  392 non-null    float64\n",
      " 13  History of Magic               389 non-null    float64\n",
      " 14  Transfiguration                389 non-null    float64\n",
      " 15  Potions                        390 non-null    float64\n",
      " 16  Care of Magical Creatures      392 non-null    float64\n",
      " 17  Charms                         400 non-null    float64\n",
      " 18  Flying                         400 non-null    float64\n",
      "dtypes: float64(14), int64(1), object(4)\n",
      "memory usage: 59.5+ KB\n"
     ]
    }
   ],
   "source": [
    "import pandas as pd\n",
    "import describe\n",
    "\n",
    "data = pd.read_csv(\"datasets/dataset_test.csv\")\n",
    "data.info()"
   ]
  },
  {
   "cell_type": "code",
   "execution_count": null,
   "metadata": {},
   "outputs": [],
   "source": [
    "print(\"Differences identified:\")\n",
    "display(describe.describe(data)[describe.describe(data) != data.describe()])\n",
    "print(\"Original pandas describe method:\")\n",
    "display(data.describe())"
   ]
  },
  {
   "cell_type": "code",
   "execution_count": null,
   "metadata": {},
   "outputs": [],
   "source": []
  }
 ],
 "metadata": {
  "kernelspec": {
   "display_name": "Python 3",
   "language": "python",
   "name": "python3"
  },
  "language_info": {
   "codemirror_mode": {
    "name": "ipython",
    "version": 3
   },
   "file_extension": ".py",
   "mimetype": "text/x-python",
   "name": "python",
   "nbconvert_exporter": "python",
   "pygments_lexer": "ipython3",
   "version": "3.10.13"
  }
 },
 "nbformat": 4,
 "nbformat_minor": 2
}
