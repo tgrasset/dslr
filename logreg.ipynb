{
 "cells": [
  {
   "cell_type": "code",
   "execution_count": 1,
   "metadata": {},
   "outputs": [],
   "source": [
    "import pandas as pd\n",
    "import numpy as np\n",
    "import seaborn as sns\n",
    "import matplotlib.pyplot as plt\n",
    "import plotly.express as px\n",
    "import plotly.graph_objects as go"
   ]
  },
  {
   "cell_type": "code",
   "execution_count": 2,
   "metadata": {},
   "outputs": [
    {
     "data": {
      "text/html": [
       "<div>\n",
       "<style scoped>\n",
       "    .dataframe tbody tr th:only-of-type {\n",
       "        vertical-align: middle;\n",
       "    }\n",
       "\n",
       "    .dataframe tbody tr th {\n",
       "        vertical-align: top;\n",
       "    }\n",
       "\n",
       "    .dataframe thead th {\n",
       "        text-align: right;\n",
       "    }\n",
       "</style>\n",
       "<table border=\"1\" class=\"dataframe\">\n",
       "  <thead>\n",
       "    <tr style=\"text-align: right;\">\n",
       "      <th></th>\n",
       "      <th>Hogwarts House</th>\n",
       "      <th>Best Hand</th>\n",
       "      <th>Astronomy</th>\n",
       "      <th>Herbology</th>\n",
       "      <th>Divination</th>\n",
       "      <th>Muggle Studies</th>\n",
       "      <th>Ancient Runes</th>\n",
       "      <th>History of Magic</th>\n",
       "      <th>Transfiguration</th>\n",
       "      <th>Potions</th>\n",
       "      <th>Charms</th>\n",
       "      <th>Flying</th>\n",
       "      <th>Birthday Weekday</th>\n",
       "      <th>Birthday Year</th>\n",
       "      <th>Birthday Month</th>\n",
       "    </tr>\n",
       "  </thead>\n",
       "  <tbody>\n",
       "    <tr>\n",
       "      <th>0</th>\n",
       "      <td>Ravenclaw</td>\n",
       "      <td>Left</td>\n",
       "      <td>-487.886086</td>\n",
       "      <td>5.727180</td>\n",
       "      <td>4.722</td>\n",
       "      <td>272.035831</td>\n",
       "      <td>532.484226</td>\n",
       "      <td>5.231058</td>\n",
       "      <td>1039.788281</td>\n",
       "      <td>3.790369</td>\n",
       "      <td>-232.79405</td>\n",
       "      <td>-26.89</td>\n",
       "      <td>3</td>\n",
       "      <td>2000</td>\n",
       "      <td>3</td>\n",
       "    </tr>\n",
       "    <tr>\n",
       "      <th>1</th>\n",
       "      <td>Slytherin</td>\n",
       "      <td>Right</td>\n",
       "      <td>-552.060507</td>\n",
       "      <td>-5.987446</td>\n",
       "      <td>-5.612</td>\n",
       "      <td>-487.340557</td>\n",
       "      <td>367.760303</td>\n",
       "      <td>4.107170</td>\n",
       "      <td>1058.944592</td>\n",
       "      <td>7.248742</td>\n",
       "      <td>-252.18425</td>\n",
       "      <td>-113.45</td>\n",
       "      <td>3</td>\n",
       "      <td>1999</td>\n",
       "      <td>10</td>\n",
       "    </tr>\n",
       "    <tr>\n",
       "      <th>2</th>\n",
       "      <td>Ravenclaw</td>\n",
       "      <td>Left</td>\n",
       "      <td>-366.076117</td>\n",
       "      <td>7.725017</td>\n",
       "      <td>6.140</td>\n",
       "      <td>664.893521</td>\n",
       "      <td>602.585284</td>\n",
       "      <td>3.555579</td>\n",
       "      <td>1088.088348</td>\n",
       "      <td>8.728531</td>\n",
       "      <td>-227.34265</td>\n",
       "      <td>30.42</td>\n",
       "      <td>2</td>\n",
       "      <td>1999</td>\n",
       "      <td>11</td>\n",
       "    </tr>\n",
       "    <tr>\n",
       "      <th>3</th>\n",
       "      <td>Gryffindor</td>\n",
       "      <td>Left</td>\n",
       "      <td>697.742809</td>\n",
       "      <td>-6.497214</td>\n",
       "      <td>4.026</td>\n",
       "      <td>-537.001128</td>\n",
       "      <td>523.982133</td>\n",
       "      <td>-4.809637</td>\n",
       "      <td>920.391449</td>\n",
       "      <td>0.821911</td>\n",
       "      <td>-256.84675</td>\n",
       "      <td>200.64</td>\n",
       "      <td>5</td>\n",
       "      <td>2000</td>\n",
       "      <td>8</td>\n",
       "    </tr>\n",
       "    <tr>\n",
       "      <th>4</th>\n",
       "      <td>Gryffindor</td>\n",
       "      <td>Left</td>\n",
       "      <td>436.775204</td>\n",
       "      <td>-7.820623</td>\n",
       "      <td>2.236</td>\n",
       "      <td>-444.262537</td>\n",
       "      <td>599.324514</td>\n",
       "      <td>-3.444377</td>\n",
       "      <td>937.434724</td>\n",
       "      <td>4.311066</td>\n",
       "      <td>-256.38730</td>\n",
       "      <td>157.98</td>\n",
       "      <td>6</td>\n",
       "      <td>1998</td>\n",
       "      <td>9</td>\n",
       "    </tr>\n",
       "    <tr>\n",
       "      <th>...</th>\n",
       "      <td>...</td>\n",
       "      <td>...</td>\n",
       "      <td>...</td>\n",
       "      <td>...</td>\n",
       "      <td>...</td>\n",
       "      <td>...</td>\n",
       "      <td>...</td>\n",
       "      <td>...</td>\n",
       "      <td>...</td>\n",
       "      <td>...</td>\n",
       "      <td>...</td>\n",
       "      <td>...</td>\n",
       "      <td>...</td>\n",
       "      <td>...</td>\n",
       "      <td>...</td>\n",
       "    </tr>\n",
       "    <tr>\n",
       "      <th>1595</th>\n",
       "      <td>Gryffindor</td>\n",
       "      <td>Right</td>\n",
       "      <td>354.280086</td>\n",
       "      <td>-4.541837</td>\n",
       "      <td>5.702</td>\n",
       "      <td>-497.235066</td>\n",
       "      <td>618.220213</td>\n",
       "      <td>-5.231721</td>\n",
       "      <td>964.219853</td>\n",
       "      <td>3.389086</td>\n",
       "      <td>-250.39401</td>\n",
       "      <td>185.83</td>\n",
       "      <td>4</td>\n",
       "      <td>2001</td>\n",
       "      <td>9</td>\n",
       "    </tr>\n",
       "    <tr>\n",
       "      <th>1596</th>\n",
       "      <td>Slytherin</td>\n",
       "      <td>Left</td>\n",
       "      <td>367.531174</td>\n",
       "      <td>6.061064</td>\n",
       "      <td>1.757</td>\n",
       "      <td>-643.271092</td>\n",
       "      <td>445.827565</td>\n",
       "      <td>2.238112</td>\n",
       "      <td>1056.147366</td>\n",
       "      <td>5.825263</td>\n",
       "      <td>-246.42719</td>\n",
       "      <td>44.80</td>\n",
       "      <td>3</td>\n",
       "      <td>1998</td>\n",
       "      <td>3</td>\n",
       "    </tr>\n",
       "    <tr>\n",
       "      <th>1597</th>\n",
       "      <td>Gryffindor</td>\n",
       "      <td>Right</td>\n",
       "      <td>544.018925</td>\n",
       "      <td>-3.203269</td>\n",
       "      <td>6.065</td>\n",
       "      <td>-385.150457</td>\n",
       "      <td>635.211486</td>\n",
       "      <td>-5.984257</td>\n",
       "      <td>953.866685</td>\n",
       "      <td>1.709808</td>\n",
       "      <td>-251.63679</td>\n",
       "      <td>198.47</td>\n",
       "      <td>6</td>\n",
       "      <td>1999</td>\n",
       "      <td>10</td>\n",
       "    </tr>\n",
       "    <tr>\n",
       "      <th>1598</th>\n",
       "      <td>Hufflepuff</td>\n",
       "      <td>Left</td>\n",
       "      <td>453.676219</td>\n",
       "      <td>3.442831</td>\n",
       "      <td>6.738</td>\n",
       "      <td>-831.741123</td>\n",
       "      <td>383.444937</td>\n",
       "      <td>3.813111</td>\n",
       "      <td>1087.949205</td>\n",
       "      <td>3.904100</td>\n",
       "      <td>-246.19072</td>\n",
       "      <td>-76.81</td>\n",
       "      <td>4</td>\n",
       "      <td>2001</td>\n",
       "      <td>9</td>\n",
       "    </tr>\n",
       "    <tr>\n",
       "      <th>1599</th>\n",
       "      <td>Hufflepuff</td>\n",
       "      <td>Left</td>\n",
       "      <td>688.911989</td>\n",
       "      <td>5.421046</td>\n",
       "      <td>6.593</td>\n",
       "      <td>-234.207911</td>\n",
       "      <td>339.775154</td>\n",
       "      <td>7.208415</td>\n",
       "      <td>1034.928004</td>\n",
       "      <td>2.052215</td>\n",
       "      <td>-244.02063</td>\n",
       "      <td>-54.77</td>\n",
       "      <td>0</td>\n",
       "      <td>2000</td>\n",
       "      <td>8</td>\n",
       "    </tr>\n",
       "  </tbody>\n",
       "</table>\n",
       "<p>1600 rows × 15 columns</p>\n",
       "</div>"
      ],
      "text/plain": [
       "     Hogwarts House Best Hand   Astronomy  Herbology  Divination  \\\n",
       "0         Ravenclaw      Left -487.886086   5.727180       4.722   \n",
       "1         Slytherin     Right -552.060507  -5.987446      -5.612   \n",
       "2         Ravenclaw      Left -366.076117   7.725017       6.140   \n",
       "3        Gryffindor      Left  697.742809  -6.497214       4.026   \n",
       "4        Gryffindor      Left  436.775204  -7.820623       2.236   \n",
       "...             ...       ...         ...        ...         ...   \n",
       "1595     Gryffindor     Right  354.280086  -4.541837       5.702   \n",
       "1596      Slytherin      Left  367.531174   6.061064       1.757   \n",
       "1597     Gryffindor     Right  544.018925  -3.203269       6.065   \n",
       "1598     Hufflepuff      Left  453.676219   3.442831       6.738   \n",
       "1599     Hufflepuff      Left  688.911989   5.421046       6.593   \n",
       "\n",
       "      Muggle Studies  Ancient Runes  History of Magic  Transfiguration  \\\n",
       "0         272.035831     532.484226          5.231058      1039.788281   \n",
       "1        -487.340557     367.760303          4.107170      1058.944592   \n",
       "2         664.893521     602.585284          3.555579      1088.088348   \n",
       "3        -537.001128     523.982133         -4.809637       920.391449   \n",
       "4        -444.262537     599.324514         -3.444377       937.434724   \n",
       "...              ...            ...               ...              ...   \n",
       "1595     -497.235066     618.220213         -5.231721       964.219853   \n",
       "1596     -643.271092     445.827565          2.238112      1056.147366   \n",
       "1597     -385.150457     635.211486         -5.984257       953.866685   \n",
       "1598     -831.741123     383.444937          3.813111      1087.949205   \n",
       "1599     -234.207911     339.775154          7.208415      1034.928004   \n",
       "\n",
       "       Potions     Charms  Flying  Birthday Weekday  Birthday Year  \\\n",
       "0     3.790369 -232.79405  -26.89                 3           2000   \n",
       "1     7.248742 -252.18425 -113.45                 3           1999   \n",
       "2     8.728531 -227.34265   30.42                 2           1999   \n",
       "3     0.821911 -256.84675  200.64                 5           2000   \n",
       "4     4.311066 -256.38730  157.98                 6           1998   \n",
       "...        ...        ...     ...               ...            ...   \n",
       "1595  3.389086 -250.39401  185.83                 4           2001   \n",
       "1596  5.825263 -246.42719   44.80                 3           1998   \n",
       "1597  1.709808 -251.63679  198.47                 6           1999   \n",
       "1598  3.904100 -246.19072  -76.81                 4           2001   \n",
       "1599  2.052215 -244.02063  -54.77                 0           2000   \n",
       "\n",
       "      Birthday Month  \n",
       "0                  3  \n",
       "1                 10  \n",
       "2                 11  \n",
       "3                  8  \n",
       "4                  9  \n",
       "...              ...  \n",
       "1595               9  \n",
       "1596               3  \n",
       "1597              10  \n",
       "1598               9  \n",
       "1599               8  \n",
       "\n",
       "[1600 rows x 15 columns]"
      ]
     },
     "execution_count": 2,
     "metadata": {},
     "output_type": "execute_result"
    }
   ],
   "source": [
    "data = pd.read_csv(\"datasets/dataset_train.csv\")\n",
    "data['Birthday'] = pd.to_datetime(data['Birthday'])\n",
    "data['Birthday Weekday'] = data['Birthday'].dt.dayofweek\n",
    "data['Birthday Year'] = data['Birthday'].dt.year\n",
    "data['Birthday Month'] = data['Birthday'].dt.month\n",
    "data = data.drop(columns=['Index', 'First Name', 'Last Name', 'Birthday', 'Defense Against the Dark Arts', 'Arithmancy', 'Care of Magical Creatures'])\n",
    "data"
   ]
  },
  {
   "cell_type": "code",
   "execution_count": 3,
   "metadata": {},
   "outputs": [
    {
     "data": {
      "text/plain": [
       "<Axes: xlabel='Hogwarts House', ylabel='Birthday Weekday'>"
      ]
     },
     "execution_count": 3,
     "metadata": {},
     "output_type": "execute_result"
    },
    {
     "data": {
      "image/png": "[encoded data removed]",
      "text/plain": [
       "<Figure size 640x480 with 1 Axes>"
      ]
     },
     "metadata": {},
     "output_type": "display_data"
    }
   ],
   "source": [
    "sns.boxplot(data=data, x='Hogwarts House', y='Birthday Weekday')"
   ]
  },
  {
   "cell_type": "code",
   "execution_count": 4,
   "metadata": {},
   "outputs": [
    {
     "data": {
      "text/plain": [
       "<Axes: xlabel='Hogwarts House', ylabel='Birthday Month'>"
      ]
     },
     "execution_count": 4,
     "metadata": {},
     "output_type": "execute_result"
    },
    {
     "data": {
      "image/png": "[encoded data removed]",
      "text/plain": [
       "<Figure size 640x480 with 1 Axes>"
      ]
     },
     "metadata": {},
     "output_type": "display_data"
    }
   ],
   "source": [
    "sns.violinplot(data=data, x='Hogwarts House', y='Birthday Month')"
   ]
  },
  {
   "cell_type": "code",
   "execution_count": 5,
   "metadata": {},
   "outputs": [
    {
     "data": {
      "text/plain": [
       "<Axes: xlabel='Hogwarts House', ylabel='Birthday Year'>"
      ]
     },
     "execution_count": 5,
     "metadata": {},
     "output_type": "execute_result"
    },
    {
     "data": {
      "image/png": "[encoded data removed]",
      "text/plain": [
       "<Figure size 640x480 with 1 Axes>"
      ]
     },
     "metadata": {},
     "output_type": "display_data"
    }
   ],
   "source": [
    "sns.boxplot(data=data, x='Hogwarts House', y='Birthday Year')"
   ]
  },
  {
   "cell_type": "code",
   "execution_count": 6,
   "metadata": {},
   "outputs": [],
   "source": [
    "def ft_train_test_split(data, test_size=0.25, stratify_col=None, random_state=None):\n",
    "    if not stratify_col:\n",
    "        data_train = data.sample(frac=1-test_size, random_state=random_state)\n",
    "    else:\n",
    "        groups = data.groupby(stratify_col).groups\n",
    "        data_train = pd.DataFrame()\n",
    "        for group in groups.values():\n",
    "            group_sample = data.iloc[group].sample(frac=1-test_size, random_state=random_state)\n",
    "            data_train = pd.concat([data_train, group_sample])\n",
    "    data_test = data.iloc[data.index.difference(data_train.index)]\n",
    "    return (data_train, data_test)"
   ]
  },
  {
   "cell_type": "code",
   "execution_count": 7,
   "metadata": {},
   "outputs": [
    {
     "data": {
      "text/html": [
       "<div>\n",
       "<style scoped>\n",
       "    .dataframe tbody tr th:only-of-type {\n",
       "        vertical-align: middle;\n",
       "    }\n",
       "\n",
       "    .dataframe tbody tr th {\n",
       "        vertical-align: top;\n",
       "    }\n",
       "\n",
       "    .dataframe thead th {\n",
       "        text-align: right;\n",
       "    }\n",
       "</style>\n",
       "<table border=\"1\" class=\"dataframe\">\n",
       "  <thead>\n",
       "    <tr style=\"text-align: right;\">\n",
       "      <th></th>\n",
       "      <th>Hogwarts House</th>\n",
       "      <th>Best Hand</th>\n",
       "      <th>Astronomy</th>\n",
       "      <th>Herbology</th>\n",
       "      <th>Divination</th>\n",
       "      <th>Muggle Studies</th>\n",
       "      <th>Ancient Runes</th>\n",
       "      <th>History of Magic</th>\n",
       "      <th>Transfiguration</th>\n",
       "      <th>Potions</th>\n",
       "      <th>Charms</th>\n",
       "      <th>Flying</th>\n",
       "      <th>Birthday Weekday</th>\n",
       "      <th>Birthday Year</th>\n",
       "      <th>Birthday Month</th>\n",
       "    </tr>\n",
       "  </thead>\n",
       "  <tbody>\n",
       "    <tr>\n",
       "      <th>615</th>\n",
       "      <td>Gryffindor</td>\n",
       "      <td>Right</td>\n",
       "      <td>604.751042</td>\n",
       "      <td>-4.761269</td>\n",
       "      <td>4.824</td>\n",
       "      <td>-330.079791</td>\n",
       "      <td>616.044385</td>\n",
       "      <td>-4.945047</td>\n",
       "      <td>942.209764</td>\n",
       "      <td>2.254483</td>\n",
       "      <td>-253.85094</td>\n",
       "      <td>186.85</td>\n",
       "      <td>2</td>\n",
       "      <td>1997</td>\n",
       "      <td>4</td>\n",
       "    </tr>\n",
       "    <tr>\n",
       "      <th>879</th>\n",
       "      <td>Gryffindor</td>\n",
       "      <td>Left</td>\n",
       "      <td>569.436312</td>\n",
       "      <td>-5.153783</td>\n",
       "      <td>6.479</td>\n",
       "      <td>-350.956255</td>\n",
       "      <td>573.910363</td>\n",
       "      <td>-4.013581</td>\n",
       "      <td>948.759374</td>\n",
       "      <td>2.744015</td>\n",
       "      <td>-250.98901</td>\n",
       "      <td>183.22</td>\n",
       "      <td>4</td>\n",
       "      <td>2000</td>\n",
       "      <td>5</td>\n",
       "    </tr>\n",
       "    <tr>\n",
       "      <th>399</th>\n",
       "      <td>Gryffindor</td>\n",
       "      <td>Right</td>\n",
       "      <td>634.501500</td>\n",
       "      <td>-6.855740</td>\n",
       "      <td>3.211</td>\n",
       "      <td>-108.574695</td>\n",
       "      <td>617.553811</td>\n",
       "      <td>-1.740121</td>\n",
       "      <td>955.817691</td>\n",
       "      <td>5.799412</td>\n",
       "      <td>-255.11472</td>\n",
       "      <td>121.40</td>\n",
       "      <td>1</td>\n",
       "      <td>2000</td>\n",
       "      <td>1</td>\n",
       "    </tr>\n",
       "    <tr>\n",
       "      <th>885</th>\n",
       "      <td>Gryffindor</td>\n",
       "      <td>Right</td>\n",
       "      <td>731.238654</td>\n",
       "      <td>-4.549645</td>\n",
       "      <td>2.776</td>\n",
       "      <td>-851.417369</td>\n",
       "      <td>627.391767</td>\n",
       "      <td>-6.908759</td>\n",
       "      <td>910.392757</td>\n",
       "      <td>1.463259</td>\n",
       "      <td>-259.51864</td>\n",
       "      <td>256.57</td>\n",
       "      <td>4</td>\n",
       "      <td>1997</td>\n",
       "      <td>1</td>\n",
       "    </tr>\n",
       "    <tr>\n",
       "      <th>671</th>\n",
       "      <td>Gryffindor</td>\n",
       "      <td>Right</td>\n",
       "      <td>723.738847</td>\n",
       "      <td>-3.273226</td>\n",
       "      <td>4.066</td>\n",
       "      <td>-832.329044</td>\n",
       "      <td>641.575899</td>\n",
       "      <td>-6.005476</td>\n",
       "      <td>954.515657</td>\n",
       "      <td>5.712511</td>\n",
       "      <td>-255.12801</td>\n",
       "      <td>254.99</td>\n",
       "      <td>1</td>\n",
       "      <td>1997</td>\n",
       "      <td>7</td>\n",
       "    </tr>\n",
       "    <tr>\n",
       "      <th>...</th>\n",
       "      <td>...</td>\n",
       "      <td>...</td>\n",
       "      <td>...</td>\n",
       "      <td>...</td>\n",
       "      <td>...</td>\n",
       "      <td>...</td>\n",
       "      <td>...</td>\n",
       "      <td>...</td>\n",
       "      <td>...</td>\n",
       "      <td>...</td>\n",
       "      <td>...</td>\n",
       "      <td>...</td>\n",
       "      <td>...</td>\n",
       "      <td>...</td>\n",
       "      <td>...</td>\n",
       "    </tr>\n",
       "    <tr>\n",
       "      <th>769</th>\n",
       "      <td>Slytherin</td>\n",
       "      <td>Left</td>\n",
       "      <td>-471.222323</td>\n",
       "      <td>-2.230513</td>\n",
       "      <td>-4.405</td>\n",
       "      <td>-460.407658</td>\n",
       "      <td>445.534911</td>\n",
       "      <td>3.974861</td>\n",
       "      <td>1023.494693</td>\n",
       "      <td>7.993615</td>\n",
       "      <td>-248.13382</td>\n",
       "      <td>-5.42</td>\n",
       "      <td>2</td>\n",
       "      <td>1999</td>\n",
       "      <td>1</td>\n",
       "    </tr>\n",
       "    <tr>\n",
       "      <th>905</th>\n",
       "      <td>Slytherin</td>\n",
       "      <td>Right</td>\n",
       "      <td>-435.767482</td>\n",
       "      <td>-6.990929</td>\n",
       "      <td>-6.371</td>\n",
       "      <td>-583.297628</td>\n",
       "      <td>366.870052</td>\n",
       "      <td>4.655959</td>\n",
       "      <td>1066.951960</td>\n",
       "      <td>8.895538</td>\n",
       "      <td>-254.72690</td>\n",
       "      <td>-128.72</td>\n",
       "      <td>5</td>\n",
       "      <td>1998</td>\n",
       "      <td>10</td>\n",
       "    </tr>\n",
       "    <tr>\n",
       "      <th>1424</th>\n",
       "      <td>Slytherin</td>\n",
       "      <td>Left</td>\n",
       "      <td>-486.774286</td>\n",
       "      <td>-5.894275</td>\n",
       "      <td>-6.540</td>\n",
       "      <td>-424.816974</td>\n",
       "      <td>391.075997</td>\n",
       "      <td>6.358912</td>\n",
       "      <td>1031.537229</td>\n",
       "      <td>8.964686</td>\n",
       "      <td>-252.34178</td>\n",
       "      <td>-94.83</td>\n",
       "      <td>5</td>\n",
       "      <td>2001</td>\n",
       "      <td>6</td>\n",
       "    </tr>\n",
       "    <tr>\n",
       "      <th>1220</th>\n",
       "      <td>Slytherin</td>\n",
       "      <td>Left</td>\n",
       "      <td>-354.496856</td>\n",
       "      <td>-3.928853</td>\n",
       "      <td>-6.172</td>\n",
       "      <td>-390.222174</td>\n",
       "      <td>418.464607</td>\n",
       "      <td>2.456552</td>\n",
       "      <td>1041.486530</td>\n",
       "      <td>7.144740</td>\n",
       "      <td>-253.03832</td>\n",
       "      <td>-42.87</td>\n",
       "      <td>4</td>\n",
       "      <td>1999</td>\n",
       "      <td>8</td>\n",
       "    </tr>\n",
       "    <tr>\n",
       "      <th>1374</th>\n",
       "      <td>Slytherin</td>\n",
       "      <td>Right</td>\n",
       "      <td>-502.085748</td>\n",
       "      <td>-6.614204</td>\n",
       "      <td>-6.391</td>\n",
       "      <td>-490.092638</td>\n",
       "      <td>371.189048</td>\n",
       "      <td>6.639299</td>\n",
       "      <td>1053.663916</td>\n",
       "      <td>10.853374</td>\n",
       "      <td>-251.70933</td>\n",
       "      <td>-106.15</td>\n",
       "      <td>3</td>\n",
       "      <td>1998</td>\n",
       "      <td>12</td>\n",
       "    </tr>\n",
       "  </tbody>\n",
       "</table>\n",
       "<p>1200 rows × 15 columns</p>\n",
       "</div>"
      ],
      "text/plain": [
       "     Hogwarts House Best Hand   Astronomy  Herbology  Divination  \\\n",
       "615      Gryffindor     Right  604.751042  -4.761269       4.824   \n",
       "879      Gryffindor      Left  569.436312  -5.153783       6.479   \n",
       "399      Gryffindor     Right  634.501500  -6.855740       3.211   \n",
       "885      Gryffindor     Right  731.238654  -4.549645       2.776   \n",
       "671      Gryffindor     Right  723.738847  -3.273226       4.066   \n",
       "...             ...       ...         ...        ...         ...   \n",
       "769       Slytherin      Left -471.222323  -2.230513      -4.405   \n",
       "905       Slytherin     Right -435.767482  -6.990929      -6.371   \n",
       "1424      Slytherin      Left -486.774286  -5.894275      -6.540   \n",
       "1220      Slytherin      Left -354.496856  -3.928853      -6.172   \n",
       "1374      Slytherin     Right -502.085748  -6.614204      -6.391   \n",
       "\n",
       "      Muggle Studies  Ancient Runes  History of Magic  Transfiguration  \\\n",
       "615      -330.079791     616.044385         -4.945047       942.209764   \n",
       "879      -350.956255     573.910363         -4.013581       948.759374   \n",
       "399      -108.574695     617.553811         -1.740121       955.817691   \n",
       "885      -851.417369     627.391767         -6.908759       910.392757   \n",
       "671      -832.329044     641.575899         -6.005476       954.515657   \n",
       "...              ...            ...               ...              ...   \n",
       "769      -460.407658     445.534911          3.974861      1023.494693   \n",
       "905      -583.297628     366.870052          4.655959      1066.951960   \n",
       "1424     -424.816974     391.075997          6.358912      1031.537229   \n",
       "1220     -390.222174     418.464607          2.456552      1041.486530   \n",
       "1374     -490.092638     371.189048          6.639299      1053.663916   \n",
       "\n",
       "        Potions     Charms  Flying  Birthday Weekday  Birthday Year  \\\n",
       "615    2.254483 -253.85094  186.85                 2           1997   \n",
       "879    2.744015 -250.98901  183.22                 4           2000   \n",
       "399    5.799412 -255.11472  121.40                 1           2000   \n",
       "885    1.463259 -259.51864  256.57                 4           1997   \n",
       "671    5.712511 -255.12801  254.99                 1           1997   \n",
       "...         ...        ...     ...               ...            ...   \n",
       "769    7.993615 -248.13382   -5.42                 2           1999   \n",
       "905    8.895538 -254.72690 -128.72                 5           1998   \n",
       "1424   8.964686 -252.34178  -94.83                 5           2001   \n",
       "1220   7.144740 -253.03832  -42.87                 4           1999   \n",
       "1374  10.853374 -251.70933 -106.15                 3           1998   \n",
       "\n",
       "      Birthday Month  \n",
       "615                4  \n",
       "879                5  \n",
       "399                1  \n",
       "885                1  \n",
       "671                7  \n",
       "...              ...  \n",
       "769                1  \n",
       "905               10  \n",
       "1424               6  \n",
       "1220               8  \n",
       "1374              12  \n",
       "\n",
       "[1200 rows x 15 columns]"
      ]
     },
     "metadata": {},
     "output_type": "display_data"
    },
    {
     "data": {
      "text/html": [
       "<div>\n",
       "<style scoped>\n",
       "    .dataframe tbody tr th:only-of-type {\n",
       "        vertical-align: middle;\n",
       "    }\n",
       "\n",
       "    .dataframe tbody tr th {\n",
       "        vertical-align: top;\n",
       "    }\n",
       "\n",
       "    .dataframe thead th {\n",
       "        text-align: right;\n",
       "    }\n",
       "</style>\n",
       "<table border=\"1\" class=\"dataframe\">\n",
       "  <thead>\n",
       "    <tr style=\"text-align: right;\">\n",
       "      <th></th>\n",
       "      <th>Hogwarts House</th>\n",
       "      <th>Best Hand</th>\n",
       "      <th>Astronomy</th>\n",
       "      <th>Herbology</th>\n",
       "      <th>Divination</th>\n",
       "      <th>Muggle Studies</th>\n",
       "      <th>Ancient Runes</th>\n",
       "      <th>History of Magic</th>\n",
       "      <th>Transfiguration</th>\n",
       "      <th>Potions</th>\n",
       "      <th>Charms</th>\n",
       "      <th>Flying</th>\n",
       "      <th>Birthday Weekday</th>\n",
       "      <th>Birthday Year</th>\n",
       "      <th>Birthday Month</th>\n",
       "    </tr>\n",
       "  </thead>\n",
       "  <tbody>\n",
       "    <tr>\n",
       "      <th>2</th>\n",
       "      <td>Ravenclaw</td>\n",
       "      <td>Left</td>\n",
       "      <td>-366.076117</td>\n",
       "      <td>7.725017</td>\n",
       "      <td>6.140</td>\n",
       "      <td>664.893521</td>\n",
       "      <td>602.585284</td>\n",
       "      <td>3.555579</td>\n",
       "      <td>1088.088348</td>\n",
       "      <td>8.728531</td>\n",
       "      <td>-227.34265</td>\n",
       "      <td>30.42</td>\n",
       "      <td>2</td>\n",
       "      <td>1999</td>\n",
       "      <td>11</td>\n",
       "    </tr>\n",
       "    <tr>\n",
       "      <th>7</th>\n",
       "      <td>Hufflepuff</td>\n",
       "      <td>Right</td>\n",
       "      <td>411.412727</td>\n",
       "      <td>5.931832</td>\n",
       "      <td>2.769</td>\n",
       "      <td>-502.021336</td>\n",
       "      <td>439.351416</td>\n",
       "      <td>NaN</td>\n",
       "      <td>1041.091935</td>\n",
       "      <td>6.581791</td>\n",
       "      <td>-244.03492</td>\n",
       "      <td>72.25</td>\n",
       "      <td>1</td>\n",
       "      <td>1997</td>\n",
       "      <td>7</td>\n",
       "    </tr>\n",
       "    <tr>\n",
       "      <th>10</th>\n",
       "      <td>Hufflepuff</td>\n",
       "      <td>Right</td>\n",
       "      <td>604.933962</td>\n",
       "      <td>5.484189</td>\n",
       "      <td>5.358</td>\n",
       "      <td>-530.795896</td>\n",
       "      <td>484.872671</td>\n",
       "      <td>5.699654</td>\n",
       "      <td>1036.285357</td>\n",
       "      <td>9.293132</td>\n",
       "      <td>-242.69168</td>\n",
       "      <td>64.61</td>\n",
       "      <td>3</td>\n",
       "      <td>1998</td>\n",
       "      <td>5</td>\n",
       "    </tr>\n",
       "    <tr>\n",
       "      <th>12</th>\n",
       "      <td>Hufflepuff</td>\n",
       "      <td>Right</td>\n",
       "      <td>709.094614</td>\n",
       "      <td>1.705389</td>\n",
       "      <td>7.091</td>\n",
       "      <td>-328.712955</td>\n",
       "      <td>435.502183</td>\n",
       "      <td>6.300649</td>\n",
       "      <td>1037.028317</td>\n",
       "      <td>8.110274</td>\n",
       "      <td>-244.00363</td>\n",
       "      <td>7.56</td>\n",
       "      <td>0</td>\n",
       "      <td>2000</td>\n",
       "      <td>3</td>\n",
       "    </tr>\n",
       "    <tr>\n",
       "      <th>13</th>\n",
       "      <td>Slytherin</td>\n",
       "      <td>Left</td>\n",
       "      <td>-544.192049</td>\n",
       "      <td>-7.308856</td>\n",
       "      <td>-6.180</td>\n",
       "      <td>-319.946875</td>\n",
       "      <td>391.652916</td>\n",
       "      <td>2.914732</td>\n",
       "      <td>1082.581409</td>\n",
       "      <td>10.948791</td>\n",
       "      <td>-251.12516</td>\n",
       "      <td>-80.42</td>\n",
       "      <td>3</td>\n",
       "      <td>1997</td>\n",
       "      <td>2</td>\n",
       "    </tr>\n",
       "    <tr>\n",
       "      <th>...</th>\n",
       "      <td>...</td>\n",
       "      <td>...</td>\n",
       "      <td>...</td>\n",
       "      <td>...</td>\n",
       "      <td>...</td>\n",
       "      <td>...</td>\n",
       "      <td>...</td>\n",
       "      <td>...</td>\n",
       "      <td>...</td>\n",
       "      <td>...</td>\n",
       "      <td>...</td>\n",
       "      <td>...</td>\n",
       "      <td>...</td>\n",
       "      <td>...</td>\n",
       "      <td>...</td>\n",
       "    </tr>\n",
       "    <tr>\n",
       "      <th>1586</th>\n",
       "      <td>Slytherin</td>\n",
       "      <td>Left</td>\n",
       "      <td>-485.249736</td>\n",
       "      <td>-8.390447</td>\n",
       "      <td>-6.040</td>\n",
       "      <td>-522.882041</td>\n",
       "      <td>370.798886</td>\n",
       "      <td>6.622655</td>\n",
       "      <td>1066.781683</td>\n",
       "      <td>11.485894</td>\n",
       "      <td>-253.02158</td>\n",
       "      <td>-138.01</td>\n",
       "      <td>3</td>\n",
       "      <td>1999</td>\n",
       "      <td>1</td>\n",
       "    </tr>\n",
       "    <tr>\n",
       "      <th>1588</th>\n",
       "      <td>Slytherin</td>\n",
       "      <td>Right</td>\n",
       "      <td>-492.510311</td>\n",
       "      <td>-2.208650</td>\n",
       "      <td>-7.270</td>\n",
       "      <td>-622.936567</td>\n",
       "      <td>NaN</td>\n",
       "      <td>2.201186</td>\n",
       "      <td>1069.012391</td>\n",
       "      <td>9.117247</td>\n",
       "      <td>-250.91192</td>\n",
       "      <td>-19.50</td>\n",
       "      <td>4</td>\n",
       "      <td>1999</td>\n",
       "      <td>4</td>\n",
       "    </tr>\n",
       "    <tr>\n",
       "      <th>1593</th>\n",
       "      <td>Ravenclaw</td>\n",
       "      <td>Left</td>\n",
       "      <td>-426.175401</td>\n",
       "      <td>5.681107</td>\n",
       "      <td>6.205</td>\n",
       "      <td>473.879478</td>\n",
       "      <td>647.238809</td>\n",
       "      <td>6.254227</td>\n",
       "      <td>1046.815627</td>\n",
       "      <td>7.206156</td>\n",
       "      <td>-230.80139</td>\n",
       "      <td>-29.82</td>\n",
       "      <td>3</td>\n",
       "      <td>1998</td>\n",
       "      <td>1</td>\n",
       "    </tr>\n",
       "    <tr>\n",
       "      <th>1596</th>\n",
       "      <td>Slytherin</td>\n",
       "      <td>Left</td>\n",
       "      <td>367.531174</td>\n",
       "      <td>6.061064</td>\n",
       "      <td>1.757</td>\n",
       "      <td>-643.271092</td>\n",
       "      <td>445.827565</td>\n",
       "      <td>2.238112</td>\n",
       "      <td>1056.147366</td>\n",
       "      <td>5.825263</td>\n",
       "      <td>-246.42719</td>\n",
       "      <td>44.80</td>\n",
       "      <td>3</td>\n",
       "      <td>1998</td>\n",
       "      <td>3</td>\n",
       "    </tr>\n",
       "    <tr>\n",
       "      <th>1597</th>\n",
       "      <td>Gryffindor</td>\n",
       "      <td>Right</td>\n",
       "      <td>544.018925</td>\n",
       "      <td>-3.203269</td>\n",
       "      <td>6.065</td>\n",
       "      <td>-385.150457</td>\n",
       "      <td>635.211486</td>\n",
       "      <td>-5.984257</td>\n",
       "      <td>953.866685</td>\n",
       "      <td>1.709808</td>\n",
       "      <td>-251.63679</td>\n",
       "      <td>198.47</td>\n",
       "      <td>6</td>\n",
       "      <td>1999</td>\n",
       "      <td>10</td>\n",
       "    </tr>\n",
       "  </tbody>\n",
       "</table>\n",
       "<p>400 rows × 15 columns</p>\n",
       "</div>"
      ],
      "text/plain": [
       "     Hogwarts House Best Hand   Astronomy  Herbology  Divination  \\\n",
       "2         Ravenclaw      Left -366.076117   7.725017       6.140   \n",
       "7        Hufflepuff     Right  411.412727   5.931832       2.769   \n",
       "10       Hufflepuff     Right  604.933962   5.484189       5.358   \n",
       "12       Hufflepuff     Right  709.094614   1.705389       7.091   \n",
       "13        Slytherin      Left -544.192049  -7.308856      -6.180   \n",
       "...             ...       ...         ...        ...         ...   \n",
       "1586      Slytherin      Left -485.249736  -8.390447      -6.040   \n",
       "1588      Slytherin     Right -492.510311  -2.208650      -7.270   \n",
       "1593      Ravenclaw      Left -426.175401   5.681107       6.205   \n",
       "1596      Slytherin      Left  367.531174   6.061064       1.757   \n",
       "1597     Gryffindor     Right  544.018925  -3.203269       6.065   \n",
       "\n",
       "      Muggle Studies  Ancient Runes  History of Magic  Transfiguration  \\\n",
       "2         664.893521     602.585284          3.555579      1088.088348   \n",
       "7        -502.021336     439.351416               NaN      1041.091935   \n",
       "10       -530.795896     484.872671          5.699654      1036.285357   \n",
       "12       -328.712955     435.502183          6.300649      1037.028317   \n",
       "13       -319.946875     391.652916          2.914732      1082.581409   \n",
       "...              ...            ...               ...              ...   \n",
       "1586     -522.882041     370.798886          6.622655      1066.781683   \n",
       "1588     -622.936567            NaN          2.201186      1069.012391   \n",
       "1593      473.879478     647.238809          6.254227      1046.815627   \n",
       "1596     -643.271092     445.827565          2.238112      1056.147366   \n",
       "1597     -385.150457     635.211486         -5.984257       953.866685   \n",
       "\n",
       "        Potions     Charms  Flying  Birthday Weekday  Birthday Year  \\\n",
       "2      8.728531 -227.34265   30.42                 2           1999   \n",
       "7      6.581791 -244.03492   72.25                 1           1997   \n",
       "10     9.293132 -242.69168   64.61                 3           1998   \n",
       "12     8.110274 -244.00363    7.56                 0           2000   \n",
       "13    10.948791 -251.12516  -80.42                 3           1997   \n",
       "...         ...        ...     ...               ...            ...   \n",
       "1586  11.485894 -253.02158 -138.01                 3           1999   \n",
       "1588   9.117247 -250.91192  -19.50                 4           1999   \n",
       "1593   7.206156 -230.80139  -29.82                 3           1998   \n",
       "1596   5.825263 -246.42719   44.80                 3           1998   \n",
       "1597   1.709808 -251.63679  198.47                 6           1999   \n",
       "\n",
       "      Birthday Month  \n",
       "2                 11  \n",
       "7                  7  \n",
       "10                 5  \n",
       "12                 3  \n",
       "13                 2  \n",
       "...              ...  \n",
       "1586               1  \n",
       "1588               4  \n",
       "1593               1  \n",
       "1596               3  \n",
       "1597              10  \n",
       "\n",
       "[400 rows x 15 columns]"
      ]
     },
     "metadata": {},
     "output_type": "display_data"
    }
   ],
   "source": [
    "data_train, data_test = ft_train_test_split(data, stratify_col='Hogwarts House')\n",
    "display(data_train)\n",
    "display(data_test)"
   ]
  },
  {
   "cell_type": "code",
   "execution_count": 8,
   "metadata": {},
   "outputs": [
    {
     "data": {
      "text/html": [
       "<div>\n",
       "<style scoped>\n",
       "    .dataframe tbody tr th:only-of-type {\n",
       "        vertical-align: middle;\n",
       "    }\n",
       "\n",
       "    .dataframe tbody tr th {\n",
       "        vertical-align: top;\n",
       "    }\n",
       "\n",
       "    .dataframe thead th {\n",
       "        text-align: right;\n",
       "    }\n",
       "</style>\n",
       "<table border=\"1\" class=\"dataframe\">\n",
       "  <thead>\n",
       "    <tr style=\"text-align: right;\">\n",
       "      <th></th>\n",
       "      <th>Best Hand</th>\n",
       "      <th>Astronomy</th>\n",
       "      <th>Herbology</th>\n",
       "      <th>Divination</th>\n",
       "      <th>Muggle Studies</th>\n",
       "      <th>Ancient Runes</th>\n",
       "      <th>History of Magic</th>\n",
       "      <th>Transfiguration</th>\n",
       "      <th>Potions</th>\n",
       "      <th>Charms</th>\n",
       "      <th>Flying</th>\n",
       "      <th>Birthday Year</th>\n",
       "      <th>Birthday Month</th>\n",
       "    </tr>\n",
       "  </thead>\n",
       "  <tbody>\n",
       "    <tr>\n",
       "      <th>615</th>\n",
       "      <td>Right</td>\n",
       "      <td>604.751042</td>\n",
       "      <td>-4.761269</td>\n",
       "      <td>4.824</td>\n",
       "      <td>-330.079791</td>\n",
       "      <td>616.044385</td>\n",
       "      <td>-4.945047</td>\n",
       "      <td>942.209764</td>\n",
       "      <td>2.254483</td>\n",
       "      <td>-253.85094</td>\n",
       "      <td>186.85</td>\n",
       "      <td>1997</td>\n",
       "      <td>4</td>\n",
       "    </tr>\n",
       "    <tr>\n",
       "      <th>879</th>\n",
       "      <td>Left</td>\n",
       "      <td>569.436312</td>\n",
       "      <td>-5.153783</td>\n",
       "      <td>6.479</td>\n",
       "      <td>-350.956255</td>\n",
       "      <td>573.910363</td>\n",
       "      <td>-4.013581</td>\n",
       "      <td>948.759374</td>\n",
       "      <td>2.744015</td>\n",
       "      <td>-250.98901</td>\n",
       "      <td>183.22</td>\n",
       "      <td>2000</td>\n",
       "      <td>5</td>\n",
       "    </tr>\n",
       "    <tr>\n",
       "      <th>399</th>\n",
       "      <td>Right</td>\n",
       "      <td>634.501500</td>\n",
       "      <td>-6.855740</td>\n",
       "      <td>3.211</td>\n",
       "      <td>-108.574695</td>\n",
       "      <td>617.553811</td>\n",
       "      <td>-1.740121</td>\n",
       "      <td>955.817691</td>\n",
       "      <td>5.799412</td>\n",
       "      <td>-255.11472</td>\n",
       "      <td>121.40</td>\n",
       "      <td>2000</td>\n",
       "      <td>1</td>\n",
       "    </tr>\n",
       "    <tr>\n",
       "      <th>885</th>\n",
       "      <td>Right</td>\n",
       "      <td>731.238654</td>\n",
       "      <td>-4.549645</td>\n",
       "      <td>2.776</td>\n",
       "      <td>-851.417369</td>\n",
       "      <td>627.391767</td>\n",
       "      <td>-6.908759</td>\n",
       "      <td>910.392757</td>\n",
       "      <td>1.463259</td>\n",
       "      <td>-259.51864</td>\n",
       "      <td>256.57</td>\n",
       "      <td>1997</td>\n",
       "      <td>1</td>\n",
       "    </tr>\n",
       "    <tr>\n",
       "      <th>671</th>\n",
       "      <td>Right</td>\n",
       "      <td>723.738847</td>\n",
       "      <td>-3.273226</td>\n",
       "      <td>4.066</td>\n",
       "      <td>-832.329044</td>\n",
       "      <td>641.575899</td>\n",
       "      <td>-6.005476</td>\n",
       "      <td>954.515657</td>\n",
       "      <td>5.712511</td>\n",
       "      <td>-255.12801</td>\n",
       "      <td>254.99</td>\n",
       "      <td>1997</td>\n",
       "      <td>7</td>\n",
       "    </tr>\n",
       "    <tr>\n",
       "      <th>...</th>\n",
       "      <td>...</td>\n",
       "      <td>...</td>\n",
       "      <td>...</td>\n",
       "      <td>...</td>\n",
       "      <td>...</td>\n",
       "      <td>...</td>\n",
       "      <td>...</td>\n",
       "      <td>...</td>\n",
       "      <td>...</td>\n",
       "      <td>...</td>\n",
       "      <td>...</td>\n",
       "      <td>...</td>\n",
       "      <td>...</td>\n",
       "    </tr>\n",
       "    <tr>\n",
       "      <th>769</th>\n",
       "      <td>Left</td>\n",
       "      <td>-471.222323</td>\n",
       "      <td>-2.230513</td>\n",
       "      <td>-4.405</td>\n",
       "      <td>-460.407658</td>\n",
       "      <td>445.534911</td>\n",
       "      <td>3.974861</td>\n",
       "      <td>1023.494693</td>\n",
       "      <td>7.993615</td>\n",
       "      <td>-248.13382</td>\n",
       "      <td>-5.42</td>\n",
       "      <td>1999</td>\n",
       "      <td>1</td>\n",
       "    </tr>\n",
       "    <tr>\n",
       "      <th>905</th>\n",
       "      <td>Right</td>\n",
       "      <td>-435.767482</td>\n",
       "      <td>-6.990929</td>\n",
       "      <td>-6.371</td>\n",
       "      <td>-583.297628</td>\n",
       "      <td>366.870052</td>\n",
       "      <td>4.655959</td>\n",
       "      <td>1066.951960</td>\n",
       "      <td>8.895538</td>\n",
       "      <td>-254.72690</td>\n",
       "      <td>-128.72</td>\n",
       "      <td>1998</td>\n",
       "      <td>10</td>\n",
       "    </tr>\n",
       "    <tr>\n",
       "      <th>1424</th>\n",
       "      <td>Left</td>\n",
       "      <td>-486.774286</td>\n",
       "      <td>-5.894275</td>\n",
       "      <td>-6.540</td>\n",
       "      <td>-424.816974</td>\n",
       "      <td>391.075997</td>\n",
       "      <td>6.358912</td>\n",
       "      <td>1031.537229</td>\n",
       "      <td>8.964686</td>\n",
       "      <td>-252.34178</td>\n",
       "      <td>-94.83</td>\n",
       "      <td>2001</td>\n",
       "      <td>6</td>\n",
       "    </tr>\n",
       "    <tr>\n",
       "      <th>1220</th>\n",
       "      <td>Left</td>\n",
       "      <td>-354.496856</td>\n",
       "      <td>-3.928853</td>\n",
       "      <td>-6.172</td>\n",
       "      <td>-390.222174</td>\n",
       "      <td>418.464607</td>\n",
       "      <td>2.456552</td>\n",
       "      <td>1041.486530</td>\n",
       "      <td>7.144740</td>\n",
       "      <td>-253.03832</td>\n",
       "      <td>-42.87</td>\n",
       "      <td>1999</td>\n",
       "      <td>8</td>\n",
       "    </tr>\n",
       "    <tr>\n",
       "      <th>1374</th>\n",
       "      <td>Right</td>\n",
       "      <td>-502.085748</td>\n",
       "      <td>-6.614204</td>\n",
       "      <td>-6.391</td>\n",
       "      <td>-490.092638</td>\n",
       "      <td>371.189048</td>\n",
       "      <td>6.639299</td>\n",
       "      <td>1053.663916</td>\n",
       "      <td>10.853374</td>\n",
       "      <td>-251.70933</td>\n",
       "      <td>-106.15</td>\n",
       "      <td>1998</td>\n",
       "      <td>12</td>\n",
       "    </tr>\n",
       "  </tbody>\n",
       "</table>\n",
       "<p>1200 rows × 13 columns</p>\n",
       "</div>"
      ],
      "text/plain": [
       "     Best Hand   Astronomy  Herbology  Divination  Muggle Studies  \\\n",
       "615      Right  604.751042  -4.761269       4.824     -330.079791   \n",
       "879       Left  569.436312  -5.153783       6.479     -350.956255   \n",
       "399      Right  634.501500  -6.855740       3.211     -108.574695   \n",
       "885      Right  731.238654  -4.549645       2.776     -851.417369   \n",
       "671      Right  723.738847  -3.273226       4.066     -832.329044   \n",
       "...        ...         ...        ...         ...             ...   \n",
       "769       Left -471.222323  -2.230513      -4.405     -460.407658   \n",
       "905      Right -435.767482  -6.990929      -6.371     -583.297628   \n",
       "1424      Left -486.774286  -5.894275      -6.540     -424.816974   \n",
       "1220      Left -354.496856  -3.928853      -6.172     -390.222174   \n",
       "1374     Right -502.085748  -6.614204      -6.391     -490.092638   \n",
       "\n",
       "      Ancient Runes  History of Magic  Transfiguration    Potions     Charms  \\\n",
       "615      616.044385         -4.945047       942.209764   2.254483 -253.85094   \n",
       "879      573.910363         -4.013581       948.759374   2.744015 -250.98901   \n",
       "399      617.553811         -1.740121       955.817691   5.799412 -255.11472   \n",
       "885      627.391767         -6.908759       910.392757   1.463259 -259.51864   \n",
       "671      641.575899         -6.005476       954.515657   5.712511 -255.12801   \n",
       "...             ...               ...              ...        ...        ...   \n",
       "769      445.534911          3.974861      1023.494693   7.993615 -248.13382   \n",
       "905      366.870052          4.655959      1066.951960   8.895538 -254.72690   \n",
       "1424     391.075997          6.358912      1031.537229   8.964686 -252.34178   \n",
       "1220     418.464607          2.456552      1041.486530   7.144740 -253.03832   \n",
       "1374     371.189048          6.639299      1053.663916  10.853374 -251.70933   \n",
       "\n",
       "      Flying  Birthday Year  Birthday Month  \n",
       "615   186.85           1997               4  \n",
       "879   183.22           2000               5  \n",
       "399   121.40           2000               1  \n",
       "885   256.57           1997               1  \n",
       "671   254.99           1997               7  \n",
       "...      ...            ...             ...  \n",
       "769    -5.42           1999               1  \n",
       "905  -128.72           1998              10  \n",
       "1424  -94.83           2001               6  \n",
       "1220  -42.87           1999               8  \n",
       "1374 -106.15           1998              12  \n",
       "\n",
       "[1200 rows x 13 columns]"
      ]
     },
     "metadata": {},
     "output_type": "display_data"
    },
    {
     "data": {
      "text/html": [
       "<div>\n",
       "<style scoped>\n",
       "    .dataframe tbody tr th:only-of-type {\n",
       "        vertical-align: middle;\n",
       "    }\n",
       "\n",
       "    .dataframe tbody tr th {\n",
       "        vertical-align: top;\n",
       "    }\n",
       "\n",
       "    .dataframe thead th {\n",
       "        text-align: right;\n",
       "    }\n",
       "</style>\n",
       "<table border=\"1\" class=\"dataframe\">\n",
       "  <thead>\n",
       "    <tr style=\"text-align: right;\">\n",
       "      <th></th>\n",
       "      <th>House Slytherin</th>\n",
       "      <th>House Hufflepuff</th>\n",
       "      <th>House Gryffindor</th>\n",
       "      <th>House Ravenclaw</th>\n",
       "    </tr>\n",
       "  </thead>\n",
       "  <tbody>\n",
       "    <tr>\n",
       "      <th>615</th>\n",
       "      <td>0</td>\n",
       "      <td>0</td>\n",
       "      <td>1</td>\n",
       "      <td>0</td>\n",
       "    </tr>\n",
       "    <tr>\n",
       "      <th>879</th>\n",
       "      <td>0</td>\n",
       "      <td>0</td>\n",
       "      <td>1</td>\n",
       "      <td>0</td>\n",
       "    </tr>\n",
       "    <tr>\n",
       "      <th>399</th>\n",
       "      <td>0</td>\n",
       "      <td>0</td>\n",
       "      <td>1</td>\n",
       "      <td>0</td>\n",
       "    </tr>\n",
       "    <tr>\n",
       "      <th>885</th>\n",
       "      <td>0</td>\n",
       "      <td>0</td>\n",
       "      <td>1</td>\n",
       "      <td>0</td>\n",
       "    </tr>\n",
       "    <tr>\n",
       "      <th>671</th>\n",
       "      <td>0</td>\n",
       "      <td>0</td>\n",
       "      <td>1</td>\n",
       "      <td>0</td>\n",
       "    </tr>\n",
       "    <tr>\n",
       "      <th>...</th>\n",
       "      <td>...</td>\n",
       "      <td>...</td>\n",
       "      <td>...</td>\n",
       "      <td>...</td>\n",
       "    </tr>\n",
       "    <tr>\n",
       "      <th>769</th>\n",
       "      <td>1</td>\n",
       "      <td>0</td>\n",
       "      <td>0</td>\n",
       "      <td>0</td>\n",
       "    </tr>\n",
       "    <tr>\n",
       "      <th>905</th>\n",
       "      <td>1</td>\n",
       "      <td>0</td>\n",
       "      <td>0</td>\n",
       "      <td>0</td>\n",
       "    </tr>\n",
       "    <tr>\n",
       "      <th>1424</th>\n",
       "      <td>1</td>\n",
       "      <td>0</td>\n",
       "      <td>0</td>\n",
       "      <td>0</td>\n",
       "    </tr>\n",
       "    <tr>\n",
       "      <th>1220</th>\n",
       "      <td>1</td>\n",
       "      <td>0</td>\n",
       "      <td>0</td>\n",
       "      <td>0</td>\n",
       "    </tr>\n",
       "    <tr>\n",
       "      <th>1374</th>\n",
       "      <td>1</td>\n",
       "      <td>0</td>\n",
       "      <td>0</td>\n",
       "      <td>0</td>\n",
       "    </tr>\n",
       "  </tbody>\n",
       "</table>\n",
       "<p>1200 rows × 4 columns</p>\n",
       "</div>"
      ],
      "text/plain": [
       "      House Slytherin  House Hufflepuff  House Gryffindor  House Ravenclaw\n",
       "615                 0                 0                 1                0\n",
       "879                 0                 0                 1                0\n",
       "399                 0                 0                 1                0\n",
       "885                 0                 0                 1                0\n",
       "671                 0                 0                 1                0\n",
       "...               ...               ...               ...              ...\n",
       "769                 1                 0                 0                0\n",
       "905                 1                 0                 0                0\n",
       "1424                1                 0                 0                0\n",
       "1220                1                 0                 0                0\n",
       "1374                1                 0                 0                0\n",
       "\n",
       "[1200 rows x 4 columns]"
      ]
     },
     "metadata": {},
     "output_type": "display_data"
    }
   ],
   "source": [
    "X_train = data_train.drop(columns=['Hogwarts House', 'Birthday Weekday'])\n",
    "data_train['House Slytherin'] = (data_train['Hogwarts House'] == 'Slytherin').astype(int)\n",
    "data_train['House Hufflepuff'] = (data_train['Hogwarts House'] == 'Hufflepuff').astype(int)\n",
    "data_train['House Gryffindor'] = (data_train['Hogwarts House'] == 'Gryffindor').astype(int)\n",
    "data_train['House Ravenclaw'] = (data_train['Hogwarts House'] == 'Ravenclaw').astype(int)\n",
    "Y_train = data_train[[col for col in data_train.columns if col.startswith('House ')]]\n",
    "display(X_train)\n",
    "display(Y_train)"
   ]
  },
  {
   "cell_type": "code",
   "execution_count": 9,
   "metadata": {},
   "outputs": [
    {
     "name": "stderr",
     "output_type": "stream",
     "text": [
      "/tmp/ipykernel_498897/743598672.py:2: SettingWithCopyWarning: \n",
      "A value is trying to be set on a copy of a slice from a DataFrame.\n",
      "Try using .loc[row_indexer,col_indexer] = value instead\n",
      "\n",
      "See the caveats in the documentation: https://pandas.pydata.org/pandas-docs/stable/user_guide/indexing.html#returning-a-view-versus-a-copy\n",
      "  data_test['House Slytherin'] = (data_test['Hogwarts House'] == 'Slytherin').astype(int)\n",
      "/tmp/ipykernel_498897/743598672.py:3: SettingWithCopyWarning: \n",
      "A value is trying to be set on a copy of a slice from a DataFrame.\n",
      "Try using .loc[row_indexer,col_indexer] = value instead\n",
      "\n",
      "See the caveats in the documentation: https://pandas.pydata.org/pandas-docs/stable/user_guide/indexing.html#returning-a-view-versus-a-copy\n",
      "  data_test['House Hufflepuff'] = (data_test['Hogwarts House'] == 'Hufflepuff').astype(int)\n",
      "/tmp/ipykernel_498897/743598672.py:4: SettingWithCopyWarning: \n",
      "A value is trying to be set on a copy of a slice from a DataFrame.\n",
      "Try using .loc[row_indexer,col_indexer] = value instead\n",
      "\n",
      "See the caveats in the documentation: https://pandas.pydata.org/pandas-docs/stable/user_guide/indexing.html#returning-a-view-versus-a-copy\n",
      "  data_test['House Gryffindor'] = (data_test['Hogwarts House'] == 'Gryffindor').astype(int)\n",
      "/tmp/ipykernel_498897/743598672.py:5: SettingWithCopyWarning: \n",
      "A value is trying to be set on a copy of a slice from a DataFrame.\n",
      "Try using .loc[row_indexer,col_indexer] = value instead\n",
      "\n",
      "See the caveats in the documentation: https://pandas.pydata.org/pandas-docs/stable/user_guide/indexing.html#returning-a-view-versus-a-copy\n",
      "  data_test['House Ravenclaw'] = (data_test['Hogwarts House'] == 'Ravenclaw').astype(int)\n"
     ]
    },
    {
     "data": {
      "text/html": [
       "<div>\n",
       "<style scoped>\n",
       "    .dataframe tbody tr th:only-of-type {\n",
       "        vertical-align: middle;\n",
       "    }\n",
       "\n",
       "    .dataframe tbody tr th {\n",
       "        vertical-align: top;\n",
       "    }\n",
       "\n",
       "    .dataframe thead th {\n",
       "        text-align: right;\n",
       "    }\n",
       "</style>\n",
       "<table border=\"1\" class=\"dataframe\">\n",
       "  <thead>\n",
       "    <tr style=\"text-align: right;\">\n",
       "      <th></th>\n",
       "      <th>Best Hand</th>\n",
       "      <th>Astronomy</th>\n",
       "      <th>Herbology</th>\n",
       "      <th>Divination</th>\n",
       "      <th>Muggle Studies</th>\n",
       "      <th>Ancient Runes</th>\n",
       "      <th>History of Magic</th>\n",
       "      <th>Transfiguration</th>\n",
       "      <th>Potions</th>\n",
       "      <th>Charms</th>\n",
       "      <th>Flying</th>\n",
       "      <th>Birthday Year</th>\n",
       "      <th>Birthday Month</th>\n",
       "    </tr>\n",
       "  </thead>\n",
       "  <tbody>\n",
       "    <tr>\n",
       "      <th>2</th>\n",
       "      <td>Left</td>\n",
       "      <td>-366.076117</td>\n",
       "      <td>7.725017</td>\n",
       "      <td>6.140</td>\n",
       "      <td>664.893521</td>\n",
       "      <td>602.585284</td>\n",
       "      <td>3.555579</td>\n",
       "      <td>1088.088348</td>\n",
       "      <td>8.728531</td>\n",
       "      <td>-227.34265</td>\n",
       "      <td>30.42</td>\n",
       "      <td>1999</td>\n",
       "      <td>11</td>\n",
       "    </tr>\n",
       "    <tr>\n",
       "      <th>7</th>\n",
       "      <td>Right</td>\n",
       "      <td>411.412727</td>\n",
       "      <td>5.931832</td>\n",
       "      <td>2.769</td>\n",
       "      <td>-502.021336</td>\n",
       "      <td>439.351416</td>\n",
       "      <td>NaN</td>\n",
       "      <td>1041.091935</td>\n",
       "      <td>6.581791</td>\n",
       "      <td>-244.03492</td>\n",
       "      <td>72.25</td>\n",
       "      <td>1997</td>\n",
       "      <td>7</td>\n",
       "    </tr>\n",
       "    <tr>\n",
       "      <th>10</th>\n",
       "      <td>Right</td>\n",
       "      <td>604.933962</td>\n",
       "      <td>5.484189</td>\n",
       "      <td>5.358</td>\n",
       "      <td>-530.795896</td>\n",
       "      <td>484.872671</td>\n",
       "      <td>5.699654</td>\n",
       "      <td>1036.285357</td>\n",
       "      <td>9.293132</td>\n",
       "      <td>-242.69168</td>\n",
       "      <td>64.61</td>\n",
       "      <td>1998</td>\n",
       "      <td>5</td>\n",
       "    </tr>\n",
       "    <tr>\n",
       "      <th>12</th>\n",
       "      <td>Right</td>\n",
       "      <td>709.094614</td>\n",
       "      <td>1.705389</td>\n",
       "      <td>7.091</td>\n",
       "      <td>-328.712955</td>\n",
       "      <td>435.502183</td>\n",
       "      <td>6.300649</td>\n",
       "      <td>1037.028317</td>\n",
       "      <td>8.110274</td>\n",
       "      <td>-244.00363</td>\n",
       "      <td>7.56</td>\n",
       "      <td>2000</td>\n",
       "      <td>3</td>\n",
       "    </tr>\n",
       "    <tr>\n",
       "      <th>13</th>\n",
       "      <td>Left</td>\n",
       "      <td>-544.192049</td>\n",
       "      <td>-7.308856</td>\n",
       "      <td>-6.180</td>\n",
       "      <td>-319.946875</td>\n",
       "      <td>391.652916</td>\n",
       "      <td>2.914732</td>\n",
       "      <td>1082.581409</td>\n",
       "      <td>10.948791</td>\n",
       "      <td>-251.12516</td>\n",
       "      <td>-80.42</td>\n",
       "      <td>1997</td>\n",
       "      <td>2</td>\n",
       "    </tr>\n",
       "    <tr>\n",
       "      <th>...</th>\n",
       "      <td>...</td>\n",
       "      <td>...</td>\n",
       "      <td>...</td>\n",
       "      <td>...</td>\n",
       "      <td>...</td>\n",
       "      <td>...</td>\n",
       "      <td>...</td>\n",
       "      <td>...</td>\n",
       "      <td>...</td>\n",
       "      <td>...</td>\n",
       "      <td>...</td>\n",
       "      <td>...</td>\n",
       "      <td>...</td>\n",
       "    </tr>\n",
       "    <tr>\n",
       "      <th>1586</th>\n",
       "      <td>Left</td>\n",
       "      <td>-485.249736</td>\n",
       "      <td>-8.390447</td>\n",
       "      <td>-6.040</td>\n",
       "      <td>-522.882041</td>\n",
       "      <td>370.798886</td>\n",
       "      <td>6.622655</td>\n",
       "      <td>1066.781683</td>\n",
       "      <td>11.485894</td>\n",
       "      <td>-253.02158</td>\n",
       "      <td>-138.01</td>\n",
       "      <td>1999</td>\n",
       "      <td>1</td>\n",
       "    </tr>\n",
       "    <tr>\n",
       "      <th>1588</th>\n",
       "      <td>Right</td>\n",
       "      <td>-492.510311</td>\n",
       "      <td>-2.208650</td>\n",
       "      <td>-7.270</td>\n",
       "      <td>-622.936567</td>\n",
       "      <td>NaN</td>\n",
       "      <td>2.201186</td>\n",
       "      <td>1069.012391</td>\n",
       "      <td>9.117247</td>\n",
       "      <td>-250.91192</td>\n",
       "      <td>-19.50</td>\n",
       "      <td>1999</td>\n",
       "      <td>4</td>\n",
       "    </tr>\n",
       "    <tr>\n",
       "      <th>1593</th>\n",
       "      <td>Left</td>\n",
       "      <td>-426.175401</td>\n",
       "      <td>5.681107</td>\n",
       "      <td>6.205</td>\n",
       "      <td>473.879478</td>\n",
       "      <td>647.238809</td>\n",
       "      <td>6.254227</td>\n",
       "      <td>1046.815627</td>\n",
       "      <td>7.206156</td>\n",
       "      <td>-230.80139</td>\n",
       "      <td>-29.82</td>\n",
       "      <td>1998</td>\n",
       "      <td>1</td>\n",
       "    </tr>\n",
       "    <tr>\n",
       "      <th>1596</th>\n",
       "      <td>Left</td>\n",
       "      <td>367.531174</td>\n",
       "      <td>6.061064</td>\n",
       "      <td>1.757</td>\n",
       "      <td>-643.271092</td>\n",
       "      <td>445.827565</td>\n",
       "      <td>2.238112</td>\n",
       "      <td>1056.147366</td>\n",
       "      <td>5.825263</td>\n",
       "      <td>-246.42719</td>\n",
       "      <td>44.80</td>\n",
       "      <td>1998</td>\n",
       "      <td>3</td>\n",
       "    </tr>\n",
       "    <tr>\n",
       "      <th>1597</th>\n",
       "      <td>Right</td>\n",
       "      <td>544.018925</td>\n",
       "      <td>-3.203269</td>\n",
       "      <td>6.065</td>\n",
       "      <td>-385.150457</td>\n",
       "      <td>635.211486</td>\n",
       "      <td>-5.984257</td>\n",
       "      <td>953.866685</td>\n",
       "      <td>1.709808</td>\n",
       "      <td>-251.63679</td>\n",
       "      <td>198.47</td>\n",
       "      <td>1999</td>\n",
       "      <td>10</td>\n",
       "    </tr>\n",
       "  </tbody>\n",
       "</table>\n",
       "<p>400 rows × 13 columns</p>\n",
       "</div>"
      ],
      "text/plain": [
       "     Best Hand   Astronomy  Herbology  Divination  Muggle Studies  \\\n",
       "2         Left -366.076117   7.725017       6.140      664.893521   \n",
       "7        Right  411.412727   5.931832       2.769     -502.021336   \n",
       "10       Right  604.933962   5.484189       5.358     -530.795896   \n",
       "12       Right  709.094614   1.705389       7.091     -328.712955   \n",
       "13        Left -544.192049  -7.308856      -6.180     -319.946875   \n",
       "...        ...         ...        ...         ...             ...   \n",
       "1586      Left -485.249736  -8.390447      -6.040     -522.882041   \n",
       "1588     Right -492.510311  -2.208650      -7.270     -622.936567   \n",
       "1593      Left -426.175401   5.681107       6.205      473.879478   \n",
       "1596      Left  367.531174   6.061064       1.757     -643.271092   \n",
       "1597     Right  544.018925  -3.203269       6.065     -385.150457   \n",
       "\n",
       "      Ancient Runes  History of Magic  Transfiguration    Potions     Charms  \\\n",
       "2        602.585284          3.555579      1088.088348   8.728531 -227.34265   \n",
       "7        439.351416               NaN      1041.091935   6.581791 -244.03492   \n",
       "10       484.872671          5.699654      1036.285357   9.293132 -242.69168   \n",
       "12       435.502183          6.300649      1037.028317   8.110274 -244.00363   \n",
       "13       391.652916          2.914732      1082.581409  10.948791 -251.12516   \n",
       "...             ...               ...              ...        ...        ...   \n",
       "1586     370.798886          6.622655      1066.781683  11.485894 -253.02158   \n",
       "1588            NaN          2.201186      1069.012391   9.117247 -250.91192   \n",
       "1593     647.238809          6.254227      1046.815627   7.206156 -230.80139   \n",
       "1596     445.827565          2.238112      1056.147366   5.825263 -246.42719   \n",
       "1597     635.211486         -5.984257       953.866685   1.709808 -251.63679   \n",
       "\n",
       "      Flying  Birthday Year  Birthday Month  \n",
       "2      30.42           1999              11  \n",
       "7      72.25           1997               7  \n",
       "10     64.61           1998               5  \n",
       "12      7.56           2000               3  \n",
       "13    -80.42           1997               2  \n",
       "...      ...            ...             ...  \n",
       "1586 -138.01           1999               1  \n",
       "1588  -19.50           1999               4  \n",
       "1593  -29.82           1998               1  \n",
       "1596   44.80           1998               3  \n",
       "1597  198.47           1999              10  \n",
       "\n",
       "[400 rows x 13 columns]"
      ]
     },
     "metadata": {},
     "output_type": "display_data"
    },
    {
     "data": {
      "text/html": [
       "<div>\n",
       "<style scoped>\n",
       "    .dataframe tbody tr th:only-of-type {\n",
       "        vertical-align: middle;\n",
       "    }\n",
       "\n",
       "    .dataframe tbody tr th {\n",
       "        vertical-align: top;\n",
       "    }\n",
       "\n",
       "    .dataframe thead th {\n",
       "        text-align: right;\n",
       "    }\n",
       "</style>\n",
       "<table border=\"1\" class=\"dataframe\">\n",
       "  <thead>\n",
       "    <tr style=\"text-align: right;\">\n",
       "      <th></th>\n",
       "      <th>House Slytherin</th>\n",
       "      <th>House Hufflepuff</th>\n",
       "      <th>House Gryffindor</th>\n",
       "      <th>House Ravenclaw</th>\n",
       "    </tr>\n",
       "  </thead>\n",
       "  <tbody>\n",
       "    <tr>\n",
       "      <th>2</th>\n",
       "      <td>0</td>\n",
       "      <td>0</td>\n",
       "      <td>0</td>\n",
       "      <td>1</td>\n",
       "    </tr>\n",
       "    <tr>\n",
       "      <th>7</th>\n",
       "      <td>0</td>\n",
       "      <td>1</td>\n",
       "      <td>0</td>\n",
       "      <td>0</td>\n",
       "    </tr>\n",
       "    <tr>\n",
       "      <th>10</th>\n",
       "      <td>0</td>\n",
       "      <td>1</td>\n",
       "      <td>0</td>\n",
       "      <td>0</td>\n",
       "    </tr>\n",
       "    <tr>\n",
       "      <th>12</th>\n",
       "      <td>0</td>\n",
       "      <td>1</td>\n",
       "      <td>0</td>\n",
       "      <td>0</td>\n",
       "    </tr>\n",
       "    <tr>\n",
       "      <th>13</th>\n",
       "      <td>1</td>\n",
       "      <td>0</td>\n",
       "      <td>0</td>\n",
       "      <td>0</td>\n",
       "    </tr>\n",
       "    <tr>\n",
       "      <th>...</th>\n",
       "      <td>...</td>\n",
       "      <td>...</td>\n",
       "      <td>...</td>\n",
       "      <td>...</td>\n",
       "    </tr>\n",
       "    <tr>\n",
       "      <th>1586</th>\n",
       "      <td>1</td>\n",
       "      <td>0</td>\n",
       "      <td>0</td>\n",
       "      <td>0</td>\n",
       "    </tr>\n",
       "    <tr>\n",
       "      <th>1588</th>\n",
       "      <td>1</td>\n",
       "      <td>0</td>\n",
       "      <td>0</td>\n",
       "      <td>0</td>\n",
       "    </tr>\n",
       "    <tr>\n",
       "      <th>1593</th>\n",
       "      <td>0</td>\n",
       "      <td>0</td>\n",
       "      <td>0</td>\n",
       "      <td>1</td>\n",
       "    </tr>\n",
       "    <tr>\n",
       "      <th>1596</th>\n",
       "      <td>1</td>\n",
       "      <td>0</td>\n",
       "      <td>0</td>\n",
       "      <td>0</td>\n",
       "    </tr>\n",
       "    <tr>\n",
       "      <th>1597</th>\n",
       "      <td>0</td>\n",
       "      <td>0</td>\n",
       "      <td>1</td>\n",
       "      <td>0</td>\n",
       "    </tr>\n",
       "  </tbody>\n",
       "</table>\n",
       "<p>400 rows × 4 columns</p>\n",
       "</div>"
      ],
      "text/plain": [
       "      House Slytherin  House Hufflepuff  House Gryffindor  House Ravenclaw\n",
       "2                   0                 0                 0                1\n",
       "7                   0                 1                 0                0\n",
       "10                  0                 1                 0                0\n",
       "12                  0                 1                 0                0\n",
       "13                  1                 0                 0                0\n",
       "...               ...               ...               ...              ...\n",
       "1586                1                 0                 0                0\n",
       "1588                1                 0                 0                0\n",
       "1593                0                 0                 0                1\n",
       "1596                1                 0                 0                0\n",
       "1597                0                 0                 1                0\n",
       "\n",
       "[400 rows x 4 columns]"
      ]
     },
     "metadata": {},
     "output_type": "display_data"
    }
   ],
   "source": [
    "X_test = data_test.drop(columns=['Hogwarts House', 'Birthday Weekday'])\n",
    "data_test['House Slytherin'] = (data_test['Hogwarts House'] == 'Slytherin').astype(int)\n",
    "data_test['House Hufflepuff'] = (data_test['Hogwarts House'] == 'Hufflepuff').astype(int)\n",
    "data_test['House Gryffindor'] = (data_test['Hogwarts House'] == 'Gryffindor').astype(int)\n",
    "data_test['House Ravenclaw'] = (data_test['Hogwarts House'] == 'Ravenclaw').astype(int)\n",
    "Y_test = data_test[[col for col in data_test.columns if col.startswith('House ')]]\n",
    "display(X_test)\n",
    "display(Y_test)"
   ]
  },
  {
   "cell_type": "markdown",
   "metadata": {},
   "source": [
    "# Missing values"
   ]
  },
  {
   "cell_type": "code",
   "execution_count": 10,
   "metadata": {},
   "outputs": [],
   "source": [
    "X = pd.concat([X_train, X_test])\n",
    "Y = pd.concat([Y_train, Y_test])"
   ]
  },
  {
   "cell_type": "code",
   "execution_count": 11,
   "metadata": {},
   "outputs": [
    {
     "data": {
      "text/plain": [
       "Best Hand           0.0000\n",
       "Astronomy           2.0000\n",
       "Herbology           2.0625\n",
       "Divination          2.4375\n",
       "Muggle Studies      2.1875\n",
       "Ancient Runes       2.1875\n",
       "History of Magic    2.6875\n",
       "Transfiguration     2.1250\n",
       "Potions             1.8750\n",
       "Charms              0.0000\n",
       "Flying              0.0000\n",
       "Birthday Year       0.0000\n",
       "Birthday Month      0.0000\n",
       "dtype: float64"
      ]
     },
     "execution_count": 11,
     "metadata": {},
     "output_type": "execute_result"
    }
   ],
   "source": [
    "X.isna().sum() / len(X) * 100"
   ]
  },
  {
   "cell_type": "code",
   "execution_count": 12,
   "metadata": {},
   "outputs": [
    {
     "data": {
      "text/plain": [
       "House Slytherin     0.0\n",
       "House Hufflepuff    0.0\n",
       "House Gryffindor    0.0\n",
       "House Ravenclaw     0.0\n",
       "dtype: float64"
      ]
     },
     "execution_count": 12,
     "metadata": {},
     "output_type": "execute_result"
    }
   ],
   "source": [
    "Y.isna().sum() / len(Y) * 100"
   ]
  },
  {
   "cell_type": "code",
   "execution_count": 13,
   "metadata": {},
   "outputs": [
    {
     "data": {
      "text/plain": [
       "1    1600\n",
       "Name: count, dtype: int64"
      ]
     },
     "execution_count": 13,
     "metadata": {},
     "output_type": "execute_result"
    }
   ],
   "source": [
    "(Y['House Slytherin'] + Y['House Gryffindor'] + Y['House Ravenclaw'] + Y['House Hufflepuff']).value_counts()"
   ]
  },
  {
   "cell_type": "markdown",
   "metadata": {},
   "source": [
    "# Preprocessings"
   ]
  },
  {
   "cell_type": "code",
   "execution_count": 14,
   "metadata": {},
   "outputs": [
    {
     "data": {
      "text/plain": [
       "--- SimpleImputer ---\n",
       "Means: None\n",
       "Modes: None\n",
       "\n",
       "--- StandardScaler ---\n",
       "Means: None\n",
       "Standard Deviations: None\n",
       "\n",
       "--- OneHotEncoder ---\n",
       "Columns mapping: {}\n",
       "Drop Last: True\n"
      ]
     },
     "execution_count": 14,
     "metadata": {},
     "output_type": "execute_result"
    }
   ],
   "source": [
    "from logreg_train import SimpleImputer, StandardScaler, OneHotEncoder, PreprocessorPipeline\n",
    "numerical_cols = ['Astronomy', 'Herbology', 'Divination', 'Muggle Studies', 'Ancient Runes', 'History of Magic', 'Transfiguration', 'Potions', 'Charms', 'Flying', 'Birthday Year']\n",
    "categorical_cols = ['Birthday Month', 'Best Hand']\n",
    "imputer = SimpleImputer(numerical_cols, categorical_cols)\n",
    "scaler = StandardScaler(numerical_cols)\n",
    "ohe = OneHotEncoder(categorical_cols)\n",
    "preprocessor = PreprocessorPipeline([imputer, scaler, ohe])\n",
    "preprocessor"
   ]
  },
  {
   "cell_type": "code",
   "execution_count": 15,
   "metadata": {},
   "outputs": [
    {
     "data": {
      "text/plain": [
       "--- SimpleImputer ---\n",
       "Means: {'Astronomy': 39.34997975596599, 'Herbology': 1.1605148078279761, 'Divination': 3.1477945205479454, 'Muggle Studies': -228.74762639439086, 'Ancient Runes': 494.7172523712927, 'History of Magic': 2.962605968621041, 'Transfiguration': 1030.1523866396644, 'Potions': 5.906401534452153, 'Charms': -243.41227045833332, 'Flying': 21.22993333333334, 'Birthday Year': 1998.8108333333332}\n",
       "Modes: {'Birthday Month': 3, 'Best Hand': 'Right'}\n",
       "\n",
       "--- StandardScaler ---\n",
       "Means: {'Astronomy': 39.34997975596599, 'Herbology': 1.1605148078279761, 'Divination': 3.1477945205479454, 'Muggle Studies': -228.74762639439086, 'Ancient Runes': 494.7172523712927, 'History of Magic': 2.962605968621041, 'Transfiguration': 1030.1523866396644, 'Potions': 5.906401534452153, 'Charms': -243.41227045833332, 'Flying': 21.22993333333334, 'Birthday Year': 1998.8108333333332}\n",
       "Standard Deviations: {'Astronomy': 523.1821039768648, 'Herbology': 5.214328927011944, 'Divination': 4.149792873563048, 'Muggle Studies': 487.4823009105005, 'Ancient Runes': 106.68192433986124, 'History of Magic': 4.439539829139653, 'Transfiguration': 44.32775222063907, 'Potions': 3.1246822119967583, 'Charms': 8.787922603101606, 'Flying': 98.61662400310793, 'Birthday Year': 1.4387868948050557}\n",
       "\n",
       "--- OneHotEncoder ---\n",
       "Columns mapping: {'Birthday Month': ['Birthday Month_1', 'Birthday Month_2', 'Birthday Month_3', 'Birthday Month_4', 'Birthday Month_5', 'Birthday Month_6', 'Birthday Month_7', 'Birthday Month_8', 'Birthday Month_9', 'Birthday Month_10', 'Birthday Month_11'], 'Best Hand': ['Best Hand_Left']}\n",
       "Drop Last: True\n"
      ]
     },
     "execution_count": 15,
     "metadata": {},
     "output_type": "execute_result"
    }
   ],
   "source": [
    "preprocessor.fit(X_train)\n",
    "preprocessor"
   ]
  },
  {
   "cell_type": "code",
   "execution_count": 16,
   "metadata": {},
   "outputs": [
    {
     "data": {
      "text/html": [
       "<div>\n",
       "<style scoped>\n",
       "    .dataframe tbody tr th:only-of-type {\n",
       "        vertical-align: middle;\n",
       "    }\n",
       "\n",
       "    .dataframe tbody tr th {\n",
       "        vertical-align: top;\n",
       "    }\n",
       "\n",
       "    .dataframe thead th {\n",
       "        text-align: right;\n",
       "    }\n",
       "</style>\n",
       "<table border=\"1\" class=\"dataframe\">\n",
       "  <thead>\n",
       "    <tr style=\"text-align: right;\">\n",
       "      <th></th>\n",
       "      <th>Astronomy</th>\n",
       "      <th>Herbology</th>\n",
       "      <th>Divination</th>\n",
       "      <th>Muggle Studies</th>\n",
       "      <th>Ancient Runes</th>\n",
       "      <th>History of Magic</th>\n",
       "      <th>Transfiguration</th>\n",
       "      <th>Potions</th>\n",
       "      <th>Charms</th>\n",
       "      <th>Flying</th>\n",
       "      <th>...</th>\n",
       "      <th>Birthday Month_3</th>\n",
       "      <th>Birthday Month_4</th>\n",
       "      <th>Birthday Month_5</th>\n",
       "      <th>Birthday Month_6</th>\n",
       "      <th>Birthday Month_7</th>\n",
       "      <th>Birthday Month_8</th>\n",
       "      <th>Birthday Month_9</th>\n",
       "      <th>Birthday Month_10</th>\n",
       "      <th>Birthday Month_11</th>\n",
       "      <th>Best Hand_Left</th>\n",
       "    </tr>\n",
       "  </thead>\n",
       "  <tbody>\n",
       "    <tr>\n",
       "      <th>615</th>\n",
       "      <td>1.080696</td>\n",
       "      <td>-1.135675</td>\n",
       "      <td>0.403925</td>\n",
       "      <td>-0.207868</td>\n",
       "      <td>1.137279</td>\n",
       "      <td>-1.781188</td>\n",
       "      <td>-1.983918</td>\n",
       "      <td>-1.168733</td>\n",
       "      <td>-1.187843</td>\n",
       "      <td>1.679434</td>\n",
       "      <td>...</td>\n",
       "      <td>0</td>\n",
       "      <td>1</td>\n",
       "      <td>0</td>\n",
       "      <td>0</td>\n",
       "      <td>0</td>\n",
       "      <td>0</td>\n",
       "      <td>0</td>\n",
       "      <td>0</td>\n",
       "      <td>0</td>\n",
       "      <td>0</td>\n",
       "    </tr>\n",
       "    <tr>\n",
       "      <th>879</th>\n",
       "      <td>1.013197</td>\n",
       "      <td>-1.210951</td>\n",
       "      <td>0.802740</td>\n",
       "      <td>-0.250693</td>\n",
       "      <td>0.742329</td>\n",
       "      <td>-1.571376</td>\n",
       "      <td>-1.836164</td>\n",
       "      <td>-1.012067</td>\n",
       "      <td>-0.862176</td>\n",
       "      <td>1.642624</td>\n",
       "      <td>...</td>\n",
       "      <td>0</td>\n",
       "      <td>0</td>\n",
       "      <td>1</td>\n",
       "      <td>0</td>\n",
       "      <td>0</td>\n",
       "      <td>0</td>\n",
       "      <td>0</td>\n",
       "      <td>0</td>\n",
       "      <td>0</td>\n",
       "      <td>1</td>\n",
       "    </tr>\n",
       "    <tr>\n",
       "      <th>399</th>\n",
       "      <td>1.137561</td>\n",
       "      <td>-1.537351</td>\n",
       "      <td>0.015231</td>\n",
       "      <td>0.246518</td>\n",
       "      <td>1.151428</td>\n",
       "      <td>-1.059282</td>\n",
       "      <td>-1.676934</td>\n",
       "      <td>-0.034240</td>\n",
       "      <td>-1.331651</td>\n",
       "      <td>1.015752</td>\n",
       "      <td>...</td>\n",
       "      <td>0</td>\n",
       "      <td>0</td>\n",
       "      <td>0</td>\n",
       "      <td>0</td>\n",
       "      <td>0</td>\n",
       "      <td>0</td>\n",
       "      <td>0</td>\n",
       "      <td>0</td>\n",
       "      <td>0</td>\n",
       "      <td>0</td>\n",
       "    </tr>\n",
       "    <tr>\n",
       "      <th>885</th>\n",
       "      <td>1.322462</td>\n",
       "      <td>-1.095090</td>\n",
       "      <td>-0.089594</td>\n",
       "      <td>-1.277318</td>\n",
       "      <td>1.243646</td>\n",
       "      <td>-2.223511</td>\n",
       "      <td>-2.701685</td>\n",
       "      <td>-1.421950</td>\n",
       "      <td>-1.832785</td>\n",
       "      <td>2.386414</td>\n",
       "      <td>...</td>\n",
       "      <td>0</td>\n",
       "      <td>0</td>\n",
       "      <td>0</td>\n",
       "      <td>0</td>\n",
       "      <td>0</td>\n",
       "      <td>0</td>\n",
       "      <td>0</td>\n",
       "      <td>0</td>\n",
       "      <td>0</td>\n",
       "      <td>0</td>\n",
       "    </tr>\n",
       "    <tr>\n",
       "      <th>671</th>\n",
       "      <td>1.308127</td>\n",
       "      <td>-0.850299</td>\n",
       "      <td>0.221265</td>\n",
       "      <td>-1.238161</td>\n",
       "      <td>1.376603</td>\n",
       "      <td>-2.020048</td>\n",
       "      <td>-1.706306</td>\n",
       "      <td>-0.062051</td>\n",
       "      <td>-1.333164</td>\n",
       "      <td>2.370392</td>\n",
       "      <td>...</td>\n",
       "      <td>0</td>\n",
       "      <td>0</td>\n",
       "      <td>0</td>\n",
       "      <td>0</td>\n",
       "      <td>1</td>\n",
       "      <td>0</td>\n",
       "      <td>0</td>\n",
       "      <td>0</td>\n",
       "      <td>0</td>\n",
       "      <td>0</td>\n",
       "    </tr>\n",
       "    <tr>\n",
       "      <th>...</th>\n",
       "      <td>...</td>\n",
       "      <td>...</td>\n",
       "      <td>...</td>\n",
       "      <td>...</td>\n",
       "      <td>...</td>\n",
       "      <td>...</td>\n",
       "      <td>...</td>\n",
       "      <td>...</td>\n",
       "      <td>...</td>\n",
       "      <td>...</td>\n",
       "      <td>...</td>\n",
       "      <td>...</td>\n",
       "      <td>...</td>\n",
       "      <td>...</td>\n",
       "      <td>...</td>\n",
       "      <td>...</td>\n",
       "      <td>...</td>\n",
       "      <td>...</td>\n",
       "      <td>...</td>\n",
       "      <td>...</td>\n",
       "      <td>...</td>\n",
       "    </tr>\n",
       "    <tr>\n",
       "      <th>769</th>\n",
       "      <td>-0.975898</td>\n",
       "      <td>-0.650329</td>\n",
       "      <td>-1.820041</td>\n",
       "      <td>-0.475217</td>\n",
       "      <td>-0.461019</td>\n",
       "      <td>0.228009</td>\n",
       "      <td>-0.150192</td>\n",
       "      <td>0.667976</td>\n",
       "      <td>-0.537277</td>\n",
       "      <td>-0.270238</td>\n",
       "      <td>...</td>\n",
       "      <td>0</td>\n",
       "      <td>0</td>\n",
       "      <td>0</td>\n",
       "      <td>0</td>\n",
       "      <td>0</td>\n",
       "      <td>0</td>\n",
       "      <td>0</td>\n",
       "      <td>0</td>\n",
       "      <td>0</td>\n",
       "      <td>1</td>\n",
       "    </tr>\n",
       "    <tr>\n",
       "      <th>905</th>\n",
       "      <td>-0.908130</td>\n",
       "      <td>-1.563278</td>\n",
       "      <td>-2.293800</td>\n",
       "      <td>-0.727308</td>\n",
       "      <td>-1.198396</td>\n",
       "      <td>0.381425</td>\n",
       "      <td>0.830170</td>\n",
       "      <td>0.956621</td>\n",
       "      <td>-1.287520</td>\n",
       "      <td>-1.520534</td>\n",
       "      <td>...</td>\n",
       "      <td>0</td>\n",
       "      <td>0</td>\n",
       "      <td>0</td>\n",
       "      <td>0</td>\n",
       "      <td>0</td>\n",
       "      <td>0</td>\n",
       "      <td>0</td>\n",
       "      <td>1</td>\n",
       "      <td>0</td>\n",
       "      <td>0</td>\n",
       "    </tr>\n",
       "    <tr>\n",
       "      <th>1424</th>\n",
       "      <td>-1.005624</td>\n",
       "      <td>-1.352962</td>\n",
       "      <td>-2.334525</td>\n",
       "      <td>-0.402208</td>\n",
       "      <td>-0.971498</td>\n",
       "      <td>0.765013</td>\n",
       "      <td>0.031241</td>\n",
       "      <td>0.978750</td>\n",
       "      <td>-1.016112</td>\n",
       "      <td>-1.176880</td>\n",
       "      <td>...</td>\n",
       "      <td>0</td>\n",
       "      <td>0</td>\n",
       "      <td>0</td>\n",
       "      <td>1</td>\n",
       "      <td>0</td>\n",
       "      <td>0</td>\n",
       "      <td>0</td>\n",
       "      <td>0</td>\n",
       "      <td>0</td>\n",
       "      <td>1</td>\n",
       "    </tr>\n",
       "    <tr>\n",
       "      <th>1220</th>\n",
       "      <td>-0.752791</td>\n",
       "      <td>-0.976035</td>\n",
       "      <td>-2.245846</td>\n",
       "      <td>-0.331242</td>\n",
       "      <td>-0.714766</td>\n",
       "      <td>-0.113988</td>\n",
       "      <td>0.255690</td>\n",
       "      <td>0.396309</td>\n",
       "      <td>-1.095373</td>\n",
       "      <td>-0.649991</td>\n",
       "      <td>...</td>\n",
       "      <td>0</td>\n",
       "      <td>0</td>\n",
       "      <td>0</td>\n",
       "      <td>0</td>\n",
       "      <td>0</td>\n",
       "      <td>1</td>\n",
       "      <td>0</td>\n",
       "      <td>0</td>\n",
       "      <td>0</td>\n",
       "      <td>1</td>\n",
       "    </tr>\n",
       "    <tr>\n",
       "      <th>1374</th>\n",
       "      <td>-1.034890</td>\n",
       "      <td>-1.491030</td>\n",
       "      <td>-2.298619</td>\n",
       "      <td>-0.536112</td>\n",
       "      <td>-1.157911</td>\n",
       "      <td>0.828170</td>\n",
       "      <td>0.530402</td>\n",
       "      <td>1.583192</td>\n",
       "      <td>-0.944143</td>\n",
       "      <td>-1.291668</td>\n",
       "      <td>...</td>\n",
       "      <td>0</td>\n",
       "      <td>0</td>\n",
       "      <td>0</td>\n",
       "      <td>0</td>\n",
       "      <td>0</td>\n",
       "      <td>0</td>\n",
       "      <td>0</td>\n",
       "      <td>0</td>\n",
       "      <td>0</td>\n",
       "      <td>0</td>\n",
       "    </tr>\n",
       "  </tbody>\n",
       "</table>\n",
       "<p>1200 rows × 23 columns</p>\n",
       "</div>"
      ],
      "text/plain": [
       "      Astronomy  Herbology  Divination  Muggle Studies  Ancient Runes  \\\n",
       "615    1.080696  -1.135675    0.403925       -0.207868       1.137279   \n",
       "879    1.013197  -1.210951    0.802740       -0.250693       0.742329   \n",
       "399    1.137561  -1.537351    0.015231        0.246518       1.151428   \n",
       "885    1.322462  -1.095090   -0.089594       -1.277318       1.243646   \n",
       "671    1.308127  -0.850299    0.221265       -1.238161       1.376603   \n",
       "...         ...        ...         ...             ...            ...   \n",
       "769   -0.975898  -0.650329   -1.820041       -0.475217      -0.461019   \n",
       "905   -0.908130  -1.563278   -2.293800       -0.727308      -1.198396   \n",
       "1424  -1.005624  -1.352962   -2.334525       -0.402208      -0.971498   \n",
       "1220  -0.752791  -0.976035   -2.245846       -0.331242      -0.714766   \n",
       "1374  -1.034890  -1.491030   -2.298619       -0.536112      -1.157911   \n",
       "\n",
       "      History of Magic  Transfiguration   Potions    Charms    Flying  ...  \\\n",
       "615          -1.781188        -1.983918 -1.168733 -1.187843  1.679434  ...   \n",
       "879          -1.571376        -1.836164 -1.012067 -0.862176  1.642624  ...   \n",
       "399          -1.059282        -1.676934 -0.034240 -1.331651  1.015752  ...   \n",
       "885          -2.223511        -2.701685 -1.421950 -1.832785  2.386414  ...   \n",
       "671          -2.020048        -1.706306 -0.062051 -1.333164  2.370392  ...   \n",
       "...                ...              ...       ...       ...       ...  ...   \n",
       "769           0.228009        -0.150192  0.667976 -0.537277 -0.270238  ...   \n",
       "905           0.381425         0.830170  0.956621 -1.287520 -1.520534  ...   \n",
       "1424          0.765013         0.031241  0.978750 -1.016112 -1.176880  ...   \n",
       "1220         -0.113988         0.255690  0.396309 -1.095373 -0.649991  ...   \n",
       "1374          0.828170         0.530402  1.583192 -0.944143 -1.291668  ...   \n",
       "\n",
       "      Birthday Month_3  Birthday Month_4  Birthday Month_5  Birthday Month_6  \\\n",
       "615                  0                 1                 0                 0   \n",
       "879                  0                 0                 1                 0   \n",
       "399                  0                 0                 0                 0   \n",
       "885                  0                 0                 0                 0   \n",
       "671                  0                 0                 0                 0   \n",
       "...                ...               ...               ...               ...   \n",
       "769                  0                 0                 0                 0   \n",
       "905                  0                 0                 0                 0   \n",
       "1424                 0                 0                 0                 1   \n",
       "1220                 0                 0                 0                 0   \n",
       "1374                 0                 0                 0                 0   \n",
       "\n",
       "      Birthday Month_7  Birthday Month_8  Birthday Month_9  Birthday Month_10  \\\n",
       "615                  0                 0                 0                  0   \n",
       "879                  0                 0                 0                  0   \n",
       "399                  0                 0                 0                  0   \n",
       "885                  0                 0                 0                  0   \n",
       "671                  1                 0                 0                  0   \n",
       "...                ...               ...               ...                ...   \n",
       "769                  0                 0                 0                  0   \n",
       "905                  0                 0                 0                  1   \n",
       "1424                 0                 0                 0                  0   \n",
       "1220                 0                 1                 0                  0   \n",
       "1374                 0                 0                 0                  0   \n",
       "\n",
       "      Birthday Month_11  Best Hand_Left  \n",
       "615                   0               0  \n",
       "879                   0               1  \n",
       "399                   0               0  \n",
       "885                   0               0  \n",
       "671                   0               0  \n",
       "...                 ...             ...  \n",
       "769                   0               1  \n",
       "905                   0               0  \n",
       "1424                  0               1  \n",
       "1220                  0               1  \n",
       "1374                  0               0  \n",
       "\n",
       "[1200 rows x 23 columns]"
      ]
     },
     "execution_count": 16,
     "metadata": {},
     "output_type": "execute_result"
    }
   ],
   "source": [
    "X_train_preprocessed = preprocessor.transform(X_train)\n",
    "X_train_preprocessed"
   ]
  },
  {
   "cell_type": "code",
   "execution_count": 17,
   "metadata": {},
   "outputs": [
    {
     "data": {
      "text/plain": [
       "<logreg_train.SortingHat at 0x7f7968103790>"
      ]
     },
     "execution_count": 17,
     "metadata": {},
     "output_type": "execute_result"
    }
   ],
   "source": [
    "from logreg_train import SortingHat\n",
    "\n",
    "sorting_hat = SortingHat(X_train_preprocessed.shape[1], lr=0.05)\n",
    "sorting_hat"
   ]
  },
  {
   "cell_type": "code",
   "execution_count": 18,
   "metadata": {},
   "outputs": [
    {
     "data": {
      "text/html": [
       "<div>\n",
       "<style scoped>\n",
       "    .dataframe tbody tr th:only-of-type {\n",
       "        vertical-align: middle;\n",
       "    }\n",
       "\n",
       "    .dataframe tbody tr th {\n",
       "        vertical-align: top;\n",
       "    }\n",
       "\n",
       "    .dataframe thead th {\n",
       "        text-align: right;\n",
       "    }\n",
       "</style>\n",
       "<table border=\"1\" class=\"dataframe\">\n",
       "  <thead>\n",
       "    <tr style=\"text-align: right;\">\n",
       "      <th></th>\n",
       "      <th>Astronomy</th>\n",
       "      <th>Herbology</th>\n",
       "      <th>Divination</th>\n",
       "      <th>Muggle Studies</th>\n",
       "      <th>Ancient Runes</th>\n",
       "      <th>History of Magic</th>\n",
       "      <th>Transfiguration</th>\n",
       "      <th>Potions</th>\n",
       "      <th>Charms</th>\n",
       "      <th>Flying</th>\n",
       "      <th>...</th>\n",
       "      <th>Birthday Month_3</th>\n",
       "      <th>Birthday Month_4</th>\n",
       "      <th>Birthday Month_5</th>\n",
       "      <th>Birthday Month_6</th>\n",
       "      <th>Birthday Month_7</th>\n",
       "      <th>Birthday Month_8</th>\n",
       "      <th>Birthday Month_9</th>\n",
       "      <th>Birthday Month_10</th>\n",
       "      <th>Birthday Month_11</th>\n",
       "      <th>Best Hand_Left</th>\n",
       "    </tr>\n",
       "  </thead>\n",
       "  <tbody>\n",
       "    <tr>\n",
       "      <th>2</th>\n",
       "      <td>-0.774923</td>\n",
       "      <td>1.258935</td>\n",
       "      <td>0.721049</td>\n",
       "      <td>1.833177</td>\n",
       "      <td>1.011118</td>\n",
       "      <td>0.133566</td>\n",
       "      <td>1.306991</td>\n",
       "      <td>0.903173</td>\n",
       "      <td>1.828603</td>\n",
       "      <td>0.093190</td>\n",
       "      <td>...</td>\n",
       "      <td>0</td>\n",
       "      <td>0</td>\n",
       "      <td>0</td>\n",
       "      <td>0</td>\n",
       "      <td>0</td>\n",
       "      <td>0</td>\n",
       "      <td>0</td>\n",
       "      <td>0</td>\n",
       "      <td>1</td>\n",
       "      <td>1</td>\n",
       "    </tr>\n",
       "    <tr>\n",
       "      <th>7</th>\n",
       "      <td>0.711153</td>\n",
       "      <td>0.915039</td>\n",
       "      <td>-0.091280</td>\n",
       "      <td>-0.560582</td>\n",
       "      <td>-0.518980</td>\n",
       "      <td>0.000000</td>\n",
       "      <td>0.246788</td>\n",
       "      <td>0.216147</td>\n",
       "      <td>-0.070853</td>\n",
       "      <td>0.517358</td>\n",
       "      <td>...</td>\n",
       "      <td>0</td>\n",
       "      <td>0</td>\n",
       "      <td>0</td>\n",
       "      <td>0</td>\n",
       "      <td>1</td>\n",
       "      <td>0</td>\n",
       "      <td>0</td>\n",
       "      <td>0</td>\n",
       "      <td>0</td>\n",
       "      <td>0</td>\n",
       "    </tr>\n",
       "    <tr>\n",
       "      <th>10</th>\n",
       "      <td>1.081046</td>\n",
       "      <td>0.829191</td>\n",
       "      <td>0.532606</td>\n",
       "      <td>-0.619609</td>\n",
       "      <td>-0.092280</td>\n",
       "      <td>0.616516</td>\n",
       "      <td>0.138355</td>\n",
       "      <td>1.083864</td>\n",
       "      <td>0.081998</td>\n",
       "      <td>0.439886</td>\n",
       "      <td>...</td>\n",
       "      <td>0</td>\n",
       "      <td>0</td>\n",
       "      <td>1</td>\n",
       "      <td>0</td>\n",
       "      <td>0</td>\n",
       "      <td>0</td>\n",
       "      <td>0</td>\n",
       "      <td>0</td>\n",
       "      <td>0</td>\n",
       "      <td>0</td>\n",
       "    </tr>\n",
       "    <tr>\n",
       "      <th>12</th>\n",
       "      <td>1.280137</td>\n",
       "      <td>0.104496</td>\n",
       "      <td>0.950217</td>\n",
       "      <td>-0.205065</td>\n",
       "      <td>-0.555062</td>\n",
       "      <td>0.751889</td>\n",
       "      <td>0.155116</td>\n",
       "      <td>0.705311</td>\n",
       "      <td>-0.067292</td>\n",
       "      <td>-0.138617</td>\n",
       "      <td>...</td>\n",
       "      <td>1</td>\n",
       "      <td>0</td>\n",
       "      <td>0</td>\n",
       "      <td>0</td>\n",
       "      <td>0</td>\n",
       "      <td>0</td>\n",
       "      <td>0</td>\n",
       "      <td>0</td>\n",
       "      <td>0</td>\n",
       "      <td>0</td>\n",
       "    </tr>\n",
       "    <tr>\n",
       "      <th>13</th>\n",
       "      <td>-1.115371</td>\n",
       "      <td>-1.624249</td>\n",
       "      <td>-2.247774</td>\n",
       "      <td>-0.187082</td>\n",
       "      <td>-0.966090</td>\n",
       "      <td>-0.010784</td>\n",
       "      <td>1.182758</td>\n",
       "      <td>1.613729</td>\n",
       "      <td>-0.877669</td>\n",
       "      <td>-1.030759</td>\n",
       "      <td>...</td>\n",
       "      <td>0</td>\n",
       "      <td>0</td>\n",
       "      <td>0</td>\n",
       "      <td>0</td>\n",
       "      <td>0</td>\n",
       "      <td>0</td>\n",
       "      <td>0</td>\n",
       "      <td>0</td>\n",
       "      <td>0</td>\n",
       "      <td>1</td>\n",
       "    </tr>\n",
       "    <tr>\n",
       "      <th>...</th>\n",
       "      <td>...</td>\n",
       "      <td>...</td>\n",
       "      <td>...</td>\n",
       "      <td>...</td>\n",
       "      <td>...</td>\n",
       "      <td>...</td>\n",
       "      <td>...</td>\n",
       "      <td>...</td>\n",
       "      <td>...</td>\n",
       "      <td>...</td>\n",
       "      <td>...</td>\n",
       "      <td>...</td>\n",
       "      <td>...</td>\n",
       "      <td>...</td>\n",
       "      <td>...</td>\n",
       "      <td>...</td>\n",
       "      <td>...</td>\n",
       "      <td>...</td>\n",
       "      <td>...</td>\n",
       "      <td>...</td>\n",
       "      <td>...</td>\n",
       "    </tr>\n",
       "    <tr>\n",
       "      <th>1586</th>\n",
       "      <td>-1.002710</td>\n",
       "      <td>-1.831676</td>\n",
       "      <td>-2.214037</td>\n",
       "      <td>-0.603375</td>\n",
       "      <td>-1.161569</td>\n",
       "      <td>0.824421</td>\n",
       "      <td>0.826329</td>\n",
       "      <td>1.785619</td>\n",
       "      <td>-1.093468</td>\n",
       "      <td>-1.614737</td>\n",
       "      <td>...</td>\n",
       "      <td>0</td>\n",
       "      <td>0</td>\n",
       "      <td>0</td>\n",
       "      <td>0</td>\n",
       "      <td>0</td>\n",
       "      <td>0</td>\n",
       "      <td>0</td>\n",
       "      <td>0</td>\n",
       "      <td>0</td>\n",
       "      <td>1</td>\n",
       "    </tr>\n",
       "    <tr>\n",
       "      <th>1588</th>\n",
       "      <td>-1.016587</td>\n",
       "      <td>-0.646136</td>\n",
       "      <td>-2.510437</td>\n",
       "      <td>-0.808622</td>\n",
       "      <td>0.000000</td>\n",
       "      <td>-0.171509</td>\n",
       "      <td>0.876652</td>\n",
       "      <td>1.027575</td>\n",
       "      <td>-0.853404</td>\n",
       "      <td>-0.413013</td>\n",
       "      <td>...</td>\n",
       "      <td>0</td>\n",
       "      <td>1</td>\n",
       "      <td>0</td>\n",
       "      <td>0</td>\n",
       "      <td>0</td>\n",
       "      <td>0</td>\n",
       "      <td>0</td>\n",
       "      <td>0</td>\n",
       "      <td>0</td>\n",
       "      <td>0</td>\n",
       "    </tr>\n",
       "    <tr>\n",
       "      <th>1593</th>\n",
       "      <td>-0.889796</td>\n",
       "      <td>0.866956</td>\n",
       "      <td>0.736713</td>\n",
       "      <td>1.441339</td>\n",
       "      <td>1.429685</td>\n",
       "      <td>0.741433</td>\n",
       "      <td>0.375910</td>\n",
       "      <td>0.415964</td>\n",
       "      <td>1.435024</td>\n",
       "      <td>-0.517661</td>\n",
       "      <td>...</td>\n",
       "      <td>0</td>\n",
       "      <td>0</td>\n",
       "      <td>0</td>\n",
       "      <td>0</td>\n",
       "      <td>0</td>\n",
       "      <td>0</td>\n",
       "      <td>0</td>\n",
       "      <td>0</td>\n",
       "      <td>0</td>\n",
       "      <td>1</td>\n",
       "    </tr>\n",
       "    <tr>\n",
       "      <th>1596</th>\n",
       "      <td>0.627279</td>\n",
       "      <td>0.939824</td>\n",
       "      <td>-0.335148</td>\n",
       "      <td>-0.850335</td>\n",
       "      <td>-0.458275</td>\n",
       "      <td>-0.163191</td>\n",
       "      <td>0.586427</td>\n",
       "      <td>-0.025967</td>\n",
       "      <td>-0.343075</td>\n",
       "      <td>0.239007</td>\n",
       "      <td>...</td>\n",
       "      <td>1</td>\n",
       "      <td>0</td>\n",
       "      <td>0</td>\n",
       "      <td>0</td>\n",
       "      <td>0</td>\n",
       "      <td>0</td>\n",
       "      <td>0</td>\n",
       "      <td>0</td>\n",
       "      <td>0</td>\n",
       "      <td>1</td>\n",
       "    </tr>\n",
       "    <tr>\n",
       "      <th>1597</th>\n",
       "      <td>0.964614</td>\n",
       "      <td>-0.836883</td>\n",
       "      <td>0.702976</td>\n",
       "      <td>-0.320838</td>\n",
       "      <td>1.316945</td>\n",
       "      <td>-2.015268</td>\n",
       "      <td>-1.720947</td>\n",
       "      <td>-1.343046</td>\n",
       "      <td>-0.935889</td>\n",
       "      <td>1.797264</td>\n",
       "      <td>...</td>\n",
       "      <td>0</td>\n",
       "      <td>0</td>\n",
       "      <td>0</td>\n",
       "      <td>0</td>\n",
       "      <td>0</td>\n",
       "      <td>0</td>\n",
       "      <td>0</td>\n",
       "      <td>1</td>\n",
       "      <td>0</td>\n",
       "      <td>0</td>\n",
       "    </tr>\n",
       "  </tbody>\n",
       "</table>\n",
       "<p>400 rows × 23 columns</p>\n",
       "</div>"
      ],
      "text/plain": [
       "      Astronomy  Herbology  Divination  Muggle Studies  Ancient Runes  \\\n",
       "2     -0.774923   1.258935    0.721049        1.833177       1.011118   \n",
       "7      0.711153   0.915039   -0.091280       -0.560582      -0.518980   \n",
       "10     1.081046   0.829191    0.532606       -0.619609      -0.092280   \n",
       "12     1.280137   0.104496    0.950217       -0.205065      -0.555062   \n",
       "13    -1.115371  -1.624249   -2.247774       -0.187082      -0.966090   \n",
       "...         ...        ...         ...             ...            ...   \n",
       "1586  -1.002710  -1.831676   -2.214037       -0.603375      -1.161569   \n",
       "1588  -1.016587  -0.646136   -2.510437       -0.808622       0.000000   \n",
       "1593  -0.889796   0.866956    0.736713        1.441339       1.429685   \n",
       "1596   0.627279   0.939824   -0.335148       -0.850335      -0.458275   \n",
       "1597   0.964614  -0.836883    0.702976       -0.320838       1.316945   \n",
       "\n",
       "      History of Magic  Transfiguration   Potions    Charms    Flying  ...  \\\n",
       "2             0.133566         1.306991  0.903173  1.828603  0.093190  ...   \n",
       "7             0.000000         0.246788  0.216147 -0.070853  0.517358  ...   \n",
       "10            0.616516         0.138355  1.083864  0.081998  0.439886  ...   \n",
       "12            0.751889         0.155116  0.705311 -0.067292 -0.138617  ...   \n",
       "13           -0.010784         1.182758  1.613729 -0.877669 -1.030759  ...   \n",
       "...                ...              ...       ...       ...       ...  ...   \n",
       "1586          0.824421         0.826329  1.785619 -1.093468 -1.614737  ...   \n",
       "1588         -0.171509         0.876652  1.027575 -0.853404 -0.413013  ...   \n",
       "1593          0.741433         0.375910  0.415964  1.435024 -0.517661  ...   \n",
       "1596         -0.163191         0.586427 -0.025967 -0.343075  0.239007  ...   \n",
       "1597         -2.015268        -1.720947 -1.343046 -0.935889  1.797264  ...   \n",
       "\n",
       "      Birthday Month_3  Birthday Month_4  Birthday Month_5  Birthday Month_6  \\\n",
       "2                    0                 0                 0                 0   \n",
       "7                    0                 0                 0                 0   \n",
       "10                   0                 0                 1                 0   \n",
       "12                   1                 0                 0                 0   \n",
       "13                   0                 0                 0                 0   \n",
       "...                ...               ...               ...               ...   \n",
       "1586                 0                 0                 0                 0   \n",
       "1588                 0                 1                 0                 0   \n",
       "1593                 0                 0                 0                 0   \n",
       "1596                 1                 0                 0                 0   \n",
       "1597                 0                 0                 0                 0   \n",
       "\n",
       "      Birthday Month_7  Birthday Month_8  Birthday Month_9  Birthday Month_10  \\\n",
       "2                    0                 0                 0                  0   \n",
       "7                    1                 0                 0                  0   \n",
       "10                   0                 0                 0                  0   \n",
       "12                   0                 0                 0                  0   \n",
       "13                   0                 0                 0                  0   \n",
       "...                ...               ...               ...                ...   \n",
       "1586                 0                 0                 0                  0   \n",
       "1588                 0                 0                 0                  0   \n",
       "1593                 0                 0                 0                  0   \n",
       "1596                 0                 0                 0                  0   \n",
       "1597                 0                 0                 0                  1   \n",
       "\n",
       "      Birthday Month_11  Best Hand_Left  \n",
       "2                     1               1  \n",
       "7                     0               0  \n",
       "10                    0               0  \n",
       "12                    0               0  \n",
       "13                    0               1  \n",
       "...                 ...             ...  \n",
       "1586                  0               1  \n",
       "1588                  0               0  \n",
       "1593                  0               1  \n",
       "1596                  0               1  \n",
       "1597                  0               0  \n",
       "\n",
       "[400 rows x 23 columns]"
      ]
     },
     "execution_count": 18,
     "metadata": {},
     "output_type": "execute_result"
    }
   ],
   "source": [
    "X_test_preprocessed = preprocessor.transform(X_test)\n",
    "X_test_preprocessed"
   ]
  },
  {
   "cell_type": "code",
   "execution_count": 19,
   "metadata": {},
   "outputs": [],
   "source": [
    "for i in range(200):\n",
    "    sorting_hat.train_step(X_train_preprocessed, Y_train, X_test_preprocessed, Y_test)"
   ]
  },
  {
   "cell_type": "code",
   "execution_count": 20,
   "metadata": {},
   "outputs": [],
   "source": [
    "data_train['pred'] = sorting_hat.predict(X_train_preprocessed)"
   ]
  },
  {
   "cell_type": "code",
   "execution_count": 21,
   "metadata": {},
   "outputs": [
    {
     "data": {
      "text/plain": [
       "array([[2.36191936e-03, 2.04960490e-03, 1.72260515e-02, ...,\n",
       "        9.81535767e-01, 9.25719975e-01, 9.92117673e-01],\n",
       "       [1.88781277e-04, 6.26118061e-04, 6.11652700e-05, ...,\n",
       "        1.53548306e-03, 1.62215343e-03, 2.81317402e-03],\n",
       "       [9.84843228e-01, 9.69174971e-01, 9.17257720e-01, ...,\n",
       "        5.53334332e-03, 1.96261200e-02, 2.66949927e-03],\n",
       "       [2.80363300e-03, 4.57425661e-03, 6.10303935e-03, ...,\n",
       "        8.37381119e-03, 6.64779926e-03, 6.59585573e-03]])"
      ]
     },
     "execution_count": 21,
     "metadata": {},
     "output_type": "execute_result"
    }
   ],
   "source": [
    "sorting_hat(X_train_preprocessed)"
   ]
  },
  {
   "cell_type": "code",
   "execution_count": 22,
   "metadata": {},
   "outputs": [
    {
     "data": {
      "text/html": [
       "<div>\n",
       "<style scoped>\n",
       "    .dataframe tbody tr th:only-of-type {\n",
       "        vertical-align: middle;\n",
       "    }\n",
       "\n",
       "    .dataframe tbody tr th {\n",
       "        vertical-align: top;\n",
       "    }\n",
       "\n",
       "    .dataframe thead th {\n",
       "        text-align: right;\n",
       "    }\n",
       "</style>\n",
       "<table border=\"1\" class=\"dataframe\">\n",
       "  <thead>\n",
       "    <tr style=\"text-align: right;\">\n",
       "      <th></th>\n",
       "      <th>Hogwarts House</th>\n",
       "      <th>Best Hand</th>\n",
       "      <th>Astronomy</th>\n",
       "      <th>Herbology</th>\n",
       "      <th>Divination</th>\n",
       "      <th>Muggle Studies</th>\n",
       "      <th>Ancient Runes</th>\n",
       "      <th>History of Magic</th>\n",
       "      <th>Transfiguration</th>\n",
       "      <th>Potions</th>\n",
       "      <th>Charms</th>\n",
       "      <th>Flying</th>\n",
       "      <th>Birthday Weekday</th>\n",
       "      <th>Birthday Year</th>\n",
       "      <th>Birthday Month</th>\n",
       "      <th>House Slytherin</th>\n",
       "      <th>House Hufflepuff</th>\n",
       "      <th>House Gryffindor</th>\n",
       "      <th>House Ravenclaw</th>\n",
       "      <th>pred</th>\n",
       "    </tr>\n",
       "  </thead>\n",
       "  <tbody>\n",
       "    <tr>\n",
       "      <th>615</th>\n",
       "      <td>Gryffindor</td>\n",
       "      <td>Right</td>\n",
       "      <td>604.751042</td>\n",
       "      <td>-4.761269</td>\n",
       "      <td>4.824</td>\n",
       "      <td>-330.079791</td>\n",
       "      <td>616.044385</td>\n",
       "      <td>-4.945047</td>\n",
       "      <td>942.209764</td>\n",
       "      <td>2.254483</td>\n",
       "      <td>-253.85094</td>\n",
       "      <td>186.85</td>\n",
       "      <td>2</td>\n",
       "      <td>1997</td>\n",
       "      <td>4</td>\n",
       "      <td>0</td>\n",
       "      <td>0</td>\n",
       "      <td>1</td>\n",
       "      <td>0</td>\n",
       "      <td>Gryffindor</td>\n",
       "    </tr>\n",
       "    <tr>\n",
       "      <th>879</th>\n",
       "      <td>Gryffindor</td>\n",
       "      <td>Left</td>\n",
       "      <td>569.436312</td>\n",
       "      <td>-5.153783</td>\n",
       "      <td>6.479</td>\n",
       "      <td>-350.956255</td>\n",
       "      <td>573.910363</td>\n",
       "      <td>-4.013581</td>\n",
       "      <td>948.759374</td>\n",
       "      <td>2.744015</td>\n",
       "      <td>-250.98901</td>\n",
       "      <td>183.22</td>\n",
       "      <td>4</td>\n",
       "      <td>2000</td>\n",
       "      <td>5</td>\n",
       "      <td>0</td>\n",
       "      <td>0</td>\n",
       "      <td>1</td>\n",
       "      <td>0</td>\n",
       "      <td>Gryffindor</td>\n",
       "    </tr>\n",
       "    <tr>\n",
       "      <th>399</th>\n",
       "      <td>Gryffindor</td>\n",
       "      <td>Right</td>\n",
       "      <td>634.501500</td>\n",
       "      <td>-6.855740</td>\n",
       "      <td>3.211</td>\n",
       "      <td>-108.574695</td>\n",
       "      <td>617.553811</td>\n",
       "      <td>-1.740121</td>\n",
       "      <td>955.817691</td>\n",
       "      <td>5.799412</td>\n",
       "      <td>-255.11472</td>\n",
       "      <td>121.40</td>\n",
       "      <td>1</td>\n",
       "      <td>2000</td>\n",
       "      <td>1</td>\n",
       "      <td>0</td>\n",
       "      <td>0</td>\n",
       "      <td>1</td>\n",
       "      <td>0</td>\n",
       "      <td>Gryffindor</td>\n",
       "    </tr>\n",
       "    <tr>\n",
       "      <th>885</th>\n",
       "      <td>Gryffindor</td>\n",
       "      <td>Right</td>\n",
       "      <td>731.238654</td>\n",
       "      <td>-4.549645</td>\n",
       "      <td>2.776</td>\n",
       "      <td>-851.417369</td>\n",
       "      <td>627.391767</td>\n",
       "      <td>-6.908759</td>\n",
       "      <td>910.392757</td>\n",
       "      <td>1.463259</td>\n",
       "      <td>-259.51864</td>\n",
       "      <td>256.57</td>\n",
       "      <td>4</td>\n",
       "      <td>1997</td>\n",
       "      <td>1</td>\n",
       "      <td>0</td>\n",
       "      <td>0</td>\n",
       "      <td>1</td>\n",
       "      <td>0</td>\n",
       "      <td>Gryffindor</td>\n",
       "    </tr>\n",
       "    <tr>\n",
       "      <th>671</th>\n",
       "      <td>Gryffindor</td>\n",
       "      <td>Right</td>\n",
       "      <td>723.738847</td>\n",
       "      <td>-3.273226</td>\n",
       "      <td>4.066</td>\n",
       "      <td>-832.329044</td>\n",
       "      <td>641.575899</td>\n",
       "      <td>-6.005476</td>\n",
       "      <td>954.515657</td>\n",
       "      <td>5.712511</td>\n",
       "      <td>-255.12801</td>\n",
       "      <td>254.99</td>\n",
       "      <td>1</td>\n",
       "      <td>1997</td>\n",
       "      <td>7</td>\n",
       "      <td>0</td>\n",
       "      <td>0</td>\n",
       "      <td>1</td>\n",
       "      <td>0</td>\n",
       "      <td>Gryffindor</td>\n",
       "    </tr>\n",
       "    <tr>\n",
       "      <th>...</th>\n",
       "      <td>...</td>\n",
       "      <td>...</td>\n",
       "      <td>...</td>\n",
       "      <td>...</td>\n",
       "      <td>...</td>\n",
       "      <td>...</td>\n",
       "      <td>...</td>\n",
       "      <td>...</td>\n",
       "      <td>...</td>\n",
       "      <td>...</td>\n",
       "      <td>...</td>\n",
       "      <td>...</td>\n",
       "      <td>...</td>\n",
       "      <td>...</td>\n",
       "      <td>...</td>\n",
       "      <td>...</td>\n",
       "      <td>...</td>\n",
       "      <td>...</td>\n",
       "      <td>...</td>\n",
       "      <td>...</td>\n",
       "    </tr>\n",
       "    <tr>\n",
       "      <th>769</th>\n",
       "      <td>Slytherin</td>\n",
       "      <td>Left</td>\n",
       "      <td>-471.222323</td>\n",
       "      <td>-2.230513</td>\n",
       "      <td>-4.405</td>\n",
       "      <td>-460.407658</td>\n",
       "      <td>445.534911</td>\n",
       "      <td>3.974861</td>\n",
       "      <td>1023.494693</td>\n",
       "      <td>7.993615</td>\n",
       "      <td>-248.13382</td>\n",
       "      <td>-5.42</td>\n",
       "      <td>2</td>\n",
       "      <td>1999</td>\n",
       "      <td>1</td>\n",
       "      <td>1</td>\n",
       "      <td>0</td>\n",
       "      <td>0</td>\n",
       "      <td>0</td>\n",
       "      <td>Slytherin</td>\n",
       "    </tr>\n",
       "    <tr>\n",
       "      <th>905</th>\n",
       "      <td>Slytherin</td>\n",
       "      <td>Right</td>\n",
       "      <td>-435.767482</td>\n",
       "      <td>-6.990929</td>\n",
       "      <td>-6.371</td>\n",
       "      <td>-583.297628</td>\n",
       "      <td>366.870052</td>\n",
       "      <td>4.655959</td>\n",
       "      <td>1066.951960</td>\n",
       "      <td>8.895538</td>\n",
       "      <td>-254.72690</td>\n",
       "      <td>-128.72</td>\n",
       "      <td>5</td>\n",
       "      <td>1998</td>\n",
       "      <td>10</td>\n",
       "      <td>1</td>\n",
       "      <td>0</td>\n",
       "      <td>0</td>\n",
       "      <td>0</td>\n",
       "      <td>Slytherin</td>\n",
       "    </tr>\n",
       "    <tr>\n",
       "      <th>1424</th>\n",
       "      <td>Slytherin</td>\n",
       "      <td>Left</td>\n",
       "      <td>-486.774286</td>\n",
       "      <td>-5.894275</td>\n",
       "      <td>-6.540</td>\n",
       "      <td>-424.816974</td>\n",
       "      <td>391.075997</td>\n",
       "      <td>6.358912</td>\n",
       "      <td>1031.537229</td>\n",
       "      <td>8.964686</td>\n",
       "      <td>-252.34178</td>\n",
       "      <td>-94.83</td>\n",
       "      <td>5</td>\n",
       "      <td>2001</td>\n",
       "      <td>6</td>\n",
       "      <td>1</td>\n",
       "      <td>0</td>\n",
       "      <td>0</td>\n",
       "      <td>0</td>\n",
       "      <td>Slytherin</td>\n",
       "    </tr>\n",
       "    <tr>\n",
       "      <th>1220</th>\n",
       "      <td>Slytherin</td>\n",
       "      <td>Left</td>\n",
       "      <td>-354.496856</td>\n",
       "      <td>-3.928853</td>\n",
       "      <td>-6.172</td>\n",
       "      <td>-390.222174</td>\n",
       "      <td>418.464607</td>\n",
       "      <td>2.456552</td>\n",
       "      <td>1041.486530</td>\n",
       "      <td>7.144740</td>\n",
       "      <td>-253.03832</td>\n",
       "      <td>-42.87</td>\n",
       "      <td>4</td>\n",
       "      <td>1999</td>\n",
       "      <td>8</td>\n",
       "      <td>1</td>\n",
       "      <td>0</td>\n",
       "      <td>0</td>\n",
       "      <td>0</td>\n",
       "      <td>Slytherin</td>\n",
       "    </tr>\n",
       "    <tr>\n",
       "      <th>1374</th>\n",
       "      <td>Slytherin</td>\n",
       "      <td>Right</td>\n",
       "      <td>-502.085748</td>\n",
       "      <td>-6.614204</td>\n",
       "      <td>-6.391</td>\n",
       "      <td>-490.092638</td>\n",
       "      <td>371.189048</td>\n",
       "      <td>6.639299</td>\n",
       "      <td>1053.663916</td>\n",
       "      <td>10.853374</td>\n",
       "      <td>-251.70933</td>\n",
       "      <td>-106.15</td>\n",
       "      <td>3</td>\n",
       "      <td>1998</td>\n",
       "      <td>12</td>\n",
       "      <td>1</td>\n",
       "      <td>0</td>\n",
       "      <td>0</td>\n",
       "      <td>0</td>\n",
       "      <td>Slytherin</td>\n",
       "    </tr>\n",
       "  </tbody>\n",
       "</table>\n",
       "<p>1200 rows × 20 columns</p>\n",
       "</div>"
      ],
      "text/plain": [
       "     Hogwarts House Best Hand   Astronomy  Herbology  Divination  \\\n",
       "615      Gryffindor     Right  604.751042  -4.761269       4.824   \n",
       "879      Gryffindor      Left  569.436312  -5.153783       6.479   \n",
       "399      Gryffindor     Right  634.501500  -6.855740       3.211   \n",
       "885      Gryffindor     Right  731.238654  -4.549645       2.776   \n",
       "671      Gryffindor     Right  723.738847  -3.273226       4.066   \n",
       "...             ...       ...         ...        ...         ...   \n",
       "769       Slytherin      Left -471.222323  -2.230513      -4.405   \n",
       "905       Slytherin     Right -435.767482  -6.990929      -6.371   \n",
       "1424      Slytherin      Left -486.774286  -5.894275      -6.540   \n",
       "1220      Slytherin      Left -354.496856  -3.928853      -6.172   \n",
       "1374      Slytherin     Right -502.085748  -6.614204      -6.391   \n",
       "\n",
       "      Muggle Studies  Ancient Runes  History of Magic  Transfiguration  \\\n",
       "615      -330.079791     616.044385         -4.945047       942.209764   \n",
       "879      -350.956255     573.910363         -4.013581       948.759374   \n",
       "399      -108.574695     617.553811         -1.740121       955.817691   \n",
       "885      -851.417369     627.391767         -6.908759       910.392757   \n",
       "671      -832.329044     641.575899         -6.005476       954.515657   \n",
       "...              ...            ...               ...              ...   \n",
       "769      -460.407658     445.534911          3.974861      1023.494693   \n",
       "905      -583.297628     366.870052          4.655959      1066.951960   \n",
       "1424     -424.816974     391.075997          6.358912      1031.537229   \n",
       "1220     -390.222174     418.464607          2.456552      1041.486530   \n",
       "1374     -490.092638     371.189048          6.639299      1053.663916   \n",
       "\n",
       "        Potions     Charms  Flying  Birthday Weekday  Birthday Year  \\\n",
       "615    2.254483 -253.85094  186.85                 2           1997   \n",
       "879    2.744015 -250.98901  183.22                 4           2000   \n",
       "399    5.799412 -255.11472  121.40                 1           2000   \n",
       "885    1.463259 -259.51864  256.57                 4           1997   \n",
       "671    5.712511 -255.12801  254.99                 1           1997   \n",
       "...         ...        ...     ...               ...            ...   \n",
       "769    7.993615 -248.13382   -5.42                 2           1999   \n",
       "905    8.895538 -254.72690 -128.72                 5           1998   \n",
       "1424   8.964686 -252.34178  -94.83                 5           2001   \n",
       "1220   7.144740 -253.03832  -42.87                 4           1999   \n",
       "1374  10.853374 -251.70933 -106.15                 3           1998   \n",
       "\n",
       "      Birthday Month  House Slytherin  House Hufflepuff  House Gryffindor  \\\n",
       "615                4                0                 0                 1   \n",
       "879                5                0                 0                 1   \n",
       "399                1                0                 0                 1   \n",
       "885                1                0                 0                 1   \n",
       "671                7                0                 0                 1   \n",
       "...              ...              ...               ...               ...   \n",
       "769                1                1                 0                 0   \n",
       "905               10                1                 0                 0   \n",
       "1424               6                1                 0                 0   \n",
       "1220               8                1                 0                 0   \n",
       "1374              12                1                 0                 0   \n",
       "\n",
       "      House Ravenclaw        pred  \n",
       "615                 0  Gryffindor  \n",
       "879                 0  Gryffindor  \n",
       "399                 0  Gryffindor  \n",
       "885                 0  Gryffindor  \n",
       "671                 0  Gryffindor  \n",
       "...               ...         ...  \n",
       "769                 0   Slytherin  \n",
       "905                 0   Slytherin  \n",
       "1424                0   Slytherin  \n",
       "1220                0   Slytherin  \n",
       "1374                0   Slytherin  \n",
       "\n",
       "[1200 rows x 20 columns]"
      ]
     },
     "execution_count": 22,
     "metadata": {},
     "output_type": "execute_result"
    }
   ],
   "source": [
    "houses = {0 : 'Slytherin', 1 : 'Hufflepuff', 2 : 'Gryffindor', 3 : 'Ravenclaw'}\n",
    "data_train = data_train.replace({'pred':houses})\n",
    "data_train"
   ]
  },
  {
   "cell_type": "code",
   "execution_count": 23,
   "metadata": {},
   "outputs": [
    {
     "data": {
      "text/plain": [
       "0.9833333333333333"
      ]
     },
     "execution_count": 23,
     "metadata": {},
     "output_type": "execute_result"
    }
   ],
   "source": [
    "data_train['true']=(data_train['Hogwarts House'] == data_train['pred'])\n",
    "data_train['true'].sum() / len(data_train)"
   ]
  },
  {
   "cell_type": "code",
   "execution_count": 24,
   "metadata": {},
   "outputs": [],
   "source": [
    "data_test = data.iloc[X_test.index]"
   ]
  },
  {
   "cell_type": "code",
   "execution_count": 25,
   "metadata": {},
   "outputs": [
    {
     "name": "stderr",
     "output_type": "stream",
     "text": [
      "/tmp/ipykernel_498897/3457594831.py:1: SettingWithCopyWarning: \n",
      "A value is trying to be set on a copy of a slice from a DataFrame.\n",
      "Try using .loc[row_indexer,col_indexer] = value instead\n",
      "\n",
      "See the caveats in the documentation: https://pandas.pydata.org/pandas-docs/stable/user_guide/indexing.html#returning-a-view-versus-a-copy\n",
      "  data_test['pred'] = sorting_hat.predict(X_test_preprocessed)\n"
     ]
    },
    {
     "data": {
      "text/html": [
       "<div>\n",
       "<style scoped>\n",
       "    .dataframe tbody tr th:only-of-type {\n",
       "        vertical-align: middle;\n",
       "    }\n",
       "\n",
       "    .dataframe tbody tr th {\n",
       "        vertical-align: top;\n",
       "    }\n",
       "\n",
       "    .dataframe thead th {\n",
       "        text-align: right;\n",
       "    }\n",
       "</style>\n",
       "<table border=\"1\" class=\"dataframe\">\n",
       "  <thead>\n",
       "    <tr style=\"text-align: right;\">\n",
       "      <th></th>\n",
       "      <th>Hogwarts House</th>\n",
       "      <th>Best Hand</th>\n",
       "      <th>Astronomy</th>\n",
       "      <th>Herbology</th>\n",
       "      <th>Divination</th>\n",
       "      <th>Muggle Studies</th>\n",
       "      <th>Ancient Runes</th>\n",
       "      <th>History of Magic</th>\n",
       "      <th>Transfiguration</th>\n",
       "      <th>Potions</th>\n",
       "      <th>Charms</th>\n",
       "      <th>Flying</th>\n",
       "      <th>Birthday Weekday</th>\n",
       "      <th>Birthday Year</th>\n",
       "      <th>Birthday Month</th>\n",
       "      <th>pred</th>\n",
       "    </tr>\n",
       "  </thead>\n",
       "  <tbody>\n",
       "    <tr>\n",
       "      <th>2</th>\n",
       "      <td>Ravenclaw</td>\n",
       "      <td>Left</td>\n",
       "      <td>-366.076117</td>\n",
       "      <td>7.725017</td>\n",
       "      <td>6.140</td>\n",
       "      <td>664.893521</td>\n",
       "      <td>602.585284</td>\n",
       "      <td>3.555579</td>\n",
       "      <td>1088.088348</td>\n",
       "      <td>8.728531</td>\n",
       "      <td>-227.34265</td>\n",
       "      <td>30.42</td>\n",
       "      <td>2</td>\n",
       "      <td>1999</td>\n",
       "      <td>11</td>\n",
       "      <td>Ravenclaw</td>\n",
       "    </tr>\n",
       "    <tr>\n",
       "      <th>7</th>\n",
       "      <td>Hufflepuff</td>\n",
       "      <td>Right</td>\n",
       "      <td>411.412727</td>\n",
       "      <td>5.931832</td>\n",
       "      <td>2.769</td>\n",
       "      <td>-502.021336</td>\n",
       "      <td>439.351416</td>\n",
       "      <td>NaN</td>\n",
       "      <td>1041.091935</td>\n",
       "      <td>6.581791</td>\n",
       "      <td>-244.03492</td>\n",
       "      <td>72.25</td>\n",
       "      <td>1</td>\n",
       "      <td>1997</td>\n",
       "      <td>7</td>\n",
       "      <td>Hufflepuff</td>\n",
       "    </tr>\n",
       "    <tr>\n",
       "      <th>10</th>\n",
       "      <td>Hufflepuff</td>\n",
       "      <td>Right</td>\n",
       "      <td>604.933962</td>\n",
       "      <td>5.484189</td>\n",
       "      <td>5.358</td>\n",
       "      <td>-530.795896</td>\n",
       "      <td>484.872671</td>\n",
       "      <td>5.699654</td>\n",
       "      <td>1036.285357</td>\n",
       "      <td>9.293132</td>\n",
       "      <td>-242.69168</td>\n",
       "      <td>64.61</td>\n",
       "      <td>3</td>\n",
       "      <td>1998</td>\n",
       "      <td>5</td>\n",
       "      <td>Hufflepuff</td>\n",
       "    </tr>\n",
       "    <tr>\n",
       "      <th>12</th>\n",
       "      <td>Hufflepuff</td>\n",
       "      <td>Right</td>\n",
       "      <td>709.094614</td>\n",
       "      <td>1.705389</td>\n",
       "      <td>7.091</td>\n",
       "      <td>-328.712955</td>\n",
       "      <td>435.502183</td>\n",
       "      <td>6.300649</td>\n",
       "      <td>1037.028317</td>\n",
       "      <td>8.110274</td>\n",
       "      <td>-244.00363</td>\n",
       "      <td>7.56</td>\n",
       "      <td>0</td>\n",
       "      <td>2000</td>\n",
       "      <td>3</td>\n",
       "      <td>Hufflepuff</td>\n",
       "    </tr>\n",
       "    <tr>\n",
       "      <th>13</th>\n",
       "      <td>Slytherin</td>\n",
       "      <td>Left</td>\n",
       "      <td>-544.192049</td>\n",
       "      <td>-7.308856</td>\n",
       "      <td>-6.180</td>\n",
       "      <td>-319.946875</td>\n",
       "      <td>391.652916</td>\n",
       "      <td>2.914732</td>\n",
       "      <td>1082.581409</td>\n",
       "      <td>10.948791</td>\n",
       "      <td>-251.12516</td>\n",
       "      <td>-80.42</td>\n",
       "      <td>3</td>\n",
       "      <td>1997</td>\n",
       "      <td>2</td>\n",
       "      <td>Slytherin</td>\n",
       "    </tr>\n",
       "    <tr>\n",
       "      <th>...</th>\n",
       "      <td>...</td>\n",
       "      <td>...</td>\n",
       "      <td>...</td>\n",
       "      <td>...</td>\n",
       "      <td>...</td>\n",
       "      <td>...</td>\n",
       "      <td>...</td>\n",
       "      <td>...</td>\n",
       "      <td>...</td>\n",
       "      <td>...</td>\n",
       "      <td>...</td>\n",
       "      <td>...</td>\n",
       "      <td>...</td>\n",
       "      <td>...</td>\n",
       "      <td>...</td>\n",
       "      <td>...</td>\n",
       "    </tr>\n",
       "    <tr>\n",
       "      <th>1586</th>\n",
       "      <td>Slytherin</td>\n",
       "      <td>Left</td>\n",
       "      <td>-485.249736</td>\n",
       "      <td>-8.390447</td>\n",
       "      <td>-6.040</td>\n",
       "      <td>-522.882041</td>\n",
       "      <td>370.798886</td>\n",
       "      <td>6.622655</td>\n",
       "      <td>1066.781683</td>\n",
       "      <td>11.485894</td>\n",
       "      <td>-253.02158</td>\n",
       "      <td>-138.01</td>\n",
       "      <td>3</td>\n",
       "      <td>1999</td>\n",
       "      <td>1</td>\n",
       "      <td>Slytherin</td>\n",
       "    </tr>\n",
       "    <tr>\n",
       "      <th>1588</th>\n",
       "      <td>Slytherin</td>\n",
       "      <td>Right</td>\n",
       "      <td>-492.510311</td>\n",
       "      <td>-2.208650</td>\n",
       "      <td>-7.270</td>\n",
       "      <td>-622.936567</td>\n",
       "      <td>NaN</td>\n",
       "      <td>2.201186</td>\n",
       "      <td>1069.012391</td>\n",
       "      <td>9.117247</td>\n",
       "      <td>-250.91192</td>\n",
       "      <td>-19.50</td>\n",
       "      <td>4</td>\n",
       "      <td>1999</td>\n",
       "      <td>4</td>\n",
       "      <td>Slytherin</td>\n",
       "    </tr>\n",
       "    <tr>\n",
       "      <th>1593</th>\n",
       "      <td>Ravenclaw</td>\n",
       "      <td>Left</td>\n",
       "      <td>-426.175401</td>\n",
       "      <td>5.681107</td>\n",
       "      <td>6.205</td>\n",
       "      <td>473.879478</td>\n",
       "      <td>647.238809</td>\n",
       "      <td>6.254227</td>\n",
       "      <td>1046.815627</td>\n",
       "      <td>7.206156</td>\n",
       "      <td>-230.80139</td>\n",
       "      <td>-29.82</td>\n",
       "      <td>3</td>\n",
       "      <td>1998</td>\n",
       "      <td>1</td>\n",
       "      <td>Ravenclaw</td>\n",
       "    </tr>\n",
       "    <tr>\n",
       "      <th>1596</th>\n",
       "      <td>Slytherin</td>\n",
       "      <td>Left</td>\n",
       "      <td>367.531174</td>\n",
       "      <td>6.061064</td>\n",
       "      <td>1.757</td>\n",
       "      <td>-643.271092</td>\n",
       "      <td>445.827565</td>\n",
       "      <td>2.238112</td>\n",
       "      <td>1056.147366</td>\n",
       "      <td>5.825263</td>\n",
       "      <td>-246.42719</td>\n",
       "      <td>44.80</td>\n",
       "      <td>3</td>\n",
       "      <td>1998</td>\n",
       "      <td>3</td>\n",
       "      <td>Hufflepuff</td>\n",
       "    </tr>\n",
       "    <tr>\n",
       "      <th>1597</th>\n",
       "      <td>Gryffindor</td>\n",
       "      <td>Right</td>\n",
       "      <td>544.018925</td>\n",
       "      <td>-3.203269</td>\n",
       "      <td>6.065</td>\n",
       "      <td>-385.150457</td>\n",
       "      <td>635.211486</td>\n",
       "      <td>-5.984257</td>\n",
       "      <td>953.866685</td>\n",
       "      <td>1.709808</td>\n",
       "      <td>-251.63679</td>\n",
       "      <td>198.47</td>\n",
       "      <td>6</td>\n",
       "      <td>1999</td>\n",
       "      <td>10</td>\n",
       "      <td>Gryffindor</td>\n",
       "    </tr>\n",
       "  </tbody>\n",
       "</table>\n",
       "<p>400 rows × 16 columns</p>\n",
       "</div>"
      ],
      "text/plain": [
       "     Hogwarts House Best Hand   Astronomy  Herbology  Divination  \\\n",
       "2         Ravenclaw      Left -366.076117   7.725017       6.140   \n",
       "7        Hufflepuff     Right  411.412727   5.931832       2.769   \n",
       "10       Hufflepuff     Right  604.933962   5.484189       5.358   \n",
       "12       Hufflepuff     Right  709.094614   1.705389       7.091   \n",
       "13        Slytherin      Left -544.192049  -7.308856      -6.180   \n",
       "...             ...       ...         ...        ...         ...   \n",
       "1586      Slytherin      Left -485.249736  -8.390447      -6.040   \n",
       "1588      Slytherin     Right -492.510311  -2.208650      -7.270   \n",
       "1593      Ravenclaw      Left -426.175401   5.681107       6.205   \n",
       "1596      Slytherin      Left  367.531174   6.061064       1.757   \n",
       "1597     Gryffindor     Right  544.018925  -3.203269       6.065   \n",
       "\n",
       "      Muggle Studies  Ancient Runes  History of Magic  Transfiguration  \\\n",
       "2         664.893521     602.585284          3.555579      1088.088348   \n",
       "7        -502.021336     439.351416               NaN      1041.091935   \n",
       "10       -530.795896     484.872671          5.699654      1036.285357   \n",
       "12       -328.712955     435.502183          6.300649      1037.028317   \n",
       "13       -319.946875     391.652916          2.914732      1082.581409   \n",
       "...              ...            ...               ...              ...   \n",
       "1586     -522.882041     370.798886          6.622655      1066.781683   \n",
       "1588     -622.936567            NaN          2.201186      1069.012391   \n",
       "1593      473.879478     647.238809          6.254227      1046.815627   \n",
       "1596     -643.271092     445.827565          2.238112      1056.147366   \n",
       "1597     -385.150457     635.211486         -5.984257       953.866685   \n",
       "\n",
       "        Potions     Charms  Flying  Birthday Weekday  Birthday Year  \\\n",
       "2      8.728531 -227.34265   30.42                 2           1999   \n",
       "7      6.581791 -244.03492   72.25                 1           1997   \n",
       "10     9.293132 -242.69168   64.61                 3           1998   \n",
       "12     8.110274 -244.00363    7.56                 0           2000   \n",
       "13    10.948791 -251.12516  -80.42                 3           1997   \n",
       "...         ...        ...     ...               ...            ...   \n",
       "1586  11.485894 -253.02158 -138.01                 3           1999   \n",
       "1588   9.117247 -250.91192  -19.50                 4           1999   \n",
       "1593   7.206156 -230.80139  -29.82                 3           1998   \n",
       "1596   5.825263 -246.42719   44.80                 3           1998   \n",
       "1597   1.709808 -251.63679  198.47                 6           1999   \n",
       "\n",
       "      Birthday Month        pred  \n",
       "2                 11   Ravenclaw  \n",
       "7                  7  Hufflepuff  \n",
       "10                 5  Hufflepuff  \n",
       "12                 3  Hufflepuff  \n",
       "13                 2   Slytherin  \n",
       "...              ...         ...  \n",
       "1586               1   Slytherin  \n",
       "1588               4   Slytherin  \n",
       "1593               1   Ravenclaw  \n",
       "1596               3  Hufflepuff  \n",
       "1597              10  Gryffindor  \n",
       "\n",
       "[400 rows x 16 columns]"
      ]
     },
     "execution_count": 25,
     "metadata": {},
     "output_type": "execute_result"
    }
   ],
   "source": [
    "data_test['pred'] = sorting_hat.predict(X_test_preprocessed)\n",
    "houses = {0 : 'Slytherin', 1 : 'Hufflepuff', 2 : 'Gryffindor', 3 : 'Ravenclaw'}\n",
    "data_test = data_test.replace({'pred':houses})\n",
    "data_test"
   ]
  },
  {
   "cell_type": "code",
   "execution_count": 26,
   "metadata": {},
   "outputs": [
    {
     "name": "stdout",
     "output_type": "stream",
     "text": [
      "0.9833333333333333\n",
      "0.9775\n"
     ]
    }
   ],
   "source": [
    "data_test['true']=(data_test['Hogwarts House'] == data_test['pred'])\n",
    "print(data_train['true'].sum() / len(data_train))\n",
    "print(data_test['true'].sum() / len(data_test))"
   ]
  },
  {
   "cell_type": "code",
   "execution_count": 27,
   "metadata": {},
   "outputs": [
    {
     "name": "stderr",
     "output_type": "stream",
     "text": [
      "/mnt/nfs/homes/acostes/.local/lib/python3.10/site-packages/plotly/graph_objs/_deprecations.py:378: DeprecationWarning:\n",
      "\n",
      "plotly.graph_objs.Line is deprecated.\n",
      "Please replace it with one of the following more specific types\n",
      "  - plotly.graph_objs.scatter.Line\n",
      "  - plotly.graph_objs.layout.shape.Line\n",
      "  - etc.\n",
      "\n",
      "\n"
     ]
    },
    {
     "data": {
      "application/vnd.plotly.v1+json": {
       "config": {
        "plotlyServerURL": "https://plot.ly"
       },
       "data": [
        {
         "type": "scatter",
         "x": [
          1,
          2,
          3,
          4,
          5,
          6,
          7,
          8,
          9,
          10,
          11,
          12,
          13,
          14,
          15,
          16,
          17,
          18,
          19,
          20,
          21,
          22,
          23,
          24,
          25,
          26,
          27,
          28,
          29,
          30,
          31,
          32,
          33,
          34,
          35,
          36,
          37,
          38,
          39,
          40,
          41,
          42,
          43,
          44,
          45,
          46,
          47,
          48,
          49,
          50,
          51,
          52,
          53,
          54,
          55,
          56,
          57,
          58,
          59,
          60,
          61,
          62,
          63,
          64,
          65,
          66,
          67,
          68,
          69,
          70,
          71,
          72,
          73,
          74,
          75,
          76,
          77,
          78,
          79,
          80,
          81,
          82,
          83,
          84,
          85,
          86,
          87,
          88,
          89,
          90,
          91,
          92,
          93,
          94,
          95,
          96,
          97,
          98,
          99,
          100,
          101,
          102,
          103,
          104,
          105,
          106,
          107,
          108,
          109,
          110,
          111,
          112,
          113,
          114,
          115,
          116,
          117,
          118,
          119,
          120,
          121,
          122,
          123,
          124,
          125,
          126,
          127,
          128,
          129,
          130,
          131,
          132,
          133,
          134,
          135,
          136,
          137,
          138,
          139,
          140,
          141,
          142,
          143,
          144,
          145,
          146,
          147,
          148,
          149,
          150,
          151,
          152,
          153,
          154,
          155,
          156,
          157,
          158,
          159,
          160,
          161,
          162,
          163,
          164,
          165,
          166,
          167,
          168,
          169,
          170,
          171,
          172,
          173,
          174,
          175,
          176,
          177,
          178,
          179,
          180,
          181,
          182,
          183,
          184,
          185,
          186,
          187,
          188,
          189,
          190,
          191,
          192,
          193,
          194,
          195,
          196,
          197,
          198,
          199,
          200
         ],
         "y": [
          14.123453043880275,
          11.185507427911352,
          28.60771644804707,
          25.634817796653262,
          19.01296439248394,
          25.24698333336118,
          14.622887397691546,
          16.487775859222833,
          25.909146812655152,
          20.9248577514547,
          13.405713376110329,
          15.42737832155495,
          21.645187689074433,
          26.27952178125063,
          22.35045561669854,
          17.683298504309725,
          15.300052188100832,
          19.892114045534438,
          18.81652474956281,
          18.3481440273656,
          15.939459208052543,
          6.482638566920334,
          13.420883633982822,
          33.39289516467718,
          17.50814676475218,
          8.21527537407223,
          14.41894057589681,
          21.93892977738032,
          19.823177829015393,
          17.766240535680293,
          11.392120926415483,
          13.914602797558317,
          16.390141108306658,
          10.716636098195963,
          8.822636134028139,
          24.725561004801662,
          11.225810857452545,
          12.856878678165929,
          25.0650246745999,
          15.938124267372723,
          6.231099024044102,
          12.54972814898841,
          13.08445724792707,
          12.827787084730138,
          19.78844672197642,
          11.760700468628414,
          6.355535267425084,
          15.609915678131486,
          6.42256911297987,
          11.687507269653233,
          23.033450999102996,
          9.680550496082189,
          3.993542352945567,
          14.242587804685112,
          12.207237159613948,
          15.585642588315629,
          15.933463290294325,
          3.9196995949419713,
          3.746245262239836,
          13.04960965499724,
          5.211747412659467,
          8.298692606829112,
          24.00102635156395,
          10.648134803302131,
          4.449896961364934,
          10.245753373438282,
          4.223186573270732,
          4.032778035129319,
          13.750838272273198,
          5.019087879264717,
          3.3167321145899082,
          9.932825648899328,
          3.346860401738111,
          3.3344461144982946,
          9.846922379131433,
          3.260977081151152,
          3.3528166949178644,
          9.760709798860601,
          3.174783842747001,
          3.371735571001735,
          9.674205939604905,
          3.0883030901119484,
          3.391092185609861,
          9.587438222927508,
          3.001564996528731,
          3.4107560306396554,
          9.50044084224973,
          2.914606389130778,
          3.43056375502566,
          9.413255774718602,
          2.8274725432390446,
          3.4503053696727433,
          9.325935321857974,
          2.740220144506012,
          3.4697074569513378,
          9.238545446344787,
          2.652921036052726,
          3.4884122074246173,
          9.151169657501447,
          2.5656665978981965,
          3.5059516695246464,
          9.063913102504928,
          2.478572455785455,
          3.521717361929689,
          8.976906088755124,
          2.3917827631518898,
          3.53492681704066,
          8.890305451480861,
          2.305472474619198,
          3.544591060577772,
          8.804290885301857,
          2.2198447229416534,
          3.549490609154988,
          8.719051562855226,
          2.135118624750909,
          3.5481716108250745,
          8.634756382607437,
          2.051500936214583,
          3.5389757967446185,
          8.551499985355482,
          1.969134012498341,
          3.520112705760021,
          8.46921791062888,
          1.8880142807883191,
          3.4897628235502,
          8.387569062923918,
          1.8078811887750814,
          3.4461613170189285,
          8.305788807065664,
          1.7280833164650433,
          3.3875607565998638,
          8.22250767041918,
          1.6474229603164232,
          3.311924122917847,
          8.135478566266872,
          1.563936126880384,
          3.2161395742180305,
          8.041000144348653,
          1.474434724214764,
          3.0942969353846244,
          7.932371606823531,
          1.3732807349498717,
          2.933380625241432,
          7.794950167140076,
          1.2485538749545313,
          2.6989676569038408,
          7.585250027291287,
          1.0669497799593268,
          2.26580990129292,
          7.082493411329265,
          0.6931409469153053,
          0.9596592287954874,
          3.176058428514529,
          0.6661478594593339,
          1.4240435655660135,
          2.3770620052918776,
          7.066023506701578,
          0.6873051626618654,
          0.7950061308506462,
          2.0993429388400666,
          1.6897811901987452,
          5.717376491032726,
          0.2604071200603211,
          0.23733096597390171,
          0.23695684528623956,
          0.2368208372334638,
          0.23672900872076397,
          0.2366464992169905,
          0.2365662811033571,
          0.2364868736936424,
          0.23640795740660384,
          0.23632946081789336,
          0.23625136605001135,
          0.23617366684672653,
          0.2360963594971549,
          0.23601944086647875,
          0.23594290796800674,
          0.23586675786991762,
          0.2357909876747237,
          0.23571559451453458,
          0.23564057554976453,
          0.2355659279685877,
          0.23549164898656083,
          0.23541773584629044,
          0.2353441858171038,
          0.23527099619473474,
          0.23519816430101104,
          0.23512568748354218,
          0.23505356311541808,
          0.2349817885949106,
          0.2349103613451733,
          0.2348392788139546,
          0.23476853847330625,
          0.23469813781930288,
          0.23462807437176095,
          0.23455834567396275,
          0.2344889492923863,
          0.23441988281643417,
          0.2343511438581711,
          0.23428273005206318
         ]
        },
        {
         "type": "scatter",
         "x": [
          1,
          2,
          3,
          4,
          5,
          6,
          7,
          8,
          9,
          10,
          11,
          12,
          13,
          14,
          15,
          16,
          17,
          18,
          19,
          20,
          21,
          22,
          23,
          24,
          25,
          26,
          27,
          28,
          29,
          30,
          31,
          32,
          33,
          34,
          35,
          36,
          37,
          38,
          39,
          40,
          41,
          42,
          43,
          44,
          45,
          46,
          47,
          48,
          49,
          50,
          51,
          52,
          53,
          54,
          55,
          56,
          57,
          58,
          59,
          60,
          61,
          62,
          63,
          64,
          65,
          66,
          67,
          68,
          69,
          70,
          71,
          72,
          73,
          74,
          75,
          76,
          77,
          78,
          79,
          80,
          81,
          82,
          83,
          84,
          85,
          86,
          87,
          88,
          89,
          90,
          91,
          92,
          93,
          94,
          95,
          96,
          97,
          98,
          99,
          100,
          101,
          102,
          103,
          104,
          105,
          106,
          107,
          108,
          109,
          110,
          111,
          112,
          113,
          114,
          115,
          116,
          117,
          118,
          119,
          120,
          121,
          122,
          123,
          124,
          125,
          126,
          127,
          128,
          129,
          130,
          131,
          132,
          133,
          134,
          135,
          136,
          137,
          138,
          139,
          140,
          141,
          142,
          143,
          144,
          145,
          146,
          147,
          148,
          149,
          150,
          151,
          152,
          153,
          154,
          155,
          156,
          157,
          158,
          159,
          160,
          161,
          162,
          163,
          164,
          165,
          166,
          167,
          168,
          169,
          170,
          171,
          172,
          173,
          174,
          175,
          176,
          177,
          178,
          179,
          180,
          181,
          182,
          183,
          184,
          185,
          186,
          187,
          188,
          189,
          190,
          191,
          192,
          193,
          194,
          195,
          196,
          197,
          198,
          199,
          200
         ],
         "y": [
          14.126847424842179,
          11.192331284819629,
          28.616077363142185,
          25.647843616213876,
          19.022570137452018,
          25.22625904535309,
          14.646794495986937,
          16.504899965741124,
          25.908575120367995,
          20.95603600409788,
          13.424956618136388,
          15.431486375236767,
          21.684659538329683,
          26.303463847236713,
          22.348330671236845,
          17.708435975517407,
          15.330445385820939,
          19.903305301411386,
          18.852161755630224,
          18.37528725688543,
          15.957328867835832,
          6.512837029595074,
          13.451374237542499,
          33.44067543676611,
          17.559586012254748,
          8.236213301599589,
          14.456718855215911,
          21.97565762108765,
          19.864300703254848,
          17.80293834810981,
          11.472511348682785,
          13.932575833230121,
          16.409364503937123,
          10.743812006210513,
          8.844299537396637,
          24.79659293990848,
          11.290201023698605,
          12.886217226680772,
          25.10525223040421,
          16.01899298190878,
          6.260081835360651,
          12.619858302375398,
          13.159499239101343,
          12.865141816060435,
          19.831459421279785,
          11.7810319680798,
          6.355621068625809,
          15.639886530489058,
          6.45346577926753,
          11.682154185037685,
          23.05536815881395,
          9.71535672735239,
          3.9923988086235216,
          14.262422768727248,
          12.269314649849777,
          15.568981071391054,
          15.958758710844322,
          3.976247564664488,
          3.714011853250839,
          13.083734463332254,
          5.257028767497561,
          8.323810720304165,
          24.030690456505535,
          10.690687372235129,
          4.425823667736962,
          10.277246126611521,
          4.277905056733112,
          3.9968925091944856,
          13.777367874021293,
          5.072597113506828,
          3.297142748512446,
          9.980498281905295,
          3.412163810436681,
          3.313079380089225,
          9.897487287999251,
          3.328814484060619,
          3.330041767277907,
          9.813869468527512,
          3.2453902523467475,
          3.347364100080873,
          9.730105583558352,
          3.1615645651730664,
          3.3652090138730713,
          9.646010337473129,
          3.077531891506394,
          3.383319230433874,
          9.56171473956521,
          2.9932548653780455,
          3.4015870500669516,
          9.477218588970018,
          2.9088096495727265,
          3.419778778133689,
          9.392591386716044,
          2.8242393006847477,
          3.4376300639998156,
          9.30789197449375,
          2.7396195705018123,
          3.4547790124137627,
          9.22320612227825,
          2.6550385377600625,
          3.470758319831611,
          9.138637606687062,
          2.5706105628548523,
          3.484958106021124,
          9.054316493687189,
          2.4864770347615583,
          3.4965947673766355,
          8.970398793728107,
          2.4028096623265536,
          3.504677528207075,
          8.887063343028219,
          2.3198072753421046,
          3.507984591332608,
          8.804498236087165,
          2.237683553388019,
          3.505059086948301,
          8.722871160199237,
          2.1566384168680353,
          3.494238982170223,
          8.642275476181245,
          2.0768057017388846,
          3.4737293145248094,
          8.56264552617898,
          1.9981711311618786,
          3.4417054790839936,
          8.483639310378086,
          1.920460258799786,
          3.396397269391688,
          8.40449183812074,
          1.8430024679403152,
          3.336052082912673,
          8.323834111678677,
          1.7645712081134304,
          3.2586286781485234,
          8.239420736547949,
          1.6831550131423858,
          3.1610135088892477,
          8.147554156712978,
          1.595479712342394,
          3.037301991088538,
          8.041542171091528,
          1.4957302487288466,
          2.874510578735201,
          7.90676492421497,
          1.371541539230724,
          2.6383823444980488,
          7.699817344572235,
          1.1880136259384877,
          2.2051003406578564,
          7.200389738386496,
          0.798517235769036,
          0.9388274819894936,
          3.3051533732117355,
          0.668271205287377,
          1.554314184925323,
          2.313399242696504,
          7.187543933174627,
          0.7943126325262128,
          0.785987345346975,
          2.2341402125855137,
          1.6349605009203232,
          5.844833090608238,
          0.32195665115725836,
          0.2956777568417511,
          0.2952291656538862,
          0.29507423388207155,
          0.2949824397492634,
          0.2949077028707097,
          0.29483864768326273,
          0.29477192983162764,
          0.29470639401138354,
          0.2946415862496386,
          0.29457731190964526,
          0.2945134827251727,
          0.2944500568807919,
          0.29438701354298735,
          0.29432434152331877,
          0.2942620341107956,
          0.2942000866887382,
          0.2941384956295651,
          0.29407725778080934,
          0.29401637022570615,
          0.2939558301715234,
          0.293895634897374,
          0.29383578172973257,
          0.2937762680308657,
          0.2937170911932767,
          0.2936582486369581,
          0.293599737807951,
          0.2935415561775192,
          0.2934837012416102,
          0.29342617052044984,
          0.29336896155820685,
          0.29331207192268494,
          0.2932554992050376,
          0.29319924101948663,
          0.293143295003054,
          0.2930876588152939,
          0.29303233013803026,
          0.2929773066750999
         ]
        }
       ],
       "layout": {
        "template": {
         "data": {
          "bar": [
           {
            "error_x": {
             "color": "#2a3f5f"
            },
            "error_y": {
             "color": "#2a3f5f"
            },
            "marker": {
             "line": {
              "color": "#E5ECF6",
              "width": 0.5
             },
             "pattern": {
              "fillmode": "overlay",
              "size": 10,
              "solidity": 0.2
             }
            },
            "type": "bar"
           }
          ],
          "barpolar": [
           {
            "marker": {
             "line": {
              "color": "#E5ECF6",
              "width": 0.5
             },
             "pattern": {
              "fillmode": "overlay",
              "size": 10,
              "solidity": 0.2
             }
            },
            "type": "barpolar"
           }
          ],
          "carpet": [
           {
            "aaxis": {
             "endlinecolor": "#2a3f5f",
             "gridcolor": "white",
             "linecolor": "white",
             "minorgridcolor": "white",
             "startlinecolor": "#2a3f5f"
            },
            "baxis": {
             "endlinecolor": "#2a3f5f",
             "gridcolor": "white",
             "linecolor": "white",
             "minorgridcolor": "white",
             "startlinecolor": "#2a3f5f"
            },
            "type": "carpet"
           }
          ],
          "choropleth": [
           {
            "colorbar": {
             "outlinewidth": 0,
             "ticks": ""
            },
            "type": "choropleth"
           }
          ],
          "contour": [
           {
            "colorbar": {
             "outlinewidth": 0,
             "ticks": ""
            },
            "colorscale": [
             [
              0,
              "#0d0887"
             ],
             [
              0.1111111111111111,
              "#46039f"
             ],
             [
              0.2222222222222222,
              "#7201a8"
             ],
             [
              0.3333333333333333,
              "#9c179e"
             ],
             [
              0.4444444444444444,
              "#bd3786"
             ],
             [
              0.5555555555555556,
              "#d8576b"
             ],
             [
              0.6666666666666666,
              "#ed7953"
             ],
             [
              0.7777777777777778,
              "#fb9f3a"
             ],
             [
              0.8888888888888888,
              "#fdca26"
             ],
             [
              1,
              "#f0f921"
             ]
            ],
            "type": "contour"
           }
          ],
          "contourcarpet": [
           {
            "colorbar": {
             "outlinewidth": 0,
             "ticks": ""
            },
            "type": "contourcarpet"
           }
          ],
          "heatmap": [
           {
            "colorbar": {
             "outlinewidth": 0,
             "ticks": ""
            },
            "colorscale": [
             [
              0,
              "#0d0887"
             ],
             [
              0.1111111111111111,
              "#46039f"
             ],
             [
              0.2222222222222222,
              "#7201a8"
             ],
             [
              0.3333333333333333,
              "#9c179e"
             ],
             [
              0.4444444444444444,
              "#bd3786"
             ],
             [
              0.5555555555555556,
              "#d8576b"
             ],
             [
              0.6666666666666666,
              "#ed7953"
             ],
             [
              0.7777777777777778,
              "#fb9f3a"
             ],
             [
              0.8888888888888888,
              "#fdca26"
             ],
             [
              1,
              "#f0f921"
             ]
            ],
            "type": "heatmap"
           }
          ],
          "heatmapgl": [
           {
            "colorbar": {
             "outlinewidth": 0,
             "ticks": ""
            },
            "colorscale": [
             [
              0,
              "#0d0887"
             ],
             [
              0.1111111111111111,
              "#46039f"
             ],
             [
              0.2222222222222222,
              "#7201a8"
             ],
             [
              0.3333333333333333,
              "#9c179e"
             ],
             [
              0.4444444444444444,
              "#bd3786"
             ],
             [
              0.5555555555555556,
              "#d8576b"
             ],
             [
              0.6666666666666666,
              "#ed7953"
             ],
             [
              0.7777777777777778,
              "#fb9f3a"
             ],
             [
              0.8888888888888888,
              "#fdca26"
             ],
             [
              1,
              "#f0f921"
             ]
            ],
            "type": "heatmapgl"
           }
          ],
          "histogram": [
           {
            "marker": {
             "pattern": {
              "fillmode": "overlay",
              "size": 10,
              "solidity": 0.2
             }
            },
            "type": "histogram"
           }
          ],
          "histogram2d": [
           {
            "colorbar": {
             "outlinewidth": 0,
             "ticks": ""
            },
            "colorscale": [
             [
              0,
              "#0d0887"
             ],
             [
              0.1111111111111111,
              "#46039f"
             ],
             [
              0.2222222222222222,
              "#7201a8"
             ],
             [
              0.3333333333333333,
              "#9c179e"
             ],
             [
              0.4444444444444444,
              "#bd3786"
             ],
             [
              0.5555555555555556,
              "#d8576b"
             ],
             [
              0.6666666666666666,
              "#ed7953"
             ],
             [
              0.7777777777777778,
              "#fb9f3a"
             ],
             [
              0.8888888888888888,
              "#fdca26"
             ],
             [
              1,
              "#f0f921"
             ]
            ],
            "type": "histogram2d"
           }
          ],
          "histogram2dcontour": [
           {
            "colorbar": {
             "outlinewidth": 0,
             "ticks": ""
            },
            "colorscale": [
             [
              0,
              "#0d0887"
             ],
             [
              0.1111111111111111,
              "#46039f"
             ],
             [
              0.2222222222222222,
              "#7201a8"
             ],
             [
              0.3333333333333333,
              "#9c179e"
             ],
             [
              0.4444444444444444,
              "#bd3786"
             ],
             [
              0.5555555555555556,
              "#d8576b"
             ],
             [
              0.6666666666666666,
              "#ed7953"
             ],
             [
              0.7777777777777778,
              "#fb9f3a"
             ],
             [
              0.8888888888888888,
              "#fdca26"
             ],
             [
              1,
              "#f0f921"
             ]
            ],
            "type": "histogram2dcontour"
           }
          ],
          "mesh3d": [
           {
            "colorbar": {
             "outlinewidth": 0,
             "ticks": ""
            },
            "type": "mesh3d"
           }
          ],
          "parcoords": [
           {
            "line": {
             "colorbar": {
              "outlinewidth": 0,
              "ticks": ""
             }
            },
            "type": "parcoords"
           }
          ],
          "pie": [
           {
            "automargin": true,
            "type": "pie"
           }
          ],
          "scatter": [
           {
            "fillpattern": {
             "fillmode": "overlay",
             "size": 10,
             "solidity": 0.2
            },
            "type": "scatter"
           }
          ],
          "scatter3d": [
           {
            "line": {
             "colorbar": {
              "outlinewidth": 0,
              "ticks": ""
             }
            },
            "marker": {
             "colorbar": {
              "outlinewidth": 0,
              "ticks": ""
             }
            },
            "type": "scatter3d"
           }
          ],
          "scattercarpet": [
           {
            "marker": {
             "colorbar": {
              "outlinewidth": 0,
              "ticks": ""
             }
            },
            "type": "scattercarpet"
           }
          ],
          "scattergeo": [
           {
            "marker": {
             "colorbar": {
              "outlinewidth": 0,
              "ticks": ""
             }
            },
            "type": "scattergeo"
           }
          ],
          "scattergl": [
           {
            "marker": {
             "colorbar": {
              "outlinewidth": 0,
              "ticks": ""
             }
            },
            "type": "scattergl"
           }
          ],
          "scattermapbox": [
           {
            "marker": {
             "colorbar": {
              "outlinewidth": 0,
              "ticks": ""
             }
            },
            "type": "scattermapbox"
           }
          ],
          "scatterpolar": [
           {
            "marker": {
             "colorbar": {
              "outlinewidth": 0,
              "ticks": ""
             }
            },
            "type": "scatterpolar"
           }
          ],
          "scatterpolargl": [
           {
            "marker": {
             "colorbar": {
              "outlinewidth": 0,
              "ticks": ""
             }
            },
            "type": "scatterpolargl"
           }
          ],
          "scatterternary": [
           {
            "marker": {
             "colorbar": {
              "outlinewidth": 0,
              "ticks": ""
             }
            },
            "type": "scatterternary"
           }
          ],
          "surface": [
           {
            "colorbar": {
             "outlinewidth": 0,
             "ticks": ""
            },
            "colorscale": [
             [
              0,
              "#0d0887"
             ],
             [
              0.1111111111111111,
              "#46039f"
             ],
             [
              0.2222222222222222,
              "#7201a8"
             ],
             [
              0.3333333333333333,
              "#9c179e"
             ],
             [
              0.4444444444444444,
              "#bd3786"
             ],
             [
              0.5555555555555556,
              "#d8576b"
             ],
             [
              0.6666666666666666,
              "#ed7953"
             ],
             [
              0.7777777777777778,
              "#fb9f3a"
             ],
             [
              0.8888888888888888,
              "#fdca26"
             ],
             [
              1,
              "#f0f921"
             ]
            ],
            "type": "surface"
           }
          ],
          "table": [
           {
            "cells": {
             "fill": {
              "color": "#EBF0F8"
             },
             "line": {
              "color": "white"
             }
            },
            "header": {
             "fill": {
              "color": "#C8D4E3"
             },
             "line": {
              "color": "white"
             }
            },
            "type": "table"
           }
          ]
         },
         "layout": {
          "annotationdefaults": {
           "arrowcolor": "#2a3f5f",
           "arrowhead": 0,
           "arrowwidth": 1
          },
          "autotypenumbers": "strict",
          "coloraxis": {
           "colorbar": {
            "outlinewidth": 0,
            "ticks": ""
           }
          },
          "colorscale": {
           "diverging": [
            [
             0,
             "#8e0152"
            ],
            [
             0.1,
             "#c51b7d"
            ],
            [
             0.2,
             "#de77ae"
            ],
            [
             0.3,
             "#f1b6da"
            ],
            [
             0.4,
             "#fde0ef"
            ],
            [
             0.5,
             "#f7f7f7"
            ],
            [
             0.6,
             "#e6f5d0"
            ],
            [
             0.7,
             "#b8e186"
            ],
            [
             0.8,
             "#7fbc41"
            ],
            [
             0.9,
             "#4d9221"
            ],
            [
             1,
             "#276419"
            ]
           ],
           "sequential": [
            [
             0,
             "#0d0887"
            ],
            [
             0.1111111111111111,
             "#46039f"
            ],
            [
             0.2222222222222222,
             "#7201a8"
            ],
            [
             0.3333333333333333,
             "#9c179e"
            ],
            [
             0.4444444444444444,
             "#bd3786"
            ],
            [
             0.5555555555555556,
             "#d8576b"
            ],
            [
             0.6666666666666666,
             "#ed7953"
            ],
            [
             0.7777777777777778,
             "#fb9f3a"
            ],
            [
             0.8888888888888888,
             "#fdca26"
            ],
            [
             1,
             "#f0f921"
            ]
           ],
           "sequentialminus": [
            [
             0,
             "#0d0887"
            ],
            [
             0.1111111111111111,
             "#46039f"
            ],
            [
             0.2222222222222222,
             "#7201a8"
            ],
            [
             0.3333333333333333,
             "#9c179e"
            ],
            [
             0.4444444444444444,
             "#bd3786"
            ],
            [
             0.5555555555555556,
             "#d8576b"
            ],
            [
             0.6666666666666666,
             "#ed7953"
            ],
            [
             0.7777777777777778,
             "#fb9f3a"
            ],
            [
             0.8888888888888888,
             "#fdca26"
            ],
            [
             1,
             "#f0f921"
            ]
           ]
          },
          "colorway": [
           "#636efa",
           "#EF553B",
           "#00cc96",
           "#ab63fa",
           "#FFA15A",
           "#19d3f3",
           "#FF6692",
           "#B6E880",
           "#FF97FF",
           "#FECB52"
          ],
          "font": {
           "color": "#2a3f5f"
          },
          "geo": {
           "bgcolor": "white",
           "lakecolor": "white",
           "landcolor": "#E5ECF6",
           "showlakes": true,
           "showland": true,
           "subunitcolor": "white"
          },
          "hoverlabel": {
           "align": "left"
          },
          "hovermode": "closest",
          "mapbox": {
           "style": "light"
          },
          "paper_bgcolor": "white",
          "plot_bgcolor": "#E5ECF6",
          "polar": {
           "angularaxis": {
            "gridcolor": "white",
            "linecolor": "white",
            "ticks": ""
           },
           "bgcolor": "#E5ECF6",
           "radialaxis": {
            "gridcolor": "white",
            "linecolor": "white",
            "ticks": ""
           }
          },
          "scene": {
           "xaxis": {
            "backgroundcolor": "#E5ECF6",
            "gridcolor": "white",
            "gridwidth": 2,
            "linecolor": "white",
            "showbackground": true,
            "ticks": "",
            "zerolinecolor": "white"
           },
           "yaxis": {
            "backgroundcolor": "#E5ECF6",
            "gridcolor": "white",
            "gridwidth": 2,
            "linecolor": "white",
            "showbackground": true,
            "ticks": "",
            "zerolinecolor": "white"
           },
           "zaxis": {
            "backgroundcolor": "#E5ECF6",
            "gridcolor": "white",
            "gridwidth": 2,
            "linecolor": "white",
            "showbackground": true,
            "ticks": "",
            "zerolinecolor": "white"
           }
          },
          "shapedefaults": {
           "line": {
            "color": "#2a3f5f"
           }
          },
          "ternary": {
           "aaxis": {
            "gridcolor": "white",
            "linecolor": "white",
            "ticks": ""
           },
           "baxis": {
            "gridcolor": "white",
            "linecolor": "white",
            "ticks": ""
           },
           "bgcolor": "#E5ECF6",
           "caxis": {
            "gridcolor": "white",
            "linecolor": "white",
            "ticks": ""
           }
          },
          "title": {
           "x": 0.05
          },
          "xaxis": {
           "automargin": true,
           "gridcolor": "white",
           "linecolor": "white",
           "ticks": "",
           "title": {
            "standoff": 15
           },
           "zerolinecolor": "white",
           "zerolinewidth": 2
          },
          "yaxis": {
           "automargin": true,
           "gridcolor": "white",
           "linecolor": "white",
           "ticks": "",
           "title": {
            "standoff": 15
           },
           "zerolinecolor": "white",
           "zerolinewidth": 2
          }
         }
        }
       }
      }
     },
     "metadata": {},
     "output_type": "display_data"
    }
   ],
   "source": [
    "losses = pd.DataFrame(sorting_hat.losses)\n",
    "fig = go.Figure()\n",
    "fig.add_trace(go.Line(x = losses['step'], y = losses['train_loss']))\n",
    "fig.add_trace(go.Line(x = losses['step'], y = losses['test_loss']))\n",
    "fig.show()"
   ]
  },
  {
   "cell_type": "code",
   "execution_count": 28,
   "metadata": {},
   "outputs": [
    {
     "data": {
      "text/plain": [
       "Hogwarts House\n",
       "Hufflepuff    0.330833\n",
       "Ravenclaw     0.276667\n",
       "Gryffindor    0.204167\n",
       "Slytherin     0.188333\n",
       "Name: count, dtype: float64"
      ]
     },
     "execution_count": 28,
     "metadata": {},
     "output_type": "execute_result"
    }
   ],
   "source": [
    "data_train['Hogwarts House'].value_counts() / len(data_train)"
   ]
  },
  {
   "cell_type": "code",
   "execution_count": 29,
   "metadata": {},
   "outputs": [
    {
     "data": {
      "text/plain": [
       "Hogwarts House\n",
       "Hufflepuff    0.3300\n",
       "Ravenclaw     0.2775\n",
       "Gryffindor    0.2050\n",
       "Slytherin     0.1875\n",
       "Name: count, dtype: float64"
      ]
     },
     "execution_count": 29,
     "metadata": {},
     "output_type": "execute_result"
    }
   ],
   "source": [
    "data_test['Hogwarts House'].value_counts() / len(data_test)"
   ]
  },
  {
   "cell_type": "code",
   "execution_count": 30,
   "metadata": {},
   "outputs": [
    {
     "data": {
      "text/plain": [
       "Hogwarts House\n",
       "Hufflepuff    0.330625\n",
       "Ravenclaw     0.276875\n",
       "Gryffindor    0.204375\n",
       "Slytherin     0.188125\n",
       "Name: count, dtype: float64"
      ]
     },
     "execution_count": 30,
     "metadata": {},
     "output_type": "execute_result"
    }
   ],
   "source": [
    "data['Hogwarts House'].value_counts() / len(data)"
   ]
  },
  {
   "cell_type": "code",
   "execution_count": 31,
   "metadata": {},
   "outputs": [
    {
     "name": "stderr",
     "output_type": "stream",
     "text": [
      "/tmp/ipykernel_498897/561479062.py:1: FutureWarning:\n",
      "\n",
      "Series.__getitem__ treating keys as positions is deprecated. In a future version, integer keys will always be treated as labels (consistent with DataFrame behavior). To access a value by position, use `ser.iloc[pos]`\n",
      "\n"
     ]
    },
    {
     "data": {
      "text/plain": [
       "{'Best Hand': -0.6951720520307669,\n",
       " 'Astronomy': -0.7685009266808761,\n",
       " 'Herbology': -1.2100826144813663,\n",
       " 'Divination': -0.3158209210039229,\n",
       " 'Muggle Studies': -0.5039847447496633,\n",
       " 'Ancient Runes': 0.21576539754227397,\n",
       " 'History of Magic': 0.2529889007283751,\n",
       " 'Transfiguration': 0.6800258771220543,\n",
       " 'Potions': -0.46705116726158985,\n",
       " 'Charms': -0.5546934203391167,\n",
       " 'Flying': -0.0256371108407674,\n",
       " 'Birthday Year': 0.00658283373869008,\n",
       " 'Birthday Month': -0.0020923359090941084}"
      ]
     },
     "execution_count": 31,
     "metadata": {},
     "output_type": "execute_result"
    }
   ],
   "source": [
    "\n",
    "feature_importance_slytherin"
   ]
  },
  {
   "cell_type": "code",
   "execution_count": 47,
   "metadata": {},
   "outputs": [
    {
     "name": "stderr",
     "output_type": "stream",
     "text": [
      "/tmp/ipykernel_498897/3415205265.py:1: FutureWarning:\n",
      "\n",
      "Series.__getitem__ treating keys as positions is deprecated. In a future version, integer keys will always be treated as labels (consistent with DataFrame behavior). To access a value by position, use `ser.iloc[pos]`\n",
      "\n",
      "/tmp/ipykernel_498897/3415205265.py:2: FutureWarning:\n",
      "\n",
      "Series.__getitem__ treating keys as positions is deprecated. In a future version, integer keys will always be treated as labels (consistent with DataFrame behavior). To access a value by position, use `ser.iloc[pos]`\n",
      "\n",
      "/tmp/ipykernel_498897/3415205265.py:3: FutureWarning:\n",
      "\n",
      "Series.__getitem__ treating keys as positions is deprecated. In a future version, integer keys will always be treated as labels (consistent with DataFrame behavior). To access a value by position, use `ser.iloc[pos]`\n",
      "\n",
      "/tmp/ipykernel_498897/3415205265.py:4: FutureWarning:\n",
      "\n",
      "Series.__getitem__ treating keys as positions is deprecated. In a future version, integer keys will always be treated as labels (consistent with DataFrame behavior). To access a value by position, use `ser.iloc[pos]`\n",
      "\n"
     ]
    },
    {
     "data": {
      "text/html": [
       "<div>\n",
       "<style scoped>\n",
       "    .dataframe tbody tr th:only-of-type {\n",
       "        vertical-align: middle;\n",
       "    }\n",
       "\n",
       "    .dataframe tbody tr th {\n",
       "        vertical-align: top;\n",
       "    }\n",
       "\n",
       "    .dataframe thead th {\n",
       "        text-align: right;\n",
       "    }\n",
       "</style>\n",
       "<table border=\"1\" class=\"dataframe\">\n",
       "  <thead>\n",
       "    <tr style=\"text-align: right;\">\n",
       "      <th></th>\n",
       "      <th>House Slytherin</th>\n",
       "      <th>House Hufflepuff</th>\n",
       "      <th>House Gryffindor</th>\n",
       "      <th>House Ravenclaw</th>\n",
       "    </tr>\n",
       "  </thead>\n",
       "  <tbody>\n",
       "    <tr>\n",
       "      <th>Best Hand</th>\n",
       "      <td>-0.695172</td>\n",
       "      <td>2.267253</td>\n",
       "      <td>0.357343</td>\n",
       "      <td>-0.818459</td>\n",
       "    </tr>\n",
       "    <tr>\n",
       "      <th>Astronomy</th>\n",
       "      <td>-0.768501</td>\n",
       "      <td>1.868025</td>\n",
       "      <td>-0.553220</td>\n",
       "      <td>0.524066</td>\n",
       "    </tr>\n",
       "    <tr>\n",
       "      <th>Herbology</th>\n",
       "      <td>-1.210083</td>\n",
       "      <td>1.177106</td>\n",
       "      <td>0.218113</td>\n",
       "      <td>0.321702</td>\n",
       "    </tr>\n",
       "    <tr>\n",
       "      <th>Divination</th>\n",
       "      <td>-0.315821</td>\n",
       "      <td>-1.433226</td>\n",
       "      <td>-0.204900</td>\n",
       "      <td>1.149819</td>\n",
       "    </tr>\n",
       "    <tr>\n",
       "      <th>Muggle Studies</th>\n",
       "      <td>-0.503985</td>\n",
       "      <td>-2.270254</td>\n",
       "      <td>0.509749</td>\n",
       "      <td>0.848994</td>\n",
       "    </tr>\n",
       "    <tr>\n",
       "      <th>Ancient Runes</th>\n",
       "      <td>0.215765</td>\n",
       "      <td>1.134256</td>\n",
       "      <td>-0.806542</td>\n",
       "      <td>0.248458</td>\n",
       "    </tr>\n",
       "    <tr>\n",
       "      <th>History of Magic</th>\n",
       "      <td>0.252989</td>\n",
       "      <td>1.134203</td>\n",
       "      <td>-0.826798</td>\n",
       "      <td>0.250554</td>\n",
       "    </tr>\n",
       "    <tr>\n",
       "      <th>Transfiguration</th>\n",
       "      <td>0.680026</td>\n",
       "      <td>-0.807936</td>\n",
       "      <td>-0.397626</td>\n",
       "      <td>0.177264</td>\n",
       "    </tr>\n",
       "    <tr>\n",
       "      <th>Potions</th>\n",
       "      <td>-0.467051</td>\n",
       "      <td>-0.291939</td>\n",
       "      <td>-0.459506</td>\n",
       "      <td>1.100302</td>\n",
       "    </tr>\n",
       "    <tr>\n",
       "      <th>Charms</th>\n",
       "      <td>-0.554693</td>\n",
       "      <td>-0.740616</td>\n",
       "      <td>0.812487</td>\n",
       "      <td>-0.131577</td>\n",
       "    </tr>\n",
       "    <tr>\n",
       "      <th>Flying</th>\n",
       "      <td>-0.025637</td>\n",
       "      <td>-0.052548</td>\n",
       "      <td>-0.035300</td>\n",
       "      <td>0.113905</td>\n",
       "    </tr>\n",
       "    <tr>\n",
       "      <th>Birthday Year</th>\n",
       "      <td>0.006583</td>\n",
       "      <td>-0.022919</td>\n",
       "      <td>0.011205</td>\n",
       "      <td>-0.000313</td>\n",
       "    </tr>\n",
       "    <tr>\n",
       "      <th>Birthday Month</th>\n",
       "      <td>-0.002092</td>\n",
       "      <td>-0.013797</td>\n",
       "      <td>-0.002695</td>\n",
       "      <td>0.006624</td>\n",
       "    </tr>\n",
       "  </tbody>\n",
       "</table>\n",
       "</div>"
      ],
      "text/plain": [
       "                  House Slytherin  House Hufflepuff  House Gryffindor  \\\n",
       "Best Hand               -0.695172          2.267253          0.357343   \n",
       "Astronomy               -0.768501          1.868025         -0.553220   \n",
       "Herbology               -1.210083          1.177106          0.218113   \n",
       "Divination              -0.315821         -1.433226         -0.204900   \n",
       "Muggle Studies          -0.503985         -2.270254          0.509749   \n",
       "Ancient Runes            0.215765          1.134256         -0.806542   \n",
       "History of Magic         0.252989          1.134203         -0.826798   \n",
       "Transfiguration          0.680026         -0.807936         -0.397626   \n",
       "Potions                 -0.467051         -0.291939         -0.459506   \n",
       "Charms                  -0.554693         -0.740616          0.812487   \n",
       "Flying                  -0.025637         -0.052548         -0.035300   \n",
       "Birthday Year            0.006583         -0.022919          0.011205   \n",
       "Birthday Month          -0.002092         -0.013797         -0.002695   \n",
       "\n",
       "                  House Ravenclaw  \n",
       "Best Hand               -0.818459  \n",
       "Astronomy                0.524066  \n",
       "Herbology                0.321702  \n",
       "Divination               1.149819  \n",
       "Muggle Studies           0.848994  \n",
       "Ancient Runes            0.248458  \n",
       "History of Magic         0.250554  \n",
       "Transfiguration          0.177264  \n",
       "Potions                  1.100302  \n",
       "Charms                  -0.131577  \n",
       "Flying                   0.113905  \n",
       "Birthday Year           -0.000313  \n",
       "Birthday Month           0.006624  "
      ]
     },
     "execution_count": 47,
     "metadata": {},
     "output_type": "execute_result"
    }
   ],
   "source": [
    "feature_importance_s = {X.columns[i]: sorting_hat.logreg_s.weights[i] for i in range(X.shape[1])}\n",
    "feature_importance_h = {X.columns[i]: sorting_hat.logreg_h.weights[i] for i in range(X.shape[1])}\n",
    "feature_importance_g = {X.columns[i]: sorting_hat.logreg_g.weights[i] for i in range(X.shape[1])}\n",
    "feature_importance_r = {X.columns[i]: sorting_hat.logreg_r.weights[i] for i in range(X.shape[1])}\n",
    "feature_importance = pd.DataFrame([feature_importance_s, feature_importance_h, feature_importance_g, feature_importance_r],\n",
    "                                  index=['House Slytherin', 'House Hufflepuff', 'House Gryffindor', 'House Ravenclaw']).T\n",
    "feature_importance"
   ]
  },
  {
   "cell_type": "code",
   "execution_count": 48,
   "metadata": {},
   "outputs": [
    {
     "data": {
      "application/vnd.plotly.v1+json": {
       "config": {
        "plotlyServerURL": "https://plot.ly"
       },
       "data": [
        {
         "alignmentgroup": "True",
         "hovertemplate": "variable=House Slytherin<br>index=%{x}<br>value=%{y}<extra></extra>",
         "legendgroup": "House Slytherin",
         "marker": {
          "color": "#636efa",
          "pattern": {
           "shape": ""
          }
         },
         "name": "House Slytherin",
         "offsetgroup": "House Slytherin",
         "orientation": "v",
         "showlegend": true,
         "textposition": "auto",
         "type": "bar",
         "x": [
          "Best Hand",
          "Astronomy",
          "Herbology",
          "Divination",
          "Muggle Studies",
          "Ancient Runes",
          "History of Magic",
          "Transfiguration",
          "Potions",
          "Charms",
          "Flying",
          "Birthday Year",
          "Birthday Month"
         ],
         "xaxis": "x",
         "y": [
          -0.6951720520307669,
          -0.7685009266808761,
          -1.2100826144813663,
          -0.3158209210039229,
          -0.5039847447496633,
          0.21576539754227397,
          0.2529889007283751,
          0.6800258771220543,
          -0.46705116726158985,
          -0.5546934203391167,
          -0.0256371108407674,
          0.00658283373869008,
          -0.0020923359090941084
         ],
         "yaxis": "y"
        },
        {
         "alignmentgroup": "True",
         "hovertemplate": "variable=House Hufflepuff<br>index=%{x}<br>value=%{y}<extra></extra>",
         "legendgroup": "House Hufflepuff",
         "marker": {
          "color": "#EF553B",
          "pattern": {
           "shape": ""
          }
         },
         "name": "House Hufflepuff",
         "offsetgroup": "House Hufflepuff",
         "orientation": "v",
         "showlegend": true,
         "textposition": "auto",
         "type": "bar",
         "x": [
          "Best Hand",
          "Astronomy",
          "Herbology",
          "Divination",
          "Muggle Studies",
          "Ancient Runes",
          "History of Magic",
          "Transfiguration",
          "Potions",
          "Charms",
          "Flying",
          "Birthday Year",
          "Birthday Month"
         ],
         "xaxis": "x",
         "y": [
          2.2672531189923966,
          1.8680246243686673,
          1.1771063144936125,
          -1.433226488167788,
          -2.2702537319317924,
          1.1342559791963465,
          1.1342026511215515,
          -0.8079357160019391,
          -0.2919392468818178,
          -0.740616432355507,
          -0.05254847972426869,
          -0.022918584354801656,
          -0.013796739548862434
         ],
         "yaxis": "y"
        },
        {
         "alignmentgroup": "True",
         "hovertemplate": "variable=House Gryffindor<br>index=%{x}<br>value=%{y}<extra></extra>",
         "legendgroup": "House Gryffindor",
         "marker": {
          "color": "#00cc96",
          "pattern": {
           "shape": ""
          }
         },
         "name": "House Gryffindor",
         "offsetgroup": "House Gryffindor",
         "orientation": "v",
         "showlegend": true,
         "textposition": "auto",
         "type": "bar",
         "x": [
          "Best Hand",
          "Astronomy",
          "Herbology",
          "Divination",
          "Muggle Studies",
          "Ancient Runes",
          "History of Magic",
          "Transfiguration",
          "Potions",
          "Charms",
          "Flying",
          "Birthday Year",
          "Birthday Month"
         ],
         "xaxis": "x",
         "y": [
          0.3573430764585056,
          -0.5532201152931756,
          0.21811283384340094,
          -0.20490006553352047,
          0.5097487077326258,
          -0.8065424444673553,
          -0.8267984943140267,
          -0.3976255963891006,
          -0.45950614837492143,
          0.81248651266482,
          -0.035299966629112146,
          0.01120462346494351,
          -0.002694620068556717
         ],
         "yaxis": "y"
        },
        {
         "alignmentgroup": "True",
         "hovertemplate": "variable=House Ravenclaw<br>index=%{x}<br>value=%{y}<extra></extra>",
         "legendgroup": "House Ravenclaw",
         "marker": {
          "color": "#ab63fa",
          "pattern": {
           "shape": ""
          }
         },
         "name": "House Ravenclaw",
         "offsetgroup": "House Ravenclaw",
         "orientation": "v",
         "showlegend": true,
         "textposition": "auto",
         "type": "bar",
         "x": [
          "Best Hand",
          "Astronomy",
          "Herbology",
          "Divination",
          "Muggle Studies",
          "Ancient Runes",
          "History of Magic",
          "Transfiguration",
          "Potions",
          "Charms",
          "Flying",
          "Birthday Year",
          "Birthday Month"
         ],
         "xaxis": "x",
         "y": [
          -0.81845891479273,
          0.5240661080321443,
          0.32170171950140053,
          1.149818518868525,
          0.8489944067537434,
          0.24845828652848195,
          0.25055396840077165,
          0.17726422188662203,
          1.100302328881124,
          -0.13157695341097939,
          0.1139045631037356,
          -0.00031316612336243147,
          0.006623960710208874
         ],
         "yaxis": "y"
        }
       ],
       "layout": {
        "barmode": "relative",
        "legend": {
         "title": {
          "text": "variable"
         },
         "tracegroupgap": 0
        },
        "margin": {
         "t": 60
        },
        "template": {
         "data": {
          "bar": [
           {
            "error_x": {
             "color": "#2a3f5f"
            },
            "error_y": {
             "color": "#2a3f5f"
            },
            "marker": {
             "line": {
              "color": "#E5ECF6",
              "width": 0.5
             },
             "pattern": {
              "fillmode": "overlay",
              "size": 10,
              "solidity": 0.2
             }
            },
            "type": "bar"
           }
          ],
          "barpolar": [
           {
            "marker": {
             "line": {
              "color": "#E5ECF6",
              "width": 0.5
             },
             "pattern": {
              "fillmode": "overlay",
              "size": 10,
              "solidity": 0.2
             }
            },
            "type": "barpolar"
           }
          ],
          "carpet": [
           {
            "aaxis": {
             "endlinecolor": "#2a3f5f",
             "gridcolor": "white",
             "linecolor": "white",
             "minorgridcolor": "white",
             "startlinecolor": "#2a3f5f"
            },
            "baxis": {
             "endlinecolor": "#2a3f5f",
             "gridcolor": "white",
             "linecolor": "white",
             "minorgridcolor": "white",
             "startlinecolor": "#2a3f5f"
            },
            "type": "carpet"
           }
          ],
          "choropleth": [
           {
            "colorbar": {
             "outlinewidth": 0,
             "ticks": ""
            },
            "type": "choropleth"
           }
          ],
          "contour": [
           {
            "colorbar": {
             "outlinewidth": 0,
             "ticks": ""
            },
            "colorscale": [
             [
              0,
              "#0d0887"
             ],
             [
              0.1111111111111111,
              "#46039f"
             ],
             [
              0.2222222222222222,
              "#7201a8"
             ],
             [
              0.3333333333333333,
              "#9c179e"
             ],
             [
              0.4444444444444444,
              "#bd3786"
             ],
             [
              0.5555555555555556,
              "#d8576b"
             ],
             [
              0.6666666666666666,
              "#ed7953"
             ],
             [
              0.7777777777777778,
              "#fb9f3a"
             ],
             [
              0.8888888888888888,
              "#fdca26"
             ],
             [
              1,
              "#f0f921"
             ]
            ],
            "type": "contour"
           }
          ],
          "contourcarpet": [
           {
            "colorbar": {
             "outlinewidth": 0,
             "ticks": ""
            },
            "type": "contourcarpet"
           }
          ],
          "heatmap": [
           {
            "colorbar": {
             "outlinewidth": 0,
             "ticks": ""
            },
            "colorscale": [
             [
              0,
              "#0d0887"
             ],
             [
              0.1111111111111111,
              "#46039f"
             ],
             [
              0.2222222222222222,
              "#7201a8"
             ],
             [
              0.3333333333333333,
              "#9c179e"
             ],
             [
              0.4444444444444444,
              "#bd3786"
             ],
             [
              0.5555555555555556,
              "#d8576b"
             ],
             [
              0.6666666666666666,
              "#ed7953"
             ],
             [
              0.7777777777777778,
              "#fb9f3a"
             ],
             [
              0.8888888888888888,
              "#fdca26"
             ],
             [
              1,
              "#f0f921"
             ]
            ],
            "type": "heatmap"
           }
          ],
          "heatmapgl": [
           {
            "colorbar": {
             "outlinewidth": 0,
             "ticks": ""
            },
            "colorscale": [
             [
              0,
              "#0d0887"
             ],
             [
              0.1111111111111111,
              "#46039f"
             ],
             [
              0.2222222222222222,
              "#7201a8"
             ],
             [
              0.3333333333333333,
              "#9c179e"
             ],
             [
              0.4444444444444444,
              "#bd3786"
             ],
             [
              0.5555555555555556,
              "#d8576b"
             ],
             [
              0.6666666666666666,
              "#ed7953"
             ],
             [
              0.7777777777777778,
              "#fb9f3a"
             ],
             [
              0.8888888888888888,
              "#fdca26"
             ],
             [
              1,
              "#f0f921"
             ]
            ],
            "type": "heatmapgl"
           }
          ],
          "histogram": [
           {
            "marker": {
             "pattern": {
              "fillmode": "overlay",
              "size": 10,
              "solidity": 0.2
             }
            },
            "type": "histogram"
           }
          ],
          "histogram2d": [
           {
            "colorbar": {
             "outlinewidth": 0,
             "ticks": ""
            },
            "colorscale": [
             [
              0,
              "#0d0887"
             ],
             [
              0.1111111111111111,
              "#46039f"
             ],
             [
              0.2222222222222222,
              "#7201a8"
             ],
             [
              0.3333333333333333,
              "#9c179e"
             ],
             [
              0.4444444444444444,
              "#bd3786"
             ],
             [
              0.5555555555555556,
              "#d8576b"
             ],
             [
              0.6666666666666666,
              "#ed7953"
             ],
             [
              0.7777777777777778,
              "#fb9f3a"
             ],
             [
              0.8888888888888888,
              "#fdca26"
             ],
             [
              1,
              "#f0f921"
             ]
            ],
            "type": "histogram2d"
           }
          ],
          "histogram2dcontour": [
           {
            "colorbar": {
             "outlinewidth": 0,
             "ticks": ""
            },
            "colorscale": [
             [
              0,
              "#0d0887"
             ],
             [
              0.1111111111111111,
              "#46039f"
             ],
             [
              0.2222222222222222,
              "#7201a8"
             ],
             [
              0.3333333333333333,
              "#9c179e"
             ],
             [
              0.4444444444444444,
              "#bd3786"
             ],
             [
              0.5555555555555556,
              "#d8576b"
             ],
             [
              0.6666666666666666,
              "#ed7953"
             ],
             [
              0.7777777777777778,
              "#fb9f3a"
             ],
             [
              0.8888888888888888,
              "#fdca26"
             ],
             [
              1,
              "#f0f921"
             ]
            ],
            "type": "histogram2dcontour"
           }
          ],
          "mesh3d": [
           {
            "colorbar": {
             "outlinewidth": 0,
             "ticks": ""
            },
            "type": "mesh3d"
           }
          ],
          "parcoords": [
           {
            "line": {
             "colorbar": {
              "outlinewidth": 0,
              "ticks": ""
             }
            },
            "type": "parcoords"
           }
          ],
          "pie": [
           {
            "automargin": true,
            "type": "pie"
           }
          ],
          "scatter": [
           {
            "fillpattern": {
             "fillmode": "overlay",
             "size": 10,
             "solidity": 0.2
            },
            "type": "scatter"
           }
          ],
          "scatter3d": [
           {
            "line": {
             "colorbar": {
              "outlinewidth": 0,
              "ticks": ""
             }
            },
            "marker": {
             "colorbar": {
              "outlinewidth": 0,
              "ticks": ""
             }
            },
            "type": "scatter3d"
           }
          ],
          "scattercarpet": [
           {
            "marker": {
             "colorbar": {
              "outlinewidth": 0,
              "ticks": ""
             }
            },
            "type": "scattercarpet"
           }
          ],
          "scattergeo": [
           {
            "marker": {
             "colorbar": {
              "outlinewidth": 0,
              "ticks": ""
             }
            },
            "type": "scattergeo"
           }
          ],
          "scattergl": [
           {
            "marker": {
             "colorbar": {
              "outlinewidth": 0,
              "ticks": ""
             }
            },
            "type": "scattergl"
           }
          ],
          "scattermapbox": [
           {
            "marker": {
             "colorbar": {
              "outlinewidth": 0,
              "ticks": ""
             }
            },
            "type": "scattermapbox"
           }
          ],
          "scatterpolar": [
           {
            "marker": {
             "colorbar": {
              "outlinewidth": 0,
              "ticks": ""
             }
            },
            "type": "scatterpolar"
           }
          ],
          "scatterpolargl": [
           {
            "marker": {
             "colorbar": {
              "outlinewidth": 0,
              "ticks": ""
             }
            },
            "type": "scatterpolargl"
           }
          ],
          "scatterternary": [
           {
            "marker": {
             "colorbar": {
              "outlinewidth": 0,
              "ticks": ""
             }
            },
            "type": "scatterternary"
           }
          ],
          "surface": [
           {
            "colorbar": {
             "outlinewidth": 0,
             "ticks": ""
            },
            "colorscale": [
             [
              0,
              "#0d0887"
             ],
             [
              0.1111111111111111,
              "#46039f"
             ],
             [
              0.2222222222222222,
              "#7201a8"
             ],
             [
              0.3333333333333333,
              "#9c179e"
             ],
             [
              0.4444444444444444,
              "#bd3786"
             ],
             [
              0.5555555555555556,
              "#d8576b"
             ],
             [
              0.6666666666666666,
              "#ed7953"
             ],
             [
              0.7777777777777778,
              "#fb9f3a"
             ],
             [
              0.8888888888888888,
              "#fdca26"
             ],
             [
              1,
              "#f0f921"
             ]
            ],
            "type": "surface"
           }
          ],
          "table": [
           {
            "cells": {
             "fill": {
              "color": "#EBF0F8"
             },
             "line": {
              "color": "white"
             }
            },
            "header": {
             "fill": {
              "color": "#C8D4E3"
             },
             "line": {
              "color": "white"
             }
            },
            "type": "table"
           }
          ]
         },
         "layout": {
          "annotationdefaults": {
           "arrowcolor": "#2a3f5f",
           "arrowhead": 0,
           "arrowwidth": 1
          },
          "autotypenumbers": "strict",
          "coloraxis": {
           "colorbar": {
            "outlinewidth": 0,
            "ticks": ""
           }
          },
          "colorscale": {
           "diverging": [
            [
             0,
             "#8e0152"
            ],
            [
             0.1,
             "#c51b7d"
            ],
            [
             0.2,
             "#de77ae"
            ],
            [
             0.3,
             "#f1b6da"
            ],
            [
             0.4,
             "#fde0ef"
            ],
            [
             0.5,
             "#f7f7f7"
            ],
            [
             0.6,
             "#e6f5d0"
            ],
            [
             0.7,
             "#b8e186"
            ],
            [
             0.8,
             "#7fbc41"
            ],
            [
             0.9,
             "#4d9221"
            ],
            [
             1,
             "#276419"
            ]
           ],
           "sequential": [
            [
             0,
             "#0d0887"
            ],
            [
             0.1111111111111111,
             "#46039f"
            ],
            [
             0.2222222222222222,
             "#7201a8"
            ],
            [
             0.3333333333333333,
             "#9c179e"
            ],
            [
             0.4444444444444444,
             "#bd3786"
            ],
            [
             0.5555555555555556,
             "#d8576b"
            ],
            [
             0.6666666666666666,
             "#ed7953"
            ],
            [
             0.7777777777777778,
             "#fb9f3a"
            ],
            [
             0.8888888888888888,
             "#fdca26"
            ],
            [
             1,
             "#f0f921"
            ]
           ],
           "sequentialminus": [
            [
             0,
             "#0d0887"
            ],
            [
             0.1111111111111111,
             "#46039f"
            ],
            [
             0.2222222222222222,
             "#7201a8"
            ],
            [
             0.3333333333333333,
             "#9c179e"
            ],
            [
             0.4444444444444444,
             "#bd3786"
            ],
            [
             0.5555555555555556,
             "#d8576b"
            ],
            [
             0.6666666666666666,
             "#ed7953"
            ],
            [
             0.7777777777777778,
             "#fb9f3a"
            ],
            [
             0.8888888888888888,
             "#fdca26"
            ],
            [
             1,
             "#f0f921"
            ]
           ]
          },
          "colorway": [
           "#636efa",
           "#EF553B",
           "#00cc96",
           "#ab63fa",
           "#FFA15A",
           "#19d3f3",
           "#FF6692",
           "#B6E880",
           "#FF97FF",
           "#FECB52"
          ],
          "font": {
           "color": "#2a3f5f"
          },
          "geo": {
           "bgcolor": "white",
           "lakecolor": "white",
           "landcolor": "#E5ECF6",
           "showlakes": true,
           "showland": true,
           "subunitcolor": "white"
          },
          "hoverlabel": {
           "align": "left"
          },
          "hovermode": "closest",
          "mapbox": {
           "style": "light"
          },
          "paper_bgcolor": "white",
          "plot_bgcolor": "#E5ECF6",
          "polar": {
           "angularaxis": {
            "gridcolor": "white",
            "linecolor": "white",
            "ticks": ""
           },
           "bgcolor": "#E5ECF6",
           "radialaxis": {
            "gridcolor": "white",
            "linecolor": "white",
            "ticks": ""
           }
          },
          "scene": {
           "xaxis": {
            "backgroundcolor": "#E5ECF6",
            "gridcolor": "white",
            "gridwidth": 2,
            "linecolor": "white",
            "showbackground": true,
            "ticks": "",
            "zerolinecolor": "white"
           },
           "yaxis": {
            "backgroundcolor": "#E5ECF6",
            "gridcolor": "white",
            "gridwidth": 2,
            "linecolor": "white",
            "showbackground": true,
            "ticks": "",
            "zerolinecolor": "white"
           },
           "zaxis": {
            "backgroundcolor": "#E5ECF6",
            "gridcolor": "white",
            "gridwidth": 2,
            "linecolor": "white",
            "showbackground": true,
            "ticks": "",
            "zerolinecolor": "white"
           }
          },
          "shapedefaults": {
           "line": {
            "color": "#2a3f5f"
           }
          },
          "ternary": {
           "aaxis": {
            "gridcolor": "white",
            "linecolor": "white",
            "ticks": ""
           },
           "baxis": {
            "gridcolor": "white",
            "linecolor": "white",
            "ticks": ""
           },
           "bgcolor": "#E5ECF6",
           "caxis": {
            "gridcolor": "white",
            "linecolor": "white",
            "ticks": ""
           }
          },
          "title": {
           "x": 0.05
          },
          "xaxis": {
           "automargin": true,
           "gridcolor": "white",
           "linecolor": "white",
           "ticks": "",
           "title": {
            "standoff": 15
           },
           "zerolinecolor": "white",
           "zerolinewidth": 2
          },
          "yaxis": {
           "automargin": true,
           "gridcolor": "white",
           "linecolor": "white",
           "ticks": "",
           "title": {
            "standoff": 15
           },
           "zerolinecolor": "white",
           "zerolinewidth": 2
          }
         }
        },
        "xaxis": {
         "anchor": "y",
         "domain": [
          0,
          1
         ],
         "title": {
          "text": "index"
         }
        },
        "yaxis": {
         "anchor": "x",
         "domain": [
          0,
          1
         ],
         "title": {
          "text": "value"
         }
        }
       }
      }
     },
     "metadata": {},
     "output_type": "display_data"
    }
   ],
   "source": [
    "px.bar(feature_importance)"
   ]
  }
 ],
 "metadata": {
  "kernelspec": {
   "display_name": "Python 3",
   "language": "python",
   "name": "python3"
  },
  "language_info": {
   "codemirror_mode": {
    "name": "ipython",
    "version": 3
   },
   "file_extension": ".py",
   "mimetype": "text/x-python",
   "name": "python",
   "nbconvert_exporter": "python",
   "pygments_lexer": "ipython3",
   "version": "3.10.14"
  }
 },
 "nbformat": 4,
 "nbformat_minor": 2
}
